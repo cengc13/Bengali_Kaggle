{
 "cells": [
  {
   "cell_type": "code",
   "execution_count": 1,
   "metadata": {
    "_cell_guid": "b1076dfc-b9ad-4769-8c92-a6c4dae69d19",
    "_uuid": "8f2839f25d086af736a60e9eeb907d3b93b6e0e5",
    "colab": {
     "base_uri": "https://localhost:8080/",
     "height": 341
    },
    "colab_type": "code",
    "executionInfo": {
     "elapsed": 367,
     "status": "ok",
     "timestamp": 1582329109435,
     "user": {
      "displayName": "Cheng Zeng",
      "photoUrl": "https://lh3.googleusercontent.com/a-/AAuE7mAiU7JcjKNZ4T2V2rZ92UhSJxBQzJxHgDdPy0KPpg=s64",
      "userId": "16792962723532587232"
     },
     "user_tz": 300
    },
    "id": "vmYpPfCWeSqo",
    "outputId": "aea48d9c-c1ef-446e-c675-96d87f3b433d"
   },
   "outputs": [],
   "source": [
    "# %tensorflow_version 2.x \n",
    "# On Colab, need this to specify tensorflow version\n",
    "import numpy as np\n",
    "import pandas as pd \n",
    "from tqdm.auto import tqdm\n",
    "from glob import glob\n",
    "import time, gc, sys\n",
    "import cv2\n",
    "\n",
    "sys.path.append(\"../tools/\")\n",
    "from helpers import (get_n, get_dummies, resize, plot_loss,\n",
    "                     MultiOutputDataGenerator, plot_acc,\n",
    "                    image_from_char)"
   ]
  },
  {
   "cell_type": "code",
   "execution_count": 2,
   "metadata": {
    "_cell_guid": "b1076dfc-b9ad-4769-8c92-a6c4dae69d19",
    "_uuid": "8f2839f25d086af736a60e9eeb907d3b93b6e0e5",
    "colab": {
     "base_uri": "https://localhost:8080/",
     "height": 341
    },
    "colab_type": "code",
    "executionInfo": {
     "elapsed": 367,
     "status": "ok",
     "timestamp": 1582329109435,
     "user": {
      "displayName": "Cheng Zeng",
      "photoUrl": "https://lh3.googleusercontent.com/a-/AAuE7mAiU7JcjKNZ4T2V2rZ92UhSJxBQzJxHgDdPy0KPpg=s64",
      "userId": "16792962723532587232"
     },
     "user_tz": 300
    },
    "id": "vmYpPfCWeSqo",
    "outputId": "aea48d9c-c1ef-446e-c675-96d87f3b433d"
   },
   "outputs": [],
   "source": [
    "from tensorflow import keras\n",
    "import tensorflow as tf\n",
    "from tensorflow.keras.preprocessing.image import ImageDataGenerator\n",
    "from tensorflow.keras.models import Model\n",
    "from tensorflow.keras.layers import Dense, Conv2D, Flatten, Input, Activation, Concatenate\n",
    "from tensorflow.keras.layers import MaxPool2D, AveragePooling2D, GlobalAveragePooling2D\n",
    "from tensorflow.keras.layers import Dropout, BatchNormalization\n",
    "from tensorflow.keras.optimizers import Adam\n",
    "from tensorflow.keras.callbacks import ReduceLROnPlateau, ModelCheckpoint, EarlyStopping\n",
    "from tensorflow.keras.initializers import RandomNormal\n",
    "from tensorflow.keras.applications import DenseNet121\n",
    "from sklearn.model_selection import train_test_split\n",
    "from sklearn.metrics import confusion_matrix\n",
    "import PIL.Image as Image, PIL.ImageDraw as ImageDraw, PIL.ImageFont as ImageFont\n",
    "from matplotlib import pyplot as plt\n",
    "import seaborn as sns\n",
    "%matplotlib inline"
   ]
  },
  {
   "cell_type": "code",
   "execution_count": 3,
   "metadata": {
    "_cell_guid": "b1076dfc-b9ad-4769-8c92-a6c4dae69d19",
    "_uuid": "8f2839f25d086af736a60e9eeb907d3b93b6e0e5",
    "colab": {
     "base_uri": "https://localhost:8080/",
     "height": 341
    },
    "colab_type": "code",
    "executionInfo": {
     "elapsed": 367,
     "status": "ok",
     "timestamp": 1582329109435,
     "user": {
      "displayName": "Cheng Zeng",
      "photoUrl": "https://lh3.googleusercontent.com/a-/AAuE7mAiU7JcjKNZ4T2V2rZ92UhSJxBQzJxHgDdPy0KPpg=s64",
      "userId": "16792962723532587232"
     },
     "user_tz": 300
    },
    "id": "vmYpPfCWeSqo",
    "outputId": "aea48d9c-c1ef-446e-c675-96d87f3b433d"
   },
   "outputs": [
    {
     "name": "stdout",
     "output_type": "stream",
     "text": [
      "../../data/test_image_data_3.parquet\n",
      "../../data/train.csv\n",
      "../../data/test_image_data_1.parquet\n",
      "../../data/train_image_data_2.parquet\n",
      "../../data/train_image_data_3.parquet\n",
      "../../data/test_image_data_2.parquet\n",
      "../../data/test_image_data_0.parquet\n",
      "../../data/train_image_data_0.parquet\n",
      "../../data/class_map.csv\n",
      "../../data/test.csv\n",
      "../../data/train_image_data_1.parquet\n",
      "../../data/sample_submission.csv\n",
      "../../data/Kalpurush_Fonts/kalpurush-2.ttf\n"
     ]
    }
   ],
   "source": [
    "import os\n",
    "DATA_FOLDER = \"../../data/\"\n",
    "for dirname, _, filenames in os.walk(DATA_FOLDER):\n",
    "    for filename in filenames:\n",
    "        print(os.path.join(dirname, filename))"
   ]
  },
  {
   "cell_type": "code",
   "execution_count": 4,
   "metadata": {
    "_cell_guid": "79c7e3d0-c299-4dcb-8224-4455121ee9b0",
    "_uuid": "d629ff2d2480ee46fbb7e2d37f6b5fab8052498a",
    "colab": {},
    "colab_type": "code",
    "id": "FLCyFeHzeSqy"
   },
   "outputs": [],
   "source": [
    "train_df_ = pd.read_csv(DATA_FOLDER+'/train.csv')\n",
    "test_df_ = pd.read_csv(DATA_FOLDER + '/test.csv')\n",
    "class_map_df = pd.read_csv(DATA_FOLDER + '/class_map.csv')\n",
    "sample_sub_df = pd.read_csv(DATA_FOLDER + '/sample_submission.csv')"
   ]
  },
  {
   "cell_type": "markdown",
   "metadata": {
    "colab_type": "text",
    "id": "k0H3p2qQeSra"
   },
   "source": [
    "### Number of unique values"
   ]
  },
  {
   "cell_type": "code",
   "execution_count": 5,
   "metadata": {
    "colab": {
     "base_uri": "https://localhost:8080/",
     "height": 71
    },
    "colab_type": "code",
    "executionInfo": {
     "elapsed": 384,
     "status": "ok",
     "timestamp": 1582329118776,
     "user": {
      "displayName": "Cheng Zeng",
      "photoUrl": "https://lh3.googleusercontent.com/a-/AAuE7mAiU7JcjKNZ4T2V2rZ92UhSJxBQzJxHgDdPy0KPpg=s64",
      "userId": "16792962723532587232"
     },
     "user_tz": 300
    },
    "id": "_xA5fsiaeSrd",
    "outputId": "6815a8b2-e6c4-4430-cfc8-ee7e50764163"
   },
   "outputs": [
    {
     "name": "stdout",
     "output_type": "stream",
     "text": [
      "Number of unique grapheme roots: 168\n",
      "Number of unique vowel diacritic: 11\n",
      "Number of unique consonant diacritic: 7\n"
     ]
    }
   ],
   "source": [
    "print(f'Number of unique grapheme roots: {train_df_[\"grapheme_root\"].nunique()}')\n",
    "print(f'Number of unique vowel diacritic: {train_df_[\"vowel_diacritic\"].nunique()}')\n",
    "print(f'Number of unique consonant diacritic: {train_df_[\"consonant_diacritic\"].nunique()}')"
   ]
  },
  {
   "cell_type": "code",
   "execution_count": 6,
   "metadata": {
    "colab": {},
    "colab_type": "code",
    "id": "nMEu3e4weSsE"
   },
   "outputs": [],
   "source": [
    "train_df_ = train_df_.drop(['grapheme'], axis=1, inplace=False)"
   ]
  },
  {
   "cell_type": "code",
   "execution_count": 7,
   "metadata": {
    "colab": {},
    "colab_type": "code",
    "id": "QezeiQzoeSsI"
   },
   "outputs": [],
   "source": [
    "train_df_[['grapheme_root', 'vowel_diacritic', 'consonant_diacritic']] = train_df_[['grapheme_root', 'vowel_diacritic', 'consonant_diacritic']].astype('uint8')"
   ]
  },
  {
   "cell_type": "code",
   "execution_count": 8,
   "metadata": {
    "colab": {},
    "colab_type": "code",
    "id": "a4dcHvKyeSsL"
   },
   "outputs": [],
   "source": [
    "IMG_SIZE=64\n",
    "N_CHANNELS=1"
   ]
  },
  {
   "cell_type": "markdown",
   "metadata": {
    "colab_type": "text",
    "id": "7T-8Aa8xeSsW"
   },
   "source": [
    "## Basic Model"
   ]
  },
  {
   "cell_type": "code",
   "execution_count": 9,
   "metadata": {
    "colab": {},
    "colab_type": "code",
    "id": "IOlwgGTdn7jq"
   },
   "outputs": [],
   "source": [
    "def get_model(base_filters=32, nlevels=4, ncov=4, kernel_size=(3,3), \n",
    "              activation='relu', momentum=0.15, dropout_rate=0.3):\n",
    "  keras.backend.clear_session()\n",
    "  tf.random.set_seed(2040)\n",
    "  inputs = Input(shape = (IMG_SIZE, IMG_SIZE, 1))\n",
    "  if activation.lower() == 'leakyrelu':\n",
    "    activation = keras.layers.LeakyReLU(alpha=0.05)\n",
    "  \n",
    "  model = Conv2D(filters=base_filters, kernel_size=kernel_size, padding='SAME', \n",
    "                 activation=activation, \n",
    "                 input_shape=(IMG_SIZE, IMG_SIZE, 1))(inputs)\n",
    "  for _ in range(ncov-1):\n",
    "    model = Conv2D(filters=base_filters, kernel_size=kernel_size, padding='SAME', \n",
    "                   activation=activation)(model)\n",
    "  model = BatchNormalization(momentum=momentum)(model)\n",
    "  model = MaxPool2D(pool_size=(2, 2))(model)\n",
    "  model = Conv2D(filters=base_filters, kernel_size=(5, 5), padding='SAME',\n",
    "                 activation=activation)(model)\n",
    "  model = Dropout(rate=dropout_rate)(model)\n",
    "  for i in range(nlevels-1):\n",
    "    for _ in range(ncov):\n",
    "      model = Conv2D(filters=2**(i+1)*base_filters, kernel_size=kernel_size, \n",
    "                     padding='SAME', activation=activation)(model)\n",
    "    model = BatchNormalization(momentum=momentum)(model)\n",
    "    model = MaxPool2D(pool_size=(2, 2))(model)\n",
    "    model = Conv2D(filters=2**(i+1)*base_filters, kernel_size=(5, 5), \n",
    "                   padding='SAME', activation=activation)(model)\n",
    "    model = BatchNormalization(momentum=momentum)(model)\n",
    "    model = Dropout(rate=dropout_rate)(model)\n",
    "\n",
    "  model = Flatten()(model)\n",
    "  model = Dense(1024, activation = activation)(model)\n",
    "  model = Dropout(rate=0.3)(model)\n",
    "  dense = Dense(512, activation = activation)(model)\n",
    "\n",
    "  head_root = Dense(168, activation = 'softmax', name='root')(dense)\n",
    "  head_vowel = Dense(11, activation = 'softmax', name='vowel')(dense)\n",
    "  head_consonant = Dense(7, activation = 'softmax', name='consonant')(dense)\n",
    "\n",
    "  model = Model(inputs=inputs, outputs=[head_root, head_vowel, head_consonant])\n",
    "  return model"
   ]
  },
  {
   "cell_type": "code",
   "execution_count": 9,
   "metadata": {},
   "outputs": [],
   "source": [
    "def build_densenet(SIZE, rate=0.3):\n",
    "    densenet = DenseNet121(weights='imagenet', include_top=False)\n",
    "\n",
    "    input = Input(shape=(SIZE, SIZE, 1))\n",
    "    x = Conv2D(3, (3, 3), padding='same')(input)\n",
    "    \n",
    "    x = densenet(x)\n",
    "    \n",
    "    x = GlobalAveragePooling2D()(x)\n",
    "    x = BatchNormalization()(x)\n",
    "    x = Dropout(rate)(x)\n",
    "#     x = Dense(256, activation='relu')(x)\n",
    "    x = Dense(512, activation='relu')(x)\n",
    "    x = BatchNormalization()(x)\n",
    "    x = Dropout(rate)(x)\n",
    "\n",
    "    # multi output\n",
    "    grapheme_root = Dense(168, activation = 'softmax', name='root')(x)\n",
    "    vowel_diacritic = Dense(11, activation = 'softmax', name='vowel')(x)\n",
    "    consonant_diacritic = Dense(7, activation = 'softmax', name='consonant')(x)\n",
    "\n",
    "    # model\n",
    "    model = Model(inputs=input, outputs=[grapheme_root, vowel_diacritic, consonant_diacritic])\n",
    "    \n",
    "    return model"
   ]
  },
  {
   "cell_type": "code",
   "execution_count": 10,
   "metadata": {
    "colab": {
     "base_uri": "https://localhost:8080/",
     "height": 1000
    },
    "colab_type": "code",
    "executionInfo": {
     "elapsed": 1153,
     "status": "ok",
     "timestamp": 1582335575704,
     "user": {
      "displayName": "Cheng Zeng",
      "photoUrl": "https://lh3.googleusercontent.com/a-/AAuE7mAiU7JcjKNZ4T2V2rZ92UhSJxBQzJxHgDdPy0KPpg=s64",
      "userId": "16792962723532587232"
     },
     "user_tz": 300
    },
    "id": "-SlmTJZXeSsa",
    "outputId": "c5b11056-9ecb-48e5-fc0f-d61d4e3fd049"
   },
   "outputs": [
    {
     "name": "stdout",
     "output_type": "stream",
     "text": [
      "Model: \"model\"\n",
      "__________________________________________________________________________________________________\n",
      "Layer (type)                    Output Shape         Param #     Connected to                     \n",
      "==================================================================================================\n",
      "input_2 (InputLayer)            [(None, 64, 64, 1)]  0                                            \n",
      "__________________________________________________________________________________________________\n",
      "conv2d (Conv2D)                 (None, 64, 64, 3)    30          input_2[0][0]                    \n",
      "__________________________________________________________________________________________________\n",
      "densenet121 (Model)             multiple             7037504     conv2d[0][0]                     \n",
      "__________________________________________________________________________________________________\n",
      "global_average_pooling2d (Globa (None, 1024)         0           densenet121[1][0]                \n",
      "__________________________________________________________________________________________________\n",
      "batch_normalization (BatchNorma (None, 1024)         4096        global_average_pooling2d[0][0]   \n",
      "__________________________________________________________________________________________________\n",
      "dropout (Dropout)               (None, 1024)         0           batch_normalization[0][0]        \n",
      "__________________________________________________________________________________________________\n",
      "dense (Dense)                   (None, 512)          524800      dropout[0][0]                    \n",
      "__________________________________________________________________________________________________\n",
      "batch_normalization_1 (BatchNor (None, 512)          2048        dense[0][0]                      \n",
      "__________________________________________________________________________________________________\n",
      "dropout_1 (Dropout)             (None, 512)          0           batch_normalization_1[0][0]      \n",
      "__________________________________________________________________________________________________\n",
      "root (Dense)                    (None, 168)          86184       dropout_1[0][0]                  \n",
      "__________________________________________________________________________________________________\n",
      "vowel (Dense)                   (None, 11)           5643        dropout_1[0][0]                  \n",
      "__________________________________________________________________________________________________\n",
      "consonant (Dense)               (None, 7)            3591        dropout_1[0][0]                  \n",
      "==================================================================================================\n",
      "Total params: 7,663,896\n",
      "Trainable params: 7,577,176\n",
      "Non-trainable params: 86,720\n",
      "__________________________________________________________________________________________________\n"
     ]
    }
   ],
   "source": [
    "# model = get_model(base_filters=32, activation='relu', nlevels=4, ncov=4,\n",
    "#                   kernel_size=(3,3))\n",
    "# model = build_densenet(SIZE=64, rate=0.3)\n",
    "model = keras.models.load_model(\"dense121-3.h5\")\n",
    "model.summary()"
   ]
  },
  {
   "cell_type": "code",
   "execution_count": 11,
   "metadata": {
    "colab": {},
    "colab_type": "code",
    "id": "6_axgT6weSsj"
   },
   "outputs": [],
   "source": [
    "# from tensorflow.keras.utils import plot_model\n",
    "# plot_model(model, to_file='model.png');"
   ]
  },
  {
   "cell_type": "code",
   "execution_count": 12,
   "metadata": {
    "colab": {},
    "colab_type": "code",
    "id": "h7JrCyVueSsn"
   },
   "outputs": [],
   "source": [
    "# weights = {'root': 0.333, 'vowel': 0.333, 'consonant':0.333}\n",
    "# # lr = 1e-3\n",
    "# # opt = keras.optimizers.RMSprop(learning_rate=lr, rho=0.9)\n",
    "# model.compile(optimizer=Adam(lr=0.002), loss='categorical_crossentropy', \n",
    "#               loss_weights=weights, metrics=['accuracy'])"
   ]
  },
  {
   "cell_type": "code",
   "execution_count": 16,
   "metadata": {
    "colab": {},
    "colab_type": "code",
    "id": "LeiKH3tMeSsp"
   },
   "outputs": [],
   "source": [
    "# Learning rate will be half after 3 epochs if accuracy is not increased\n",
    "lr_scheduler = []\n",
    "targets = ['root', 'vowel', 'consonant']\n",
    "for target in targets:\n",
    "    lr_scheduler.append(ReduceLROnPlateau(monitor=f'{target}_accuracy', \n",
    "                                            patience=3,\n",
    "                                            verbose=1,\n",
    "                                            factor=0.5, \n",
    "                                            min_lr=0.00001))\n",
    "\n",
    "# Callback : Save best model\n",
    "cp = ModelCheckpoint('dense121-4.h5',\n",
    "                           monitor = 'val_root_accuracy',\n",
    "                           save_best_only = True,\n",
    "                           save_weights_only = False,\n",
    "                           mode = 'auto',\n",
    "#                            save_freq = 1,\n",
    "                           verbose = 0)\n",
    "# Callback : Early Stop\n",
    "es = EarlyStopping(monitor='val_root_accuracy',\n",
    "                          mode = 'auto',\n",
    "                          patience = 4,\n",
    "                          min_delta = 0,\n",
    "                          verbose = 1)\n",
    "\n",
    "cb = [*lr_scheduler, cp]"
   ]
  },
  {
   "cell_type": "code",
   "execution_count": 17,
   "metadata": {
    "colab": {},
    "colab_type": "code",
    "id": "RxFESkKCeSss"
   },
   "outputs": [],
   "source": [
    "batch_size = 256\n",
    "epochs = 80"
   ]
  },
  {
   "cell_type": "code",
   "execution_count": 18,
   "metadata": {
    "colab": {},
    "colab_type": "code",
    "id": "DL_2YEYTeSs3"
   },
   "outputs": [],
   "source": [
    "HEIGHT = 137\n",
    "WIDTH = 236"
   ]
  },
  {
   "cell_type": "code",
   "execution_count": 19,
   "metadata": {},
   "outputs": [
    {
     "data": {
      "application/vnd.jupyter.widget-view+json": {
       "model_id": "b5cf5a04cb0f434dbedb66fb8ced865b",
       "version_major": 2,
       "version_minor": 0
      },
      "text/plain": [
       "HBox(children=(FloatProgress(value=0.0, max=50210.0), HTML(value='')))"
      ]
     },
     "metadata": {},
     "output_type": "display_data"
    },
    {
     "name": "stdout",
     "output_type": "stream",
     "text": [
      "\n",
      "WARNING:tensorflow:sample_weight modes were coerced from\n",
      "  {'root': '...', 'vowel': '...', 'consonant': '...'}\n",
      "    to  \n",
      "  ['...', '...', '...']\n",
      "Train for 180 steps, validate on 4017 samples\n",
      "Epoch 1/80\n",
      "180/180 [==============================] - 36s 198ms/step - loss: 0.1872 - root_loss: 0.2832 - vowel_loss: 0.1277 - consonant_loss: 0.0976 - root_accuracy: 0.9234 - vowel_accuracy: 0.9653 - consonant_accuracy: 0.9733 - val_loss: 0.1212 - val_root_loss: 0.1885 - val_vowel_loss: 0.0705 - val_consonant_loss: 0.0484 - val_root_accuracy: 0.9465 - val_vowel_accuracy: 0.9818 - val_consonant_accuracy: 0.9863\n",
      "Epoch 2/80\n",
      "180/180 [==============================] - 29s 159ms/step - loss: 0.1863 - root_loss: 0.2865 - vowel_loss: 0.1258 - consonant_loss: 0.0918 - root_accuracy: 0.9229 - vowel_accuracy: 0.9638 - consonant_accuracy: 0.9745 - val_loss: 0.1204 - val_root_loss: 0.1871 - val_vowel_loss: 0.0694 - val_consonant_loss: 0.0476 - val_root_accuracy: 0.9480 - val_vowel_accuracy: 0.9823 - val_consonant_accuracy: 0.9861\n",
      "Epoch 3/80\n",
      "180/180 [==============================] - 27s 150ms/step - loss: 0.1823 - root_loss: 0.2752 - vowel_loss: 0.1238 - consonant_loss: 0.0936 - root_accuracy: 0.9250 - vowel_accuracy: 0.9660 - consonant_accuracy: 0.9738 - val_loss: 0.1194 - val_root_loss: 0.1846 - val_vowel_loss: 0.0694 - val_consonant_loss: 0.0471 - val_root_accuracy: 0.9477 - val_vowel_accuracy: 0.9821 - val_consonant_accuracy: 0.9868\n",
      "Epoch 4/80\n",
      "180/180 [==============================] - 27s 150ms/step - loss: 0.1797 - root_loss: 0.2714 - vowel_loss: 0.1223 - consonant_loss: 0.0910 - root_accuracy: 0.9267 - vowel_accuracy: 0.9671 - consonant_accuracy: 0.9742 - val_loss: 0.1201 - val_root_loss: 0.1849 - val_vowel_loss: 0.0705 - val_consonant_loss: 0.0481 - val_root_accuracy: 0.9465 - val_vowel_accuracy: 0.9816 - val_consonant_accuracy: 0.9861\n",
      "Epoch 5/80\n",
      "180/180 [==============================] - 27s 150ms/step - loss: 0.1787 - root_loss: 0.2684 - vowel_loss: 0.1245 - consonant_loss: 0.0893 - root_accuracy: 0.9274 - vowel_accuracy: 0.9654 - consonant_accuracy: 0.9747 - val_loss: 0.1184 - val_root_loss: 0.1817 - val_vowel_loss: 0.0691 - val_consonant_loss: 0.0479 - val_root_accuracy: 0.9475 - val_vowel_accuracy: 0.9826 - val_consonant_accuracy: 0.9863\n",
      "Epoch 6/80\n",
      "180/180 [==============================] - 28s 155ms/step - loss: 0.1804 - root_loss: 0.2712 - vowel_loss: 0.1246 - consonant_loss: 0.0910 - root_accuracy: 0.9249 - vowel_accuracy: 0.9658 - consonant_accuracy: 0.9744 - val_loss: 0.1190 - val_root_loss: 0.1834 - val_vowel_loss: 0.0700 - val_consonant_loss: 0.0475 - val_root_accuracy: 0.9485 - val_vowel_accuracy: 0.9818 - val_consonant_accuracy: 0.9866\n",
      "Epoch 7/80\n",
      "180/180 [==============================] - 27s 150ms/step - loss: 0.1775 - root_loss: 0.2654 - vowel_loss: 0.1237 - consonant_loss: 0.0895 - root_accuracy: 0.9279 - vowel_accuracy: 0.9656 - consonant_accuracy: 0.9745 - val_loss: 0.1202 - val_root_loss: 0.1842 - val_vowel_loss: 0.0729 - val_consonant_loss: 0.0472 - val_root_accuracy: 0.9480 - val_vowel_accuracy: 0.9813 - val_consonant_accuracy: 0.9871\n",
      "Epoch 8/80\n",
      "180/180 [==============================] - 27s 149ms/step - loss: 0.1741 - root_loss: 0.2605 - vowel_loss: 0.1197 - consonant_loss: 0.0883 - root_accuracy: 0.9283 - vowel_accuracy: 0.9660 - consonant_accuracy: 0.9748 - val_loss: 0.1195 - val_root_loss: 0.1838 - val_vowel_loss: 0.0713 - val_consonant_loss: 0.0475 - val_root_accuracy: 0.9472 - val_vowel_accuracy: 0.9816 - val_consonant_accuracy: 0.9876\n",
      "Epoch 9/80\n",
      "180/180 [==============================] - 27s 149ms/step - loss: 0.1776 - root_loss: 0.2673 - vowel_loss: 0.1225 - consonant_loss: 0.0893 - root_accuracy: 0.9261 - vowel_accuracy: 0.9668 - consonant_accuracy: 0.9753 - val_loss: 0.1197 - val_root_loss: 0.1839 - val_vowel_loss: 0.0724 - val_consonant_loss: 0.0463 - val_root_accuracy: 0.9475 - val_vowel_accuracy: 0.9808 - val_consonant_accuracy: 0.9866\n",
      "Epoch 10/80\n",
      "180/180 [==============================] - 27s 150ms/step - loss: 0.1758 - root_loss: 0.2641 - vowel_loss: 0.1195 - consonant_loss: 0.0904 - root_accuracy: 0.9267 - vowel_accuracy: 0.9679 - consonant_accuracy: 0.9746 - val_loss: 0.1191 - val_root_loss: 0.1837 - val_vowel_loss: 0.0717 - val_consonant_loss: 0.0464 - val_root_accuracy: 0.9482 - val_vowel_accuracy: 0.9816 - val_consonant_accuracy: 0.9873\n",
      "Epoch 11/80\n",
      "180/180 [==============================] - 27s 150ms/step - loss: 0.1751 - root_loss: 0.2625 - vowel_loss: 0.1170 - consonant_loss: 0.0924 - root_accuracy: 0.9277 - vowel_accuracy: 0.9682 - consonant_accuracy: 0.9745 - val_loss: 0.1183 - val_root_loss: 0.1815 - val_vowel_loss: 0.0695 - val_consonant_loss: 0.0475 - val_root_accuracy: 0.9485 - val_vowel_accuracy: 0.9826 - val_consonant_accuracy: 0.9866\n",
      "Epoch 12/80\n",
      "180/180 [==============================] - 27s 150ms/step - loss: 0.1739 - root_loss: 0.2618 - vowel_loss: 0.1168 - consonant_loss: 0.0895 - root_accuracy: 0.9279 - vowel_accuracy: 0.9682 - consonant_accuracy: 0.9751 - val_loss: 0.1179 - val_root_loss: 0.1819 - val_vowel_loss: 0.0688 - val_consonant_loss: 0.0475 - val_root_accuracy: 0.9477 - val_vowel_accuracy: 0.9826 - val_consonant_accuracy: 0.9871\n",
      "Epoch 13/80\n",
      "180/180 [==============================] - 27s 150ms/step - loss: 0.1710 - root_loss: 0.2569 - vowel_loss: 0.1156 - consonant_loss: 0.0874 - root_accuracy: 0.9295 - vowel_accuracy: 0.9682 - consonant_accuracy: 0.9750 - val_loss: 0.1184 - val_root_loss: 0.1827 - val_vowel_loss: 0.0704 - val_consonant_loss: 0.0475 - val_root_accuracy: 0.9465 - val_vowel_accuracy: 0.9818 - val_consonant_accuracy: 0.9868\n",
      "Epoch 14/80\n",
      "180/180 [==============================] - 27s 150ms/step - loss: 0.1713 - root_loss: 0.2539 - vowel_loss: 0.1164 - consonant_loss: 0.0907 - root_accuracy: 0.9284 - vowel_accuracy: 0.9662 - consonant_accuracy: 0.9743 - val_loss: 0.1186 - val_root_loss: 0.1830 - val_vowel_loss: 0.0699 - val_consonant_loss: 0.0472 - val_root_accuracy: 0.9477 - val_vowel_accuracy: 0.9818 - val_consonant_accuracy: 0.9871\n",
      "Epoch 15/80\n",
      "180/180 [==============================] - 27s 150ms/step - loss: 0.1712 - root_loss: 0.2605 - vowel_loss: 0.1140 - consonant_loss: 0.0859 - root_accuracy: 0.9278 - vowel_accuracy: 0.9692 - consonant_accuracy: 0.9754 - val_loss: 0.1194 - val_root_loss: 0.1838 - val_vowel_loss: 0.0718 - val_consonant_loss: 0.0474 - val_root_accuracy: 0.9472 - val_vowel_accuracy: 0.9801 - val_consonant_accuracy: 0.9873\n",
      "Epoch 16/80\n",
      "180/180 [==============================] - 27s 150ms/step - loss: 0.1700 - root_loss: 0.2533 - vowel_loss: 0.1191 - consonant_loss: 0.0846 - root_accuracy: 0.9289 - vowel_accuracy: 0.9678 - consonant_accuracy: 0.9763 - val_loss: 0.1186 - val_root_loss: 0.1825 - val_vowel_loss: 0.0714 - val_consonant_loss: 0.0467 - val_root_accuracy: 0.9472 - val_vowel_accuracy: 0.9811 - val_consonant_accuracy: 0.9871\n",
      "Epoch 17/80\n",
      "180/180 [==============================] - 27s 150ms/step - loss: 0.1701 - root_loss: 0.2554 - vowel_loss: 0.1158 - consonant_loss: 0.0864 - root_accuracy: 0.9296 - vowel_accuracy: 0.9685 - consonant_accuracy: 0.9764 - val_loss: 0.1178 - val_root_loss: 0.1832 - val_vowel_loss: 0.0684 - val_consonant_loss: 0.0469 - val_root_accuracy: 0.9480 - val_vowel_accuracy: 0.9813 - val_consonant_accuracy: 0.9876\n",
      "Epoch 18/80\n",
      "180/180 [==============================] - 27s 150ms/step - loss: 0.1689 - root_loss: 0.2501 - vowel_loss: 0.1173 - consonant_loss: 0.0867 - root_accuracy: 0.9307 - vowel_accuracy: 0.9670 - consonant_accuracy: 0.9751 - val_loss: 0.1187 - val_root_loss: 0.1847 - val_vowel_loss: 0.0695 - val_consonant_loss: 0.0467 - val_root_accuracy: 0.9457 - val_vowel_accuracy: 0.9821 - val_consonant_accuracy: 0.9873\n",
      "Epoch 19/80\n",
      "180/180 [==============================] - 27s 149ms/step - loss: 0.1689 - root_loss: 0.2562 - vowel_loss: 0.1136 - consonant_loss: 0.0844 - root_accuracy: 0.9296 - vowel_accuracy: 0.9695 - consonant_accuracy: 0.9763 - val_loss: 0.1195 - val_root_loss: 0.1856 - val_vowel_loss: 0.0716 - val_consonant_loss: 0.0463 - val_root_accuracy: 0.9475 - val_vowel_accuracy: 0.9816 - val_consonant_accuracy: 0.9876\n",
      "Epoch 20/80\n"
     ]
    },
    {
     "name": "stdout",
     "output_type": "stream",
     "text": [
      "180/180 [==============================] - 27s 149ms/step - loss: 0.1671 - root_loss: 0.2507 - vowel_loss: 0.1159 - consonant_loss: 0.0824 - root_accuracy: 0.9315 - vowel_accuracy: 0.9679 - consonant_accuracy: 0.9768 - val_loss: 0.1190 - val_root_loss: 0.1841 - val_vowel_loss: 0.0712 - val_consonant_loss: 0.0468 - val_root_accuracy: 0.9480 - val_vowel_accuracy: 0.9818 - val_consonant_accuracy: 0.9876\n",
      "Epoch 21/80\n",
      "180/180 [==============================] - 27s 150ms/step - loss: 0.1661 - root_loss: 0.2476 - vowel_loss: 0.1142 - consonant_loss: 0.0840 - root_accuracy: 0.9318 - vowel_accuracy: 0.9677 - consonant_accuracy: 0.9768 - val_loss: 0.1191 - val_root_loss: 0.1852 - val_vowel_loss: 0.0702 - val_consonant_loss: 0.0474 - val_root_accuracy: 0.9467 - val_vowel_accuracy: 0.9826 - val_consonant_accuracy: 0.9866\n",
      "Epoch 22/80\n",
      "180/180 [==============================] - 27s 150ms/step - loss: 0.1681 - root_loss: 0.2494 - vowel_loss: 0.1190 - consonant_loss: 0.0836 - root_accuracy: 0.9306 - vowel_accuracy: 0.9670 - consonant_accuracy: 0.9763 - val_loss: 0.1188 - val_root_loss: 0.1831 - val_vowel_loss: 0.0713 - val_consonant_loss: 0.0469 - val_root_accuracy: 0.9475 - val_vowel_accuracy: 0.9816 - val_consonant_accuracy: 0.9876\n",
      "Epoch 23/80\n",
      "180/180 [==============================] - 27s 150ms/step - loss: 0.1657 - root_loss: 0.2453 - vowel_loss: 0.1145 - consonant_loss: 0.0848 - root_accuracy: 0.9309 - vowel_accuracy: 0.9674 - consonant_accuracy: 0.9759 - val_loss: 0.1178 - val_root_loss: 0.1822 - val_vowel_loss: 0.0699 - val_consonant_loss: 0.0465 - val_root_accuracy: 0.9485 - val_vowel_accuracy: 0.9826 - val_consonant_accuracy: 0.9876\n",
      "Epoch 24/80\n",
      "180/180 [==============================] - 27s 149ms/step - loss: 0.1674 - root_loss: 0.2504 - vowel_loss: 0.1137 - consonant_loss: 0.0853 - root_accuracy: 0.9305 - vowel_accuracy: 0.9689 - consonant_accuracy: 0.9759 - val_loss: 0.1183 - val_root_loss: 0.1825 - val_vowel_loss: 0.0702 - val_consonant_loss: 0.0467 - val_root_accuracy: 0.9472 - val_vowel_accuracy: 0.9816 - val_consonant_accuracy: 0.9871\n",
      "Epoch 25/80\n",
      "180/180 [==============================] - 27s 150ms/step - loss: 0.1619 - root_loss: 0.2397 - vowel_loss: 0.1114 - consonant_loss: 0.0823 - root_accuracy: 0.9325 - vowel_accuracy: 0.9688 - consonant_accuracy: 0.9762 - val_loss: 0.1190 - val_root_loss: 0.1848 - val_vowel_loss: 0.0707 - val_consonant_loss: 0.0466 - val_root_accuracy: 0.9470 - val_vowel_accuracy: 0.9816 - val_consonant_accuracy: 0.9873\n",
      "Epoch 26/80\n",
      "180/180 [==============================] - 27s 150ms/step - loss: 0.1628 - root_loss: 0.2419 - vowel_loss: 0.1134 - consonant_loss: 0.0810 - root_accuracy: 0.9323 - vowel_accuracy: 0.9680 - consonant_accuracy: 0.9776 - val_loss: 0.1192 - val_root_loss: 0.1840 - val_vowel_loss: 0.0716 - val_consonant_loss: 0.0471 - val_root_accuracy: 0.9460 - val_vowel_accuracy: 0.9818 - val_consonant_accuracy: 0.9871\n",
      "Epoch 27/80\n",
      "180/180 [==============================] - 27s 150ms/step - loss: 0.1617 - root_loss: 0.2429 - vowel_loss: 0.1098 - consonant_loss: 0.0801 - root_accuracy: 0.9325 - vowel_accuracy: 0.9695 - consonant_accuracy: 0.9780 - val_loss: 0.1188 - val_root_loss: 0.1842 - val_vowel_loss: 0.0708 - val_consonant_loss: 0.0468 - val_root_accuracy: 0.9472 - val_vowel_accuracy: 0.9821 - val_consonant_accuracy: 0.9871\n",
      "Epoch 28/80\n",
      "180/180 [==============================] - 27s 147ms/step - loss: 0.1655 - root_loss: 0.2497 - vowel_loss: 0.1108 - consonant_loss: 0.0838 - root_accuracy: 0.9305 - vowel_accuracy: 0.9695 - consonant_accuracy: 0.9763 - val_loss: 0.1191 - val_root_loss: 0.1845 - val_vowel_loss: 0.0718 - val_consonant_loss: 0.0468 - val_root_accuracy: 0.9482 - val_vowel_accuracy: 0.9821 - val_consonant_accuracy: 0.9871\n",
      "Epoch 29/80\n",
      "180/180 [==============================] - 26s 144ms/step - loss: 0.1628 - root_loss: 0.2413 - vowel_loss: 0.1136 - consonant_loss: 0.0814 - root_accuracy: 0.9326 - vowel_accuracy: 0.9687 - consonant_accuracy: 0.9766 - val_loss: 0.1205 - val_root_loss: 0.1862 - val_vowel_loss: 0.0734 - val_consonant_loss: 0.0475 - val_root_accuracy: 0.9467 - val_vowel_accuracy: 0.9811 - val_consonant_accuracy: 0.9868\n",
      "Epoch 30/80\n",
      "180/180 [==============================] - 26s 144ms/step - loss: 0.1599 - root_loss: 0.2373 - vowel_loss: 0.1088 - consonant_loss: 0.0817 - root_accuracy: 0.9352 - vowel_accuracy: 0.9702 - consonant_accuracy: 0.9769 - val_loss: 0.1183 - val_root_loss: 0.1825 - val_vowel_loss: 0.0709 - val_consonant_loss: 0.0476 - val_root_accuracy: 0.9485 - val_vowel_accuracy: 0.9821 - val_consonant_accuracy: 0.9866\n",
      "Epoch 31/80\n",
      "180/180 [==============================] - 26s 144ms/step - loss: 0.1618 - root_loss: 0.2405 - vowel_loss: 0.1124 - consonant_loss: 0.0806 - root_accuracy: 0.9324 - vowel_accuracy: 0.9684 - consonant_accuracy: 0.9772 - val_loss: 0.1192 - val_root_loss: 0.1847 - val_vowel_loss: 0.0711 - val_consonant_loss: 0.0473 - val_root_accuracy: 0.9472 - val_vowel_accuracy: 0.9813 - val_consonant_accuracy: 0.9873\n",
      "Epoch 32/80\n",
      "180/180 [==============================] - 26s 144ms/step - loss: 0.1591 - root_loss: 0.2342 - vowel_loss: 0.1102 - consonant_loss: 0.0809 - root_accuracy: 0.9338 - vowel_accuracy: 0.9682 - consonant_accuracy: 0.9768 - val_loss: 0.1180 - val_root_loss: 0.1831 - val_vowel_loss: 0.0704 - val_consonant_loss: 0.0464 - val_root_accuracy: 0.9472 - val_vowel_accuracy: 0.9818 - val_consonant_accuracy: 0.9873\n",
      "Epoch 33/80\n",
      "180/180 [==============================] - 27s 149ms/step - loss: 0.1615 - root_loss: 0.2404 - vowel_loss: 0.1110 - consonant_loss: 0.0813 - root_accuracy: 0.9331 - vowel_accuracy: 0.9694 - consonant_accuracy: 0.9766 - val_loss: 0.1194 - val_root_loss: 0.1841 - val_vowel_loss: 0.0728 - val_consonant_loss: 0.0473 - val_root_accuracy: 0.9490 - val_vowel_accuracy: 0.9808 - val_consonant_accuracy: 0.9868\n",
      "Epoch 34/80\n",
      "180/180 [==============================] - 26s 144ms/step - loss: 0.1591 - root_loss: 0.2369 - vowel_loss: 0.1073 - consonant_loss: 0.0814 - root_accuracy: 0.9343 - vowel_accuracy: 0.9709 - consonant_accuracy: 0.9769 - val_loss: 0.1184 - val_root_loss: 0.1836 - val_vowel_loss: 0.0710 - val_consonant_loss: 0.0466 - val_root_accuracy: 0.9472 - val_vowel_accuracy: 0.9816 - val_consonant_accuracy: 0.9871\n",
      "Epoch 35/80\n",
      "180/180 [==============================] - 26s 144ms/step - loss: 0.1599 - root_loss: 0.2374 - vowel_loss: 0.1100 - consonant_loss: 0.0807 - root_accuracy: 0.9331 - vowel_accuracy: 0.9683 - consonant_accuracy: 0.9766 - val_loss: 0.1188 - val_root_loss: 0.1842 - val_vowel_loss: 0.0709 - val_consonant_loss: 0.0469 - val_root_accuracy: 0.9482 - val_vowel_accuracy: 0.9826 - val_consonant_accuracy: 0.9876\n",
      "Epoch 36/80\n",
      "180/180 [==============================] - 26s 143ms/step - loss: 0.1587 - root_loss: 0.2346 - vowel_loss: 0.1084 - consonant_loss: 0.0812 - root_accuracy: 0.9341 - vowel_accuracy: 0.9702 - consonant_accuracy: 0.9766 - val_loss: 0.1192 - val_root_loss: 0.1847 - val_vowel_loss: 0.0712 - val_consonant_loss: 0.0477 - val_root_accuracy: 0.9482 - val_vowel_accuracy: 0.9816 - val_consonant_accuracy: 0.9868\n",
      "Epoch 37/80\n",
      "180/180 [==============================] - 26s 144ms/step - loss: 0.1590 - root_loss: 0.2367 - vowel_loss: 0.1087 - consonant_loss: 0.0799 - root_accuracy: 0.9345 - vowel_accuracy: 0.9690 - consonant_accuracy: 0.9773 - val_loss: 0.1186 - val_root_loss: 0.1851 - val_vowel_loss: 0.0700 - val_consonant_loss: 0.0470 - val_root_accuracy: 0.9475 - val_vowel_accuracy: 0.9816 - val_consonant_accuracy: 0.9881\n",
      "Epoch 38/80\n",
      "180/180 [==============================] - 26s 144ms/step - loss: 0.1602 - root_loss: 0.2378 - vowel_loss: 0.1111 - consonant_loss: 0.0801 - root_accuracy: 0.9343 - vowel_accuracy: 0.9694 - consonant_accuracy: 0.9773 - val_loss: 0.1184 - val_root_loss: 0.1841 - val_vowel_loss: 0.0699 - val_consonant_loss: 0.0471 - val_root_accuracy: 0.9477 - val_vowel_accuracy: 0.9826 - val_consonant_accuracy: 0.9871\n",
      "Epoch 39/80\n",
      "180/180 [==============================] - 26s 144ms/step - loss: 0.1563 - root_loss: 0.2330 - vowel_loss: 0.1062 - consonant_loss: 0.0780 - root_accuracy: 0.9354 - vowel_accuracy: 0.9710 - consonant_accuracy: 0.9778 - val_loss: 0.1188 - val_root_loss: 0.1847 - val_vowel_loss: 0.0707 - val_consonant_loss: 0.0470 - val_root_accuracy: 0.9482 - val_vowel_accuracy: 0.9826 - val_consonant_accuracy: 0.9878\n"
     ]
    },
    {
     "name": "stdout",
     "output_type": "stream",
     "text": [
      "Epoch 40/80\n",
      "180/180 [==============================] - 26s 144ms/step - loss: 0.1588 - root_loss: 0.2343 - vowel_loss: 0.1125 - consonant_loss: 0.0779 - root_accuracy: 0.9340 - vowel_accuracy: 0.9687 - consonant_accuracy: 0.9775 - val_loss: 0.1188 - val_root_loss: 0.1844 - val_vowel_loss: 0.0719 - val_consonant_loss: 0.0461 - val_root_accuracy: 0.9487 - val_vowel_accuracy: 0.9818 - val_consonant_accuracy: 0.9873\n",
      "Epoch 41/80\n",
      "180/180 [==============================] - 26s 144ms/step - loss: 0.1565 - root_loss: 0.2297 - vowel_loss: 0.1080 - consonant_loss: 0.0802 - root_accuracy: 0.9359 - vowel_accuracy: 0.9699 - consonant_accuracy: 0.9768 - val_loss: 0.1184 - val_root_loss: 0.1829 - val_vowel_loss: 0.0714 - val_consonant_loss: 0.0468 - val_root_accuracy: 0.9475 - val_vowel_accuracy: 0.9823 - val_consonant_accuracy: 0.9873\n",
      "Epoch 42/80\n",
      "180/180 [==============================] - 26s 144ms/step - loss: 0.1561 - root_loss: 0.2277 - vowel_loss: 0.1132 - consonant_loss: 0.0762 - root_accuracy: 0.9365 - vowel_accuracy: 0.9689 - consonant_accuracy: 0.9778 - val_loss: 0.1212 - val_root_loss: 0.1846 - val_vowel_loss: 0.0776 - val_consonant_loss: 0.0480 - val_root_accuracy: 0.9480 - val_vowel_accuracy: 0.9798 - val_consonant_accuracy: 0.9858\n",
      "Epoch 43/80\n",
      "180/180 [==============================] - 26s 144ms/step - loss: 0.1552 - root_loss: 0.2324 - vowel_loss: 0.1058 - consonant_loss: 0.0761 - root_accuracy: 0.9346 - vowel_accuracy: 0.9703 - consonant_accuracy: 0.9784 - val_loss: 0.1179 - val_root_loss: 0.1833 - val_vowel_loss: 0.0703 - val_consonant_loss: 0.0465 - val_root_accuracy: 0.9485 - val_vowel_accuracy: 0.9808 - val_consonant_accuracy: 0.9881\n",
      "Epoch 44/80\n",
      "180/180 [==============================] - 26s 144ms/step - loss: 0.1513 - root_loss: 0.2190 - vowel_loss: 0.1073 - consonant_loss: 0.0766 - root_accuracy: 0.9379 - vowel_accuracy: 0.9699 - consonant_accuracy: 0.9786 - val_loss: 0.1187 - val_root_loss: 0.1849 - val_vowel_loss: 0.0710 - val_consonant_loss: 0.0465 - val_root_accuracy: 0.9487 - val_vowel_accuracy: 0.9818 - val_consonant_accuracy: 0.9873\n",
      "Epoch 45/80\n",
      "180/180 [==============================] - 26s 144ms/step - loss: 0.1554 - root_loss: 0.2282 - vowel_loss: 0.1084 - consonant_loss: 0.0782 - root_accuracy: 0.9360 - vowel_accuracy: 0.9700 - consonant_accuracy: 0.9774 - val_loss: 0.1201 - val_root_loss: 0.1869 - val_vowel_loss: 0.0725 - val_consonant_loss: 0.0471 - val_root_accuracy: 0.9472 - val_vowel_accuracy: 0.9816 - val_consonant_accuracy: 0.9873\n",
      "Epoch 46/80\n",
      "180/180 [==============================] - 26s 143ms/step - loss: 0.1577 - root_loss: 0.2347 - vowel_loss: 0.1094 - consonant_loss: 0.0775 - root_accuracy: 0.9338 - vowel_accuracy: 0.9695 - consonant_accuracy: 0.9778 - val_loss: 0.1184 - val_root_loss: 0.1842 - val_vowel_loss: 0.0705 - val_consonant_loss: 0.0469 - val_root_accuracy: 0.9480 - val_vowel_accuracy: 0.9813 - val_consonant_accuracy: 0.9866\n",
      "Epoch 47/80\n",
      "180/180 [==============================] - 27s 150ms/step - loss: 0.1526 - root_loss: 0.2258 - vowel_loss: 0.1046 - consonant_loss: 0.0762 - root_accuracy: 0.9374 - vowel_accuracy: 0.9699 - consonant_accuracy: 0.9784 - val_loss: 0.1178 - val_root_loss: 0.1831 - val_vowel_loss: 0.0698 - val_consonant_loss: 0.0469 - val_root_accuracy: 0.9500 - val_vowel_accuracy: 0.9813 - val_consonant_accuracy: 0.9876\n",
      "Epoch 48/80\n",
      "180/180 [==============================] - 26s 144ms/step - loss: 0.1535 - root_loss: 0.2249 - vowel_loss: 0.1067 - consonant_loss: 0.0777 - root_accuracy: 0.9372 - vowel_accuracy: 0.9703 - consonant_accuracy: 0.9773 - val_loss: 0.1189 - val_root_loss: 0.1845 - val_vowel_loss: 0.0709 - val_consonant_loss: 0.0476 - val_root_accuracy: 0.9487 - val_vowel_accuracy: 0.9813 - val_consonant_accuracy: 0.9871\n",
      "Epoch 49/80\n",
      "180/180 [==============================] - 27s 149ms/step - loss: 0.1526 - root_loss: 0.2205 - vowel_loss: 0.1078 - consonant_loss: 0.0787 - root_accuracy: 0.9373 - vowel_accuracy: 0.9696 - consonant_accuracy: 0.9774 - val_loss: 0.1185 - val_root_loss: 0.1835 - val_vowel_loss: 0.0717 - val_consonant_loss: 0.0471 - val_root_accuracy: 0.9505 - val_vowel_accuracy: 0.9823 - val_consonant_accuracy: 0.9868\n",
      "Epoch 50/80\n",
      "180/180 [==============================] - 26s 144ms/step - loss: 0.1524 - root_loss: 0.2219 - vowel_loss: 0.1048 - consonant_loss: 0.0795 - root_accuracy: 0.9367 - vowel_accuracy: 0.9710 - consonant_accuracy: 0.9771 - val_loss: 0.1188 - val_root_loss: 0.1854 - val_vowel_loss: 0.0708 - val_consonant_loss: 0.0468 - val_root_accuracy: 0.9500 - val_vowel_accuracy: 0.9818 - val_consonant_accuracy: 0.9863\n",
      "Epoch 51/80\n",
      "180/180 [==============================] - 26s 144ms/step - loss: 0.1514 - root_loss: 0.2210 - vowel_loss: 0.1055 - consonant_loss: 0.0768 - root_accuracy: 0.9370 - vowel_accuracy: 0.9700 - consonant_accuracy: 0.9786 - val_loss: 0.1187 - val_root_loss: 0.1829 - val_vowel_loss: 0.0719 - val_consonant_loss: 0.0477 - val_root_accuracy: 0.9482 - val_vowel_accuracy: 0.9818 - val_consonant_accuracy: 0.9861\n",
      "Epoch 52/80\n",
      "180/180 [==============================] - 26s 144ms/step - loss: 0.1475 - root_loss: 0.2187 - vowel_loss: 0.1005 - consonant_loss: 0.0726 - root_accuracy: 0.9382 - vowel_accuracy: 0.9719 - consonant_accuracy: 0.9791 - val_loss: 0.1180 - val_root_loss: 0.1834 - val_vowel_loss: 0.0703 - val_consonant_loss: 0.0478 - val_root_accuracy: 0.9480 - val_vowel_accuracy: 0.9816 - val_consonant_accuracy: 0.9866\n",
      "Epoch 53/80\n",
      "180/180 [==============================] - 26s 144ms/step - loss: 0.1511 - root_loss: 0.2221 - vowel_loss: 0.1064 - consonant_loss: 0.0741 - root_accuracy: 0.9367 - vowel_accuracy: 0.9697 - consonant_accuracy: 0.9785 - val_loss: 0.1184 - val_root_loss: 0.1842 - val_vowel_loss: 0.0710 - val_consonant_loss: 0.0479 - val_root_accuracy: 0.9485 - val_vowel_accuracy: 0.9813 - val_consonant_accuracy: 0.9858\n",
      "Epoch 54/80\n",
      "180/180 [==============================] - 26s 144ms/step - loss: 0.1511 - root_loss: 0.2244 - vowel_loss: 0.1032 - consonant_loss: 0.0751 - root_accuracy: 0.9378 - vowel_accuracy: 0.9708 - consonant_accuracy: 0.9784 - val_loss: 0.1197 - val_root_loss: 0.1864 - val_vowel_loss: 0.0723 - val_consonant_loss: 0.0474 - val_root_accuracy: 0.9482 - val_vowel_accuracy: 0.9803 - val_consonant_accuracy: 0.9861\n",
      "Epoch 55/80\n",
      "180/180 [==============================] - 26s 144ms/step - loss: 0.1517 - root_loss: 0.2243 - vowel_loss: 0.1019 - consonant_loss: 0.0779 - root_accuracy: 0.9365 - vowel_accuracy: 0.9709 - consonant_accuracy: 0.9777 - val_loss: 0.1194 - val_root_loss: 0.1849 - val_vowel_loss: 0.0724 - val_consonant_loss: 0.0478 - val_root_accuracy: 0.9480 - val_vowel_accuracy: 0.9806 - val_consonant_accuracy: 0.9863\n",
      "Epoch 56/80\n",
      "180/180 [==============================] - 26s 144ms/step - loss: 0.1486 - root_loss: 0.2191 - vowel_loss: 0.1016 - consonant_loss: 0.0747 - root_accuracy: 0.9376 - vowel_accuracy: 0.9724 - consonant_accuracy: 0.9787 - val_loss: 0.1187 - val_root_loss: 0.1851 - val_vowel_loss: 0.0703 - val_consonant_loss: 0.0472 - val_root_accuracy: 0.9480 - val_vowel_accuracy: 0.9828 - val_consonant_accuracy: 0.9866\n",
      "Epoch 57/80\n",
      "180/180 [==============================] - 26s 144ms/step - loss: 0.1484 - root_loss: 0.2162 - vowel_loss: 0.1029 - consonant_loss: 0.0755 - root_accuracy: 0.9394 - vowel_accuracy: 0.9722 - consonant_accuracy: 0.9788 - val_loss: 0.1181 - val_root_loss: 0.1836 - val_vowel_loss: 0.0704 - val_consonant_loss: 0.0476 - val_root_accuracy: 0.9475 - val_vowel_accuracy: 0.9813 - val_consonant_accuracy: 0.9861\n",
      "Epoch 58/80\n",
      "180/180 [==============================] - 26s 144ms/step - loss: 0.1477 - root_loss: 0.2175 - vowel_loss: 0.1001 - consonant_loss: 0.0749 - root_accuracy: 0.9379 - vowel_accuracy: 0.9714 - consonant_accuracy: 0.9784 - val_loss: 0.1186 - val_root_loss: 0.1848 - val_vowel_loss: 0.0707 - val_consonant_loss: 0.0475 - val_root_accuracy: 0.9480 - val_vowel_accuracy: 0.9823 - val_consonant_accuracy: 0.9871\n",
      "Epoch 59/80\n",
      "180/180 [==============================] - 26s 144ms/step - loss: 0.1523 - root_loss: 0.2229 - vowel_loss: 0.1076 - consonant_loss: 0.0756 - root_accuracy: 0.9368 - vowel_accuracy: 0.9699 - consonant_accuracy: 0.9785 - val_loss: 0.1188 - val_root_loss: 0.1854 - val_vowel_loss: 0.0702 - val_consonant_loss: 0.0474 - val_root_accuracy: 0.9480 - val_vowel_accuracy: 0.9816 - val_consonant_accuracy: 0.9873\n"
     ]
    },
    {
     "name": "stdout",
     "output_type": "stream",
     "text": [
      "Epoch 60/80\n",
      "180/180 [==============================] - 26s 144ms/step - loss: 0.1483 - root_loss: 0.2197 - vowel_loss: 0.1015 - consonant_loss: 0.0728 - root_accuracy: 0.9382 - vowel_accuracy: 0.9715 - consonant_accuracy: 0.9789 - val_loss: 0.1191 - val_root_loss: 0.1857 - val_vowel_loss: 0.0714 - val_consonant_loss: 0.0465 - val_root_accuracy: 0.9480 - val_vowel_accuracy: 0.9818 - val_consonant_accuracy: 0.9868\n",
      "Epoch 61/80\n",
      "180/180 [==============================] - 26s 144ms/step - loss: 0.1479 - root_loss: 0.2157 - vowel_loss: 0.1029 - consonant_loss: 0.0743 - root_accuracy: 0.9391 - vowel_accuracy: 0.9713 - consonant_accuracy: 0.9789 - val_loss: 0.1187 - val_root_loss: 0.1855 - val_vowel_loss: 0.0703 - val_consonant_loss: 0.0475 - val_root_accuracy: 0.9482 - val_vowel_accuracy: 0.9818 - val_consonant_accuracy: 0.9866\n",
      "Epoch 62/80\n",
      "180/180 [==============================] - 26s 144ms/step - loss: 0.1484 - root_loss: 0.2162 - vowel_loss: 0.1019 - consonant_loss: 0.0767 - root_accuracy: 0.9389 - vowel_accuracy: 0.9709 - consonant_accuracy: 0.9783 - val_loss: 0.1185 - val_root_loss: 0.1841 - val_vowel_loss: 0.0713 - val_consonant_loss: 0.0474 - val_root_accuracy: 0.9485 - val_vowel_accuracy: 0.9813 - val_consonant_accuracy: 0.9856\n",
      "Epoch 63/80\n",
      "180/180 [==============================] - 26s 144ms/step - loss: 0.1453 - root_loss: 0.2095 - vowel_loss: 0.0991 - consonant_loss: 0.0771 - root_accuracy: 0.9410 - vowel_accuracy: 0.9720 - consonant_accuracy: 0.9788 - val_loss: 0.1183 - val_root_loss: 0.1841 - val_vowel_loss: 0.0707 - val_consonant_loss: 0.0475 - val_root_accuracy: 0.9495 - val_vowel_accuracy: 0.9828 - val_consonant_accuracy: 0.9861\n",
      "Epoch 64/80\n",
      "180/180 [==============================] - 26s 144ms/step - loss: 0.1473 - root_loss: 0.2161 - vowel_loss: 0.1028 - consonant_loss: 0.0724 - root_accuracy: 0.9378 - vowel_accuracy: 0.9714 - consonant_accuracy: 0.9798 - val_loss: 0.1183 - val_root_loss: 0.1849 - val_vowel_loss: 0.0702 - val_consonant_loss: 0.0470 - val_root_accuracy: 0.9485 - val_vowel_accuracy: 0.9813 - val_consonant_accuracy: 0.9863\n",
      "Epoch 65/80\n",
      "180/180 [==============================] - 26s 144ms/step - loss: 0.1460 - root_loss: 0.2115 - vowel_loss: 0.1021 - consonant_loss: 0.0740 - root_accuracy: 0.9412 - vowel_accuracy: 0.9718 - consonant_accuracy: 0.9791 - val_loss: 0.1189 - val_root_loss: 0.1858 - val_vowel_loss: 0.0711 - val_consonant_loss: 0.0471 - val_root_accuracy: 0.9470 - val_vowel_accuracy: 0.9816 - val_consonant_accuracy: 0.9866\n",
      "Epoch 66/80\n",
      "180/180 [==============================] - 26s 144ms/step - loss: 0.1497 - root_loss: 0.2194 - vowel_loss: 0.1074 - consonant_loss: 0.0717 - root_accuracy: 0.9373 - vowel_accuracy: 0.9694 - consonant_accuracy: 0.9788 - val_loss: 0.1198 - val_root_loss: 0.1856 - val_vowel_loss: 0.0729 - val_consonant_loss: 0.0477 - val_root_accuracy: 0.9487 - val_vowel_accuracy: 0.9801 - val_consonant_accuracy: 0.9858\n",
      "Epoch 67/80\n",
      "180/180 [==============================] - 26s 144ms/step - loss: 0.1461 - root_loss: 0.2100 - vowel_loss: 0.1027 - consonant_loss: 0.0751 - root_accuracy: 0.9406 - vowel_accuracy: 0.9712 - consonant_accuracy: 0.9780 - val_loss: 0.1188 - val_root_loss: 0.1844 - val_vowel_loss: 0.0715 - val_consonant_loss: 0.0475 - val_root_accuracy: 0.9480 - val_vowel_accuracy: 0.9818 - val_consonant_accuracy: 0.9863\n",
      "Epoch 68/80\n",
      "180/180 [==============================] - 26s 144ms/step - loss: 0.1451 - root_loss: 0.2111 - vowel_loss: 0.1001 - consonant_loss: 0.0738 - root_accuracy: 0.9404 - vowel_accuracy: 0.9722 - consonant_accuracy: 0.9795 - val_loss: 0.1193 - val_root_loss: 0.1860 - val_vowel_loss: 0.0721 - val_consonant_loss: 0.0469 - val_root_accuracy: 0.9470 - val_vowel_accuracy: 0.9816 - val_consonant_accuracy: 0.9853\n",
      "Epoch 69/80\n",
      "180/180 [==============================] - 26s 144ms/step - loss: 0.1446 - root_loss: 0.2068 - vowel_loss: 0.1046 - consonant_loss: 0.0720 - root_accuracy: 0.9412 - vowel_accuracy: 0.9710 - consonant_accuracy: 0.9801 - val_loss: 0.1199 - val_root_loss: 0.1882 - val_vowel_loss: 0.0717 - val_consonant_loss: 0.0471 - val_root_accuracy: 0.9480 - val_vowel_accuracy: 0.9808 - val_consonant_accuracy: 0.9866\n",
      "Epoch 70/80\n",
      "180/180 [==============================] - 26s 144ms/step - loss: 0.1425 - root_loss: 0.2080 - vowel_loss: 0.1009 - consonant_loss: 0.0685 - root_accuracy: 0.9406 - vowel_accuracy: 0.9712 - consonant_accuracy: 0.9802 - val_loss: 0.1185 - val_root_loss: 0.1857 - val_vowel_loss: 0.0704 - val_consonant_loss: 0.0469 - val_root_accuracy: 0.9482 - val_vowel_accuracy: 0.9826 - val_consonant_accuracy: 0.9863\n",
      "Epoch 71/80\n",
      "180/180 [==============================] - 26s 144ms/step - loss: 0.1485 - root_loss: 0.2156 - vowel_loss: 0.1063 - consonant_loss: 0.0730 - root_accuracy: 0.9389 - vowel_accuracy: 0.9704 - consonant_accuracy: 0.9791 - val_loss: 0.1191 - val_root_loss: 0.1860 - val_vowel_loss: 0.0709 - val_consonant_loss: 0.0474 - val_root_accuracy: 0.9492 - val_vowel_accuracy: 0.9821 - val_consonant_accuracy: 0.9863\n",
      "Epoch 72/80\n",
      "180/180 [==============================] - 26s 144ms/step - loss: 0.1439 - root_loss: 0.2096 - vowel_loss: 0.0999 - consonant_loss: 0.0722 - root_accuracy: 0.9400 - vowel_accuracy: 0.9727 - consonant_accuracy: 0.9799 - val_loss: 0.1190 - val_root_loss: 0.1874 - val_vowel_loss: 0.0705 - val_consonant_loss: 0.0468 - val_root_accuracy: 0.9470 - val_vowel_accuracy: 0.9816 - val_consonant_accuracy: 0.9866\n",
      "Epoch 73/80\n",
      "180/180 [==============================] - 26s 144ms/step - loss: 0.1452 - root_loss: 0.2094 - vowel_loss: 0.1023 - consonant_loss: 0.0738 - root_accuracy: 0.9407 - vowel_accuracy: 0.9714 - consonant_accuracy: 0.9791 - val_loss: 0.1194 - val_root_loss: 0.1863 - val_vowel_loss: 0.0712 - val_consonant_loss: 0.0478 - val_root_accuracy: 0.9472 - val_vowel_accuracy: 0.9823 - val_consonant_accuracy: 0.9863\n",
      "Epoch 74/80\n",
      "180/180 [==============================] - 26s 144ms/step - loss: 0.1459 - root_loss: 0.2098 - vowel_loss: 0.1041 - consonant_loss: 0.0737 - root_accuracy: 0.9402 - vowel_accuracy: 0.9709 - consonant_accuracy: 0.9791 - val_loss: 0.1194 - val_root_loss: 0.1864 - val_vowel_loss: 0.0713 - val_consonant_loss: 0.0478 - val_root_accuracy: 0.9477 - val_vowel_accuracy: 0.9816 - val_consonant_accuracy: 0.9863\n",
      "Epoch 75/80\n",
      "180/180 [==============================] - 26s 144ms/step - loss: 0.1418 - root_loss: 0.2034 - vowel_loss: 0.1020 - consonant_loss: 0.0698 - root_accuracy: 0.9416 - vowel_accuracy: 0.9708 - consonant_accuracy: 0.9798 - val_loss: 0.1196 - val_root_loss: 0.1870 - val_vowel_loss: 0.0717 - val_consonant_loss: 0.0478 - val_root_accuracy: 0.9467 - val_vowel_accuracy: 0.9811 - val_consonant_accuracy: 0.9861\n",
      "Epoch 76/80\n",
      "180/180 [==============================] - 26s 144ms/step - loss: 0.1396 - root_loss: 0.2049 - vowel_loss: 0.0970 - consonant_loss: 0.0672 - root_accuracy: 0.9420 - vowel_accuracy: 0.9720 - consonant_accuracy: 0.9810 - val_loss: 0.1193 - val_root_loss: 0.1864 - val_vowel_loss: 0.0726 - val_consonant_loss: 0.0472 - val_root_accuracy: 0.9490 - val_vowel_accuracy: 0.9816 - val_consonant_accuracy: 0.9871\n",
      "Epoch 77/80\n",
      "180/180 [==============================] - 26s 144ms/step - loss: 0.1448 - root_loss: 0.2084 - vowel_loss: 0.1016 - consonant_loss: 0.0742 - root_accuracy: 0.9409 - vowel_accuracy: 0.9716 - consonant_accuracy: 0.9785 - val_loss: 0.1204 - val_root_loss: 0.1887 - val_vowel_loss: 0.0736 - val_consonant_loss: 0.0469 - val_root_accuracy: 0.9482 - val_vowel_accuracy: 0.9806 - val_consonant_accuracy: 0.9858\n",
      "Epoch 78/80\n",
      "180/180 [==============================] - 26s 144ms/step - loss: 0.1411 - root_loss: 0.2023 - vowel_loss: 0.0986 - consonant_loss: 0.0725 - root_accuracy: 0.9417 - vowel_accuracy: 0.9725 - consonant_accuracy: 0.9796 - val_loss: 0.1195 - val_root_loss: 0.1870 - val_vowel_loss: 0.0724 - val_consonant_loss: 0.0473 - val_root_accuracy: 0.9490 - val_vowel_accuracy: 0.9823 - val_consonant_accuracy: 0.9863\n",
      "Epoch 79/80\n",
      "180/180 [==============================] - 26s 144ms/step - loss: 0.1398 - root_loss: 0.2043 - vowel_loss: 0.0979 - consonant_loss: 0.0673 - root_accuracy: 0.9433 - vowel_accuracy: 0.9716 - consonant_accuracy: 0.9808 - val_loss: 0.1195 - val_root_loss: 0.1873 - val_vowel_loss: 0.0715 - val_consonant_loss: 0.0481 - val_root_accuracy: 0.9487 - val_vowel_accuracy: 0.9818 - val_consonant_accuracy: 0.9863\n"
     ]
    },
    {
     "name": "stdout",
     "output_type": "stream",
     "text": [
      "Epoch 80/80\n",
      "180/180 [==============================] - 26s 144ms/step - loss: 0.1398 - root_loss: 0.2013 - vowel_loss: 0.0974 - consonant_loss: 0.0710 - root_accuracy: 0.9414 - vowel_accuracy: 0.9724 - consonant_accuracy: 0.9795 - val_loss: 0.1198 - val_root_loss: 0.1872 - val_vowel_loss: 0.0717 - val_consonant_loss: 0.0478 - val_root_accuracy: 0.9475 - val_vowel_accuracy: 0.9816 - val_consonant_accuracy: 0.9863\n"
     ]
    }
   ],
   "source": [
    "histories = []\n",
    "# for i in range(1):\n",
    "for i in [3]:\n",
    "    train_df = pd.merge(pd.read_parquet(DATA_FOLDER + f'/train_image_data_{i}.parquet'), train_df_, on='image_id').drop(['image_id'], axis=1)\n",
    "\n",
    "    X_train = train_df.drop(['grapheme_root', 'vowel_diacritic', 'consonant_diacritic'], axis=1)\n",
    "    X_train = resize(X_train, size=IMG_SIZE)/255\n",
    "\n",
    "    # CNN takes images in shape `(batch_size, h, w, channels)`, so reshape the images\n",
    "    X_train = X_train.values.reshape(-1, IMG_SIZE, IMG_SIZE, N_CHANNELS)\n",
    "\n",
    "    Y_train_root = pd.get_dummies(train_df['grapheme_root']).values\n",
    "    Y_train_vowel = pd.get_dummies(train_df['vowel_diacritic']).values\n",
    "    Y_train_consonant = pd.get_dummies(train_df['consonant_diacritic']).values\n",
    "\n",
    "    # Divide the data into training and validation set\n",
    "    x_train, x_test, y_train_root, y_test_root, y_train_vowel, y_test_vowel, y_train_consonant, y_test_consonant = \\\n",
    "    train_test_split(X_train, Y_train_root, Y_train_vowel, Y_train_consonant, test_size=0.08, random_state=666)\n",
    "    del train_df\n",
    "    del X_train\n",
    "    del Y_train_root, Y_train_vowel, Y_train_consonant\n",
    "\n",
    "    # Data augmentation for creating more training data\n",
    "    datagen = MultiOutputDataGenerator(\n",
    "        featurewise_center=False,  # set input mean to 0 over the dataset\n",
    "        samplewise_center=False,  # set each sample mean to 0\n",
    "        featurewise_std_normalization=False,  # divide inputs by std of the dataset\n",
    "        samplewise_std_normalization=False,  # divide each input by its std\n",
    "        zca_whitening=False,  # apply ZCA whitening\n",
    "        rotation_range=8,  # randomly rotate images in the range (degrees, 0 to 180)\n",
    "        # rotation_range=20,  # randomly rotate images in the range (degrees, 0 to 180)\n",
    "        # zoom_range = 0.20, # Randomly zoom image \n",
    "        zoom_range = 0.15, # Randomly zoom image \n",
    "        width_shift_range=0.15,  # randomly shift images horizontally (fraction of total width)\n",
    "        height_shift_range=0.15,  # randomly shift images vertically (fraction of total height)\n",
    "        horizontal_flip=False,  # randomly flip images\n",
    "        vertical_flip=False)  # randomly flip images\n",
    "\n",
    "\n",
    "    # This will just calculate parameters required to augment the given data. This won't perform any augmentations\n",
    "    datagen.fit(x_train)\n",
    "\n",
    "    # Fit the model\n",
    "    # history = model.fit_generator(datagen.flow(x_train, {'root': y_train_root, 'vowel': \n",
    "    history = model.fit(datagen.flow(x_train, {'root': y_train_root, 'vowel':y_train_vowel, 'consonant': y_train_consonant}, batch_size=batch_size),\n",
    "                              epochs = epochs, validation_data = (x_test, [y_test_root, y_test_vowel, y_test_consonant]), \n",
    "                              steps_per_epoch=x_train.shape[0] // batch_size, \n",
    "                              callbacks=cb)\n",
    "#                               callbacks=lr_scheduler)\n",
    "\n",
    "    histories.append(history)\n",
    "\n",
    "    # Delete to reduce memory usage\n",
    "    del x_train\n",
    "    del x_test\n",
    "    del y_train_root\n",
    "    del y_test_root\n",
    "    del y_train_vowel\n",
    "    del y_test_vowel\n",
    "    del y_train_consonant\n",
    "    del y_test_consonant\n",
    "    gc.collect()"
   ]
  },
  {
   "cell_type": "code",
   "execution_count": null,
   "metadata": {
    "colab": {},
    "colab_type": "code",
    "id": "KtKhz23uGv1g"
   },
   "outputs": [],
   "source": [
    "# def save_model(base_filters=32, nlevels=4, ncov=4, kernel_size=(3,3), \n",
    "#               activation='relu', momentum=0.15, dropout_rate=0.3):\n",
    "#   filepath = os.path.join(DATA_FOLDER, \"saved_model\", f'''{str(base_filters)}-{str(nlevels)}-{str(ncov)}-{str(kernel_size[0])}-{activation}-{str(momentum)}-{str(dropout_rate)}.h5''')\n",
    "#   print(filepath)\n",
    "#   model.save(filepath)"
   ]
  },
  {
   "cell_type": "code",
   "execution_count": null,
   "metadata": {
    "colab": {
     "base_uri": "https://localhost:8080/",
     "height": 35
    },
    "colab_type": "code",
    "executionInfo": {
     "elapsed": 709,
     "status": "ok",
     "timestamp": 1582341003400,
     "user": {
      "displayName": "Cheng Zeng",
      "photoUrl": "https://lh3.googleusercontent.com/a-/AAuE7mAiU7JcjKNZ4T2V2rZ92UhSJxBQzJxHgDdPy0KPpg=s64",
      "userId": "16792962723532587232"
     },
     "user_tz": 300
    },
    "id": "06VWDNdcIH3p",
    "outputId": "02ee8b9f-1d54-469c-a9b6-9ed8c2f632c1"
   },
   "outputs": [],
   "source": [
    "# save_model()"
   ]
  },
  {
   "cell_type": "code",
   "execution_count": null,
   "metadata": {
    "colab": {},
    "colab_type": "code",
    "id": "RNjlHieRszZP"
   },
   "outputs": [],
   "source": [
    "# import pickle\n",
    "# with open(os.path.join(DATA_FOLDER, \"saved_model\", \"history_basic_model_leaky\"), \"wb\") as pf:\n",
    "#   pickle.dump(histories[0].history, pf)"
   ]
  },
  {
   "cell_type": "code",
   "execution_count": null,
   "metadata": {
    "colab": {
     "base_uri": "https://localhost:8080/",
     "height": 581
    },
    "colab_type": "code",
    "executionInfo": {
     "elapsed": 939,
     "status": "ok",
     "timestamp": 1582340522679,
     "user": {
      "displayName": "Cheng Zeng",
      "photoUrl": "https://lh3.googleusercontent.com/a-/AAuE7mAiU7JcjKNZ4T2V2rZ92UhSJxBQzJxHgDdPy0KPpg=s64",
      "userId": "16792962723532587232"
     },
     "user_tz": 300
    },
    "id": "zNpYci4heStF",
    "outputId": "515113d8-51fd-4d94-98fe-bf4adda1772b"
   },
   "outputs": [],
   "source": [
    "for dataset in range(1):\n",
    "    plot_loss(histories[dataset], epochs, f'Training Dataset: {dataset}')\n",
    "    plot_acc(histories[dataset], epochs, f'Training Dataset: {dataset}')"
   ]
  },
  {
   "cell_type": "code",
   "execution_count": null,
   "metadata": {
    "colab": {
     "base_uri": "https://localhost:8080/",
     "height": 35
    },
    "colab_type": "code",
    "executionInfo": {
     "elapsed": 387,
     "status": "ok",
     "timestamp": 1582084903508,
     "user": {
      "displayName": "Cheng Zeng",
      "photoUrl": "https://lh3.googleusercontent.com/a-/AAuE7mAiU7JcjKNZ4T2V2rZ92UhSJxBQzJxHgDdPy0KPpg=s64",
      "userId": "16792962723532587232"
     },
     "user_tz": 300
    },
    "id": "0M34BWB_eStJ",
    "outputId": "35e5e0a7-0621-4083-a997-80a90b24bb24"
   },
   "outputs": [],
   "source": [
    "del histories\n",
    "gc.collect()"
   ]
  },
  {
   "cell_type": "code",
   "execution_count": null,
   "metadata": {
    "colab": {},
    "colab_type": "code",
    "id": "ai1CP0lpeStL"
   },
   "outputs": [],
   "source": [
    "preds_dict = {\n",
    "    'grapheme_root': [],\n",
    "    'vowel_diacritic': [],\n",
    "    'consonant_diacritic': []\n",
    "}"
   ]
  },
  {
   "cell_type": "code",
   "execution_count": null,
   "metadata": {
    "colab": {
     "base_uri": "https://localhost:8080/",
     "height": 204
    },
    "colab_type": "code",
    "executionInfo": {
     "elapsed": 20288,
     "status": "ok",
     "timestamp": 1582084925994,
     "user": {
      "displayName": "Cheng Zeng",
      "photoUrl": "https://lh3.googleusercontent.com/a-/AAuE7mAiU7JcjKNZ4T2V2rZ92UhSJxBQzJxHgDdPy0KPpg=s64",
      "userId": "16792962723532587232"
     },
     "user_tz": 300
    },
    "id": "g9u1XoL9eStO",
    "outputId": "f8450f4a-7ccd-4458-875c-096317963fbf"
   },
   "outputs": [],
   "source": [
    "components = ['consonant_diacritic', 'grapheme_root', 'vowel_diacritic']\n",
    "target=[] # model predictions placeholder\n",
    "row_id=[] # row_id place holder\n",
    "for i in range(4):\n",
    "    df_test_img = pd.read_parquet(DATA_FOLDER + f'/test_image_data_{i}.parquet') \n",
    "    df_test_img.set_index('image_id', inplace=True)\n",
    "\n",
    "    X_test = resize(df_test_img, need_progress_bar=False)/255\n",
    "    X_test = X_test.values.reshape(-1, IMG_SIZE, IMG_SIZE, N_CHANNELS)\n",
    "    \n",
    "    preds = model.predict(X_test)\n",
    "\n",
    "    for i, p in enumerate(preds_dict):\n",
    "        preds_dict[p] = np.argmax(preds[i], axis=1)\n",
    "\n",
    "    for k,id in enumerate(df_test_img.index.values):  \n",
    "        for i,comp in enumerate(components):\n",
    "            id_sample=id+'_'+comp\n",
    "            row_id.append(id_sample)\n",
    "            target.append(preds_dict[comp][k])\n",
    "    del df_test_img\n",
    "    del X_test\n",
    "    gc.collect()\n",
    "\n",
    "df_sample = pd.DataFrame(\n",
    "    {\n",
    "        'row_id': row_id,\n",
    "        'target':target\n",
    "    },\n",
    "    columns = ['row_id','target'] \n",
    ")\n",
    "df_sample.to_csv('submission.csv',index=False)\n",
    "df_sample.head()"
   ]
  },
  {
   "cell_type": "code",
   "execution_count": null,
   "metadata": {},
   "outputs": [],
   "source": []
  }
 ],
 "metadata": {
  "@webio": {
   "lastCommId": null,
   "lastKernelId": null
  },
  "accelerator": "GPU",
  "colab": {
   "collapsed_sections": [],
   "machine_shape": "hm",
   "name": "Basic_Model.ipynb",
   "provenance": []
  },
  "kernelspec": {
   "display_name": "Python 3",
   "language": "python",
   "name": "python3"
  },
  "language_info": {
   "codemirror_mode": {
    "name": "ipython",
    "version": 3
   },
   "file_extension": ".py",
   "mimetype": "text/x-python",
   "name": "python",
   "nbconvert_exporter": "python",
   "pygments_lexer": "ipython3",
   "version": "3.6.9"
  },
  "widgets": {
   "application/vnd.jupyter.widget-state+json": {
    "155c86640ba24c7498299b67c68aecbb": {
     "model_module": "@jupyter-widgets/controls",
     "model_name": "ProgressStyleModel",
     "state": {
      "_model_module": "@jupyter-widgets/controls",
      "_model_module_version": "1.5.0",
      "_model_name": "ProgressStyleModel",
      "_view_count": null,
      "_view_module": "@jupyter-widgets/base",
      "_view_module_version": "1.2.0",
      "_view_name": "StyleView",
      "bar_color": null,
      "description_width": ""
     }
    },
    "2b106f7c64a24794b23593d71b140753": {
     "model_module": "@jupyter-widgets/base",
     "model_name": "LayoutModel",
     "state": {
      "_model_module": "@jupyter-widgets/base",
      "_model_module_version": "1.2.0",
      "_model_name": "LayoutModel",
      "_view_count": null,
      "_view_module": "@jupyter-widgets/base",
      "_view_module_version": "1.2.0",
      "_view_name": "LayoutView",
      "align_content": null,
      "align_items": null,
      "align_self": null,
      "border": null,
      "bottom": null,
      "display": null,
      "flex": null,
      "flex_flow": null,
      "grid_area": null,
      "grid_auto_columns": null,
      "grid_auto_flow": null,
      "grid_auto_rows": null,
      "grid_column": null,
      "grid_gap": null,
      "grid_row": null,
      "grid_template_areas": null,
      "grid_template_columns": null,
      "grid_template_rows": null,
      "height": null,
      "justify_content": null,
      "justify_items": null,
      "left": null,
      "margin": null,
      "max_height": null,
      "max_width": null,
      "min_height": null,
      "min_width": null,
      "object_fit": null,
      "object_position": null,
      "order": null,
      "overflow": null,
      "overflow_x": null,
      "overflow_y": null,
      "padding": null,
      "right": null,
      "top": null,
      "visibility": null,
      "width": null
     }
    },
    "2cd1502a8efc4454a306c785bbd1c636": {
     "model_module": "@jupyter-widgets/base",
     "model_name": "LayoutModel",
     "state": {
      "_model_module": "@jupyter-widgets/base",
      "_model_module_version": "1.2.0",
      "_model_name": "LayoutModel",
      "_view_count": null,
      "_view_module": "@jupyter-widgets/base",
      "_view_module_version": "1.2.0",
      "_view_name": "LayoutView",
      "align_content": null,
      "align_items": null,
      "align_self": null,
      "border": null,
      "bottom": null,
      "display": null,
      "flex": null,
      "flex_flow": null,
      "grid_area": null,
      "grid_auto_columns": null,
      "grid_auto_flow": null,
      "grid_auto_rows": null,
      "grid_column": null,
      "grid_gap": null,
      "grid_row": null,
      "grid_template_areas": null,
      "grid_template_columns": null,
      "grid_template_rows": null,
      "height": null,
      "justify_content": null,
      "justify_items": null,
      "left": null,
      "margin": null,
      "max_height": null,
      "max_width": null,
      "min_height": null,
      "min_width": null,
      "object_fit": null,
      "object_position": null,
      "order": null,
      "overflow": null,
      "overflow_x": null,
      "overflow_y": null,
      "padding": null,
      "right": null,
      "top": null,
      "visibility": null,
      "width": null
     }
    },
    "792313458f984fd4978ce1e5d8dff9ad": {
     "model_module": "@jupyter-widgets/base",
     "model_name": "LayoutModel",
     "state": {
      "_model_module": "@jupyter-widgets/base",
      "_model_module_version": "1.2.0",
      "_model_name": "LayoutModel",
      "_view_count": null,
      "_view_module": "@jupyter-widgets/base",
      "_view_module_version": "1.2.0",
      "_view_name": "LayoutView",
      "align_content": null,
      "align_items": null,
      "align_self": null,
      "border": null,
      "bottom": null,
      "display": null,
      "flex": null,
      "flex_flow": null,
      "grid_area": null,
      "grid_auto_columns": null,
      "grid_auto_flow": null,
      "grid_auto_rows": null,
      "grid_column": null,
      "grid_gap": null,
      "grid_row": null,
      "grid_template_areas": null,
      "grid_template_columns": null,
      "grid_template_rows": null,
      "height": null,
      "justify_content": null,
      "justify_items": null,
      "left": null,
      "margin": null,
      "max_height": null,
      "max_width": null,
      "min_height": null,
      "min_width": null,
      "object_fit": null,
      "object_position": null,
      "order": null,
      "overflow": null,
      "overflow_x": null,
      "overflow_y": null,
      "padding": null,
      "right": null,
      "top": null,
      "visibility": null,
      "width": null
     }
    },
    "c117538877044e778a5aceb337944cca": {
     "model_module": "@jupyter-widgets/controls",
     "model_name": "HTMLModel",
     "state": {
      "_dom_classes": [],
      "_model_module": "@jupyter-widgets/controls",
      "_model_module_version": "1.5.0",
      "_model_name": "HTMLModel",
      "_view_count": null,
      "_view_module": "@jupyter-widgets/controls",
      "_view_module_version": "1.5.0",
      "_view_name": "HTMLView",
      "description": "",
      "description_tooltip": null,
      "layout": "IPY_MODEL_2cd1502a8efc4454a306c785bbd1c636",
      "placeholder": "​",
      "style": "IPY_MODEL_dc960169e09a40e89d61d271ba7ea7b5",
      "value": "100% 50210/50210 [01:56&lt;00:00, 432.47it/s]"
     }
    },
    "daa43ffa095a4489bfac7103333df80e": {
     "model_module": "@jupyter-widgets/controls",
     "model_name": "IntProgressModel",
     "state": {
      "_dom_classes": [],
      "_model_module": "@jupyter-widgets/controls",
      "_model_module_version": "1.5.0",
      "_model_name": "IntProgressModel",
      "_view_count": null,
      "_view_module": "@jupyter-widgets/controls",
      "_view_module_version": "1.5.0",
      "_view_name": "ProgressView",
      "bar_style": "success",
      "description": "",
      "description_tooltip": null,
      "layout": "IPY_MODEL_2b106f7c64a24794b23593d71b140753",
      "max": 50210,
      "min": 0,
      "orientation": "horizontal",
      "style": "IPY_MODEL_155c86640ba24c7498299b67c68aecbb",
      "value": 50210
     }
    },
    "dc960169e09a40e89d61d271ba7ea7b5": {
     "model_module": "@jupyter-widgets/controls",
     "model_name": "DescriptionStyleModel",
     "state": {
      "_model_module": "@jupyter-widgets/controls",
      "_model_module_version": "1.5.0",
      "_model_name": "DescriptionStyleModel",
      "_view_count": null,
      "_view_module": "@jupyter-widgets/base",
      "_view_module_version": "1.2.0",
      "_view_name": "StyleView",
      "description_width": ""
     }
    },
    "fe4074457bfd4797a2b6a558031a424a": {
     "model_module": "@jupyter-widgets/controls",
     "model_name": "HBoxModel",
     "state": {
      "_dom_classes": [],
      "_model_module": "@jupyter-widgets/controls",
      "_model_module_version": "1.5.0",
      "_model_name": "HBoxModel",
      "_view_count": null,
      "_view_module": "@jupyter-widgets/controls",
      "_view_module_version": "1.5.0",
      "_view_name": "HBoxView",
      "box_style": "",
      "children": [
       "IPY_MODEL_daa43ffa095a4489bfac7103333df80e",
       "IPY_MODEL_c117538877044e778a5aceb337944cca"
      ],
      "layout": "IPY_MODEL_792313458f984fd4978ce1e5d8dff9ad"
     }
    }
   }
  }
 },
 "nbformat": 4,
 "nbformat_minor": 1
}
