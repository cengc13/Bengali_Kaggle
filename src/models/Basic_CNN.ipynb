{
 "cells": [
  {
   "cell_type": "code",
   "execution_count": 1,
   "metadata": {
    "_cell_guid": "b1076dfc-b9ad-4769-8c92-a6c4dae69d19",
    "_uuid": "8f2839f25d086af736a60e9eeb907d3b93b6e0e5",
    "colab": {
     "base_uri": "https://localhost:8080/",
     "height": 341
    },
    "colab_type": "code",
    "executionInfo": {
     "elapsed": 367,
     "status": "ok",
     "timestamp": 1582329109435,
     "user": {
      "displayName": "Cheng Zeng",
      "photoUrl": "https://lh3.googleusercontent.com/a-/AAuE7mAiU7JcjKNZ4T2V2rZ92UhSJxBQzJxHgDdPy0KPpg=s64",
      "userId": "16792962723532587232"
     },
     "user_tz": 300
    },
    "id": "vmYpPfCWeSqo",
    "outputId": "aea48d9c-c1ef-446e-c675-96d87f3b433d"
   },
   "outputs": [],
   "source": [
    "# %tensorflow_version 2.x \n",
    "# On Colab, need this to specify tensorflow version\n",
    "import numpy as np\n",
    "import pandas as pd \n",
    "from tqdm.auto import tqdm\n",
    "from glob import glob\n",
    "import time, gc, sys\n",
    "import cv2\n",
    "\n",
    "sys.path.append(\"../tools/\")\n",
    "from helpers import (get_n, get_dummies, resize, plot_loss,\n",
    "                     MultiOutputDataGenerator, plot_acc,\n",
    "                    image_from_char)"
   ]
  },
  {
   "cell_type": "code",
   "execution_count": 2,
   "metadata": {
    "_cell_guid": "b1076dfc-b9ad-4769-8c92-a6c4dae69d19",
    "_uuid": "8f2839f25d086af736a60e9eeb907d3b93b6e0e5",
    "colab": {
     "base_uri": "https://localhost:8080/",
     "height": 341
    },
    "colab_type": "code",
    "executionInfo": {
     "elapsed": 367,
     "status": "ok",
     "timestamp": 1582329109435,
     "user": {
      "displayName": "Cheng Zeng",
      "photoUrl": "https://lh3.googleusercontent.com/a-/AAuE7mAiU7JcjKNZ4T2V2rZ92UhSJxBQzJxHgDdPy0KPpg=s64",
      "userId": "16792962723532587232"
     },
     "user_tz": 300
    },
    "id": "vmYpPfCWeSqo",
    "outputId": "aea48d9c-c1ef-446e-c675-96d87f3b433d"
   },
   "outputs": [],
   "source": [
    "from tensorflow import keras\n",
    "import tensorflow as tf\n",
    "import matplotlib.image as mpimg\n",
    "from tensorflow.keras.preprocessing.image import ImageDataGenerator\n",
    "from tensorflow.keras.models import Model\n",
    "from tensorflow.keras.models import clone_model\n",
    "from tensorflow.keras.layers import Dense,Conv2D,Flatten,MaxPool2D,Dropout,BatchNormalization, Input\n",
    "from tensorflow.keras.optimizers import Adam\n",
    "from tensorflow.keras.callbacks import ReduceLROnPlateau\n",
    "from sklearn.model_selection import train_test_split\n",
    "from sklearn.metrics import confusion_matrix\n",
    "import PIL.Image as Image, PIL.ImageDraw as ImageDraw, PIL.ImageFont as ImageFont\n",
    "from matplotlib import pyplot as plt\n",
    "import seaborn as sns\n",
    "%matplotlib inline"
   ]
  },
  {
   "cell_type": "code",
   "execution_count": 3,
   "metadata": {
    "_cell_guid": "b1076dfc-b9ad-4769-8c92-a6c4dae69d19",
    "_uuid": "8f2839f25d086af736a60e9eeb907d3b93b6e0e5",
    "colab": {
     "base_uri": "https://localhost:8080/",
     "height": 341
    },
    "colab_type": "code",
    "executionInfo": {
     "elapsed": 367,
     "status": "ok",
     "timestamp": 1582329109435,
     "user": {
      "displayName": "Cheng Zeng",
      "photoUrl": "https://lh3.googleusercontent.com/a-/AAuE7mAiU7JcjKNZ4T2V2rZ92UhSJxBQzJxHgDdPy0KPpg=s64",
      "userId": "16792962723532587232"
     },
     "user_tz": 300
    },
    "id": "vmYpPfCWeSqo",
    "outputId": "aea48d9c-c1ef-446e-c675-96d87f3b433d"
   },
   "outputs": [
    {
     "name": "stdout",
     "output_type": "stream",
     "text": [
      "../../data/test_image_data_3.parquet\n",
      "../../data/train.csv\n",
      "../../data/test_image_data_1.parquet\n",
      "../../data/train_image_data_2.parquet\n",
      "../../data/train_image_data_3.parquet\n",
      "../../data/test_image_data_2.parquet\n",
      "../../data/test_image_data_0.parquet\n",
      "../../data/train_image_data_0.parquet\n",
      "../../data/class_map.csv\n",
      "../../data/test.csv\n",
      "../../data/train_image_data_1.parquet\n",
      "../../data/sample_submission.csv\n",
      "../../data/Kalpurush_Fonts/kalpurush-2.ttf\n"
     ]
    }
   ],
   "source": [
    "import os\n",
    "DATA_FOLDER = \"../../data/\"\n",
    "for dirname, _, filenames in os.walk(DATA_FOLDER):\n",
    "    for filename in filenames:\n",
    "        print(os.path.join(dirname, filename))"
   ]
  },
  {
   "cell_type": "code",
   "execution_count": 4,
   "metadata": {
    "_cell_guid": "79c7e3d0-c299-4dcb-8224-4455121ee9b0",
    "_uuid": "d629ff2d2480ee46fbb7e2d37f6b5fab8052498a",
    "colab": {},
    "colab_type": "code",
    "id": "FLCyFeHzeSqy"
   },
   "outputs": [],
   "source": [
    "train_df_ = pd.read_csv(DATA_FOLDER+'/train.csv')\n",
    "test_df_ = pd.read_csv(DATA_FOLDER + '/test.csv')\n",
    "class_map_df = pd.read_csv(DATA_FOLDER + '/class_map.csv')\n",
    "sample_sub_df = pd.read_csv(DATA_FOLDER + '/sample_submission.csv')"
   ]
  },
  {
   "cell_type": "code",
   "execution_count": 5,
   "metadata": {
    "colab": {},
    "colab_type": "code",
    "id": "GwblemHpeSrV"
   },
   "outputs": [],
   "source": [
    "HEIGHT = 236\n",
    "WIDTH = 236"
   ]
  },
  {
   "cell_type": "markdown",
   "metadata": {
    "colab_type": "text",
    "id": "k0H3p2qQeSra"
   },
   "source": [
    "### Number of unique values"
   ]
  },
  {
   "cell_type": "code",
   "execution_count": 6,
   "metadata": {
    "colab": {
     "base_uri": "https://localhost:8080/",
     "height": 71
    },
    "colab_type": "code",
    "executionInfo": {
     "elapsed": 384,
     "status": "ok",
     "timestamp": 1582329118776,
     "user": {
      "displayName": "Cheng Zeng",
      "photoUrl": "https://lh3.googleusercontent.com/a-/AAuE7mAiU7JcjKNZ4T2V2rZ92UhSJxBQzJxHgDdPy0KPpg=s64",
      "userId": "16792962723532587232"
     },
     "user_tz": 300
    },
    "id": "_xA5fsiaeSrd",
    "outputId": "6815a8b2-e6c4-4430-cfc8-ee7e50764163"
   },
   "outputs": [
    {
     "name": "stdout",
     "output_type": "stream",
     "text": [
      "Number of unique grapheme roots: 168\n",
      "Number of unique vowel diacritic: 11\n",
      "Number of unique consonant diacritic: 7\n"
     ]
    }
   ],
   "source": [
    "print(f'Number of unique grapheme roots: {train_df_[\"grapheme_root\"].nunique()}')\n",
    "print(f'Number of unique vowel diacritic: {train_df_[\"vowel_diacritic\"].nunique()}')\n",
    "print(f'Number of unique consonant diacritic: {train_df_[\"consonant_diacritic\"].nunique()}')"
   ]
  },
  {
   "cell_type": "code",
   "execution_count": 7,
   "metadata": {
    "colab": {},
    "colab_type": "code",
    "id": "nMEu3e4weSsE"
   },
   "outputs": [],
   "source": [
    "train_df_ = train_df_.drop(['grapheme'], axis=1, inplace=False)"
   ]
  },
  {
   "cell_type": "code",
   "execution_count": 8,
   "metadata": {
    "colab": {},
    "colab_type": "code",
    "id": "QezeiQzoeSsI"
   },
   "outputs": [],
   "source": [
    "train_df_[['grapheme_root', 'vowel_diacritic', 'consonant_diacritic']] = train_df_[['grapheme_root', 'vowel_diacritic', 'consonant_diacritic']].astype('uint8')"
   ]
  },
  {
   "cell_type": "code",
   "execution_count": 9,
   "metadata": {
    "colab": {},
    "colab_type": "code",
    "id": "a4dcHvKyeSsL"
   },
   "outputs": [],
   "source": [
    "IMG_SIZE=64\n",
    "N_CHANNELS=1"
   ]
  },
  {
   "cell_type": "markdown",
   "metadata": {
    "colab_type": "text",
    "id": "7T-8Aa8xeSsW"
   },
   "source": [
    "## Basic Model"
   ]
  },
  {
   "cell_type": "code",
   "execution_count": 10,
   "metadata": {
    "colab": {},
    "colab_type": "code",
    "id": "IOlwgGTdn7jq"
   },
   "outputs": [],
   "source": [
    "def get_model(base_filters=32, nlevels=4, ncov=4, kernel_size=(3,3), \n",
    "              activation='relu', momentum=0.15, dropout_rate=0.3,\n",
    "             pool_size=2):\n",
    "    keras.backend.clear_session()\n",
    "    tf.random.set_seed(2040)\n",
    "    inputs = Input(shape = (IMG_SIZE, IMG_SIZE, 1))\n",
    "    if activation.lower() == 'leakyrelu':\n",
    "        activation = keras.layers.LeakyReLU(alpha=0.05)\n",
    "\n",
    "    model = Conv2D(filters=base_filters, kernel_size=kernel_size, padding='SAME', \n",
    "                 activation=activation, \n",
    "                 input_shape=(IMG_SIZE, IMG_SIZE, 1))(inputs)\n",
    "    for _ in range(ncov-1):\n",
    "        model = Conv2D(filters=base_filters, kernel_size=kernel_size, padding='SAME', \n",
    "                   activation=activation)(model)\n",
    "    model = BatchNormalization(momentum=momentum)(model)\n",
    "    model = MaxPool2D(pool_size=(pool_size, pool_size), )(model)\n",
    "    model = Conv2D(filters=base_filters, kernel_size=(5, 5), padding='SAME',\n",
    "#     model = Conv2D(filters=base_filters, kernel_size=(3, 3), padding='SAME',\n",
    "                 activation=activation)(model)\n",
    "    model = Dropout(rate=dropout_rate)(model)\n",
    "    for i in range(nlevels-1):\n",
    "        for _ in range(ncov):\n",
    "            model = Conv2D(filters=2**(i+1)*base_filters, kernel_size=kernel_size, \n",
    "                         padding='SAME', activation=activation)(model)\n",
    "        model = BatchNormalization(momentum=momentum)(model)\n",
    "        model = MaxPool2D(pool_size=(pool_size, pool_size))(model)\n",
    "        model = Conv2D(filters=2**(i+1)*base_filters, kernel_size=(5, 5), \n",
    "#         model = Conv2D(filters=2**(i+1)*base_filters, kernel_size=(3, 3), \n",
    "                       padding='SAME', activation=activation)(model)\n",
    "        model = BatchNormalization(momentum=momentum)(model)\n",
    "        model = Dropout(rate=dropout_rate)(model)\n",
    "\n",
    "    model = Flatten()(model)\n",
    "    model = Dense(1024, activation = activation)(model)\n",
    "    model = Dropout(rate=dropout_rate)(model)\n",
    "    dense = Dense(512, activation = activation)(model)\n",
    "\n",
    "    head_root = Dense(168, activation = 'softmax', name='root')(dense)\n",
    "    head_vowel = Dense(11, activation = 'softmax', name='vowel')(dense)\n",
    "    head_consonant = Dense(7, activation = 'softmax', name='consonant')(dense)\n",
    "\n",
    "    model = Model(inputs=inputs, outputs=[head_root, head_vowel, head_consonant])\n",
    "#     lr = 1e-3\n",
    "#     opt = keras.optimizers.RMSprop(learning_rate=lr, rho=0.9)\n",
    "#     model.compile(optimizer=opt, loss='categorical_crossentropy',  metrics=['accuracy'])\n",
    "    return model"
   ]
  },
  {
   "cell_type": "code",
   "execution_count": 11,
   "metadata": {
    "colab": {
     "base_uri": "https://localhost:8080/",
     "height": 1000
    },
    "colab_type": "code",
    "executionInfo": {
     "elapsed": 1153,
     "status": "ok",
     "timestamp": 1582335575704,
     "user": {
      "displayName": "Cheng Zeng",
      "photoUrl": "https://lh3.googleusercontent.com/a-/AAuE7mAiU7JcjKNZ4T2V2rZ92UhSJxBQzJxHgDdPy0KPpg=s64",
      "userId": "16792962723532587232"
     },
     "user_tz": 300
    },
    "id": "-SlmTJZXeSsa",
    "outputId": "c5b11056-9ecb-48e5-fc0f-d61d4e3fd049"
   },
   "outputs": [
    {
     "name": "stdout",
     "output_type": "stream",
     "text": [
      "Model: \"model\"\n",
      "__________________________________________________________________________________________________\n",
      "Layer (type)                    Output Shape         Param #     Connected to                     \n",
      "==================================================================================================\n",
      "input_1 (InputLayer)            [(None, 64, 64, 1)]  0                                            \n",
      "__________________________________________________________________________________________________\n",
      "conv2d (Conv2D)                 (None, 64, 64, 32)   320         input_1[0][0]                    \n",
      "__________________________________________________________________________________________________\n",
      "conv2d_1 (Conv2D)               (None, 64, 64, 32)   9248        conv2d[0][0]                     \n",
      "__________________________________________________________________________________________________\n",
      "conv2d_2 (Conv2D)               (None, 64, 64, 32)   9248        conv2d_1[0][0]                   \n",
      "__________________________________________________________________________________________________\n",
      "conv2d_3 (Conv2D)               (None, 64, 64, 32)   9248        conv2d_2[0][0]                   \n",
      "__________________________________________________________________________________________________\n",
      "batch_normalization (BatchNorma (None, 64, 64, 32)   128         conv2d_3[0][0]                   \n",
      "__________________________________________________________________________________________________\n",
      "max_pooling2d (MaxPooling2D)    (None, 32, 32, 32)   0           batch_normalization[0][0]        \n",
      "__________________________________________________________________________________________________\n",
      "conv2d_4 (Conv2D)               (None, 32, 32, 32)   25632       max_pooling2d[0][0]              \n",
      "__________________________________________________________________________________________________\n",
      "dropout (Dropout)               (None, 32, 32, 32)   0           conv2d_4[0][0]                   \n",
      "__________________________________________________________________________________________________\n",
      "conv2d_5 (Conv2D)               (None, 32, 32, 64)   18496       dropout[0][0]                    \n",
      "__________________________________________________________________________________________________\n",
      "conv2d_6 (Conv2D)               (None, 32, 32, 64)   36928       conv2d_5[0][0]                   \n",
      "__________________________________________________________________________________________________\n",
      "conv2d_7 (Conv2D)               (None, 32, 32, 64)   36928       conv2d_6[0][0]                   \n",
      "__________________________________________________________________________________________________\n",
      "conv2d_8 (Conv2D)               (None, 32, 32, 64)   36928       conv2d_7[0][0]                   \n",
      "__________________________________________________________________________________________________\n",
      "batch_normalization_1 (BatchNor (None, 32, 32, 64)   256         conv2d_8[0][0]                   \n",
      "__________________________________________________________________________________________________\n",
      "max_pooling2d_1 (MaxPooling2D)  (None, 16, 16, 64)   0           batch_normalization_1[0][0]      \n",
      "__________________________________________________________________________________________________\n",
      "conv2d_9 (Conv2D)               (None, 16, 16, 64)   102464      max_pooling2d_1[0][0]            \n",
      "__________________________________________________________________________________________________\n",
      "batch_normalization_2 (BatchNor (None, 16, 16, 64)   256         conv2d_9[0][0]                   \n",
      "__________________________________________________________________________________________________\n",
      "dropout_1 (Dropout)             (None, 16, 16, 64)   0           batch_normalization_2[0][0]      \n",
      "__________________________________________________________________________________________________\n",
      "conv2d_10 (Conv2D)              (None, 16, 16, 128)  73856       dropout_1[0][0]                  \n",
      "__________________________________________________________________________________________________\n",
      "conv2d_11 (Conv2D)              (None, 16, 16, 128)  147584      conv2d_10[0][0]                  \n",
      "__________________________________________________________________________________________________\n",
      "conv2d_12 (Conv2D)              (None, 16, 16, 128)  147584      conv2d_11[0][0]                  \n",
      "__________________________________________________________________________________________________\n",
      "conv2d_13 (Conv2D)              (None, 16, 16, 128)  147584      conv2d_12[0][0]                  \n",
      "__________________________________________________________________________________________________\n",
      "batch_normalization_3 (BatchNor (None, 16, 16, 128)  512         conv2d_13[0][0]                  \n",
      "__________________________________________________________________________________________________\n",
      "max_pooling2d_2 (MaxPooling2D)  (None, 8, 8, 128)    0           batch_normalization_3[0][0]      \n",
      "__________________________________________________________________________________________________\n",
      "conv2d_14 (Conv2D)              (None, 8, 8, 128)    409728      max_pooling2d_2[0][0]            \n",
      "__________________________________________________________________________________________________\n",
      "batch_normalization_4 (BatchNor (None, 8, 8, 128)    512         conv2d_14[0][0]                  \n",
      "__________________________________________________________________________________________________\n",
      "dropout_2 (Dropout)             (None, 8, 8, 128)    0           batch_normalization_4[0][0]      \n",
      "__________________________________________________________________________________________________\n",
      "conv2d_15 (Conv2D)              (None, 8, 8, 256)    295168      dropout_2[0][0]                  \n",
      "__________________________________________________________________________________________________\n",
      "conv2d_16 (Conv2D)              (None, 8, 8, 256)    590080      conv2d_15[0][0]                  \n",
      "__________________________________________________________________________________________________\n",
      "conv2d_17 (Conv2D)              (None, 8, 8, 256)    590080      conv2d_16[0][0]                  \n",
      "__________________________________________________________________________________________________\n",
      "conv2d_18 (Conv2D)              (None, 8, 8, 256)    590080      conv2d_17[0][0]                  \n",
      "__________________________________________________________________________________________________\n",
      "batch_normalization_5 (BatchNor (None, 8, 8, 256)    1024        conv2d_18[0][0]                  \n",
      "__________________________________________________________________________________________________\n",
      "max_pooling2d_3 (MaxPooling2D)  (None, 4, 4, 256)    0           batch_normalization_5[0][0]      \n",
      "__________________________________________________________________________________________________\n",
      "conv2d_19 (Conv2D)              (None, 4, 4, 256)    1638656     max_pooling2d_3[0][0]            \n",
      "__________________________________________________________________________________________________\n",
      "batch_normalization_6 (BatchNor (None, 4, 4, 256)    1024        conv2d_19[0][0]                  \n",
      "__________________________________________________________________________________________________\n",
      "dropout_3 (Dropout)             (None, 4, 4, 256)    0           batch_normalization_6[0][0]      \n",
      "__________________________________________________________________________________________________\n",
      "flatten (Flatten)               (None, 4096)         0           dropout_3[0][0]                  \n",
      "__________________________________________________________________________________________________\n",
      "dense (Dense)                   (None, 1024)         4195328     flatten[0][0]                    \n",
      "__________________________________________________________________________________________________\n",
      "dropout_4 (Dropout)             (None, 1024)         0           dense[0][0]                      \n",
      "__________________________________________________________________________________________________\n",
      "dense_1 (Dense)                 (None, 512)          524800      dropout_4[0][0]                  \n",
      "__________________________________________________________________________________________________\n",
      "root (Dense)                    (None, 168)          86184       dense_1[0][0]                    \n",
      "__________________________________________________________________________________________________\n",
      "vowel (Dense)                   (None, 11)           5643        dense_1[0][0]                    \n",
      "__________________________________________________________________________________________________\n",
      "consonant (Dense)               (None, 7)            3591        dense_1[0][0]                    \n",
      "==================================================================================================\n",
      "Total params: 9,735,098\n",
      "Trainable params: 9,733,242\n",
      "Non-trainable params: 1,856\n",
      "__________________________________________________________________________________________________\n"
     ]
    }
   ],
   "source": [
    "model = get_model(base_filters=32, activation='relu', nlevels=4, ncov=4,\n",
    "                  kernel_size=(3,3), pool_size=2)\n",
    "lr = 1e-3\n",
    "opt = keras.optimizers.RMSprop(learning_rate=lr, rho=0.9)\n",
    "model.compile(optimizer=opt, loss='categorical_crossentropy',  metrics=['accuracy'])\n",
    "model.summary()"
   ]
  },
  {
   "cell_type": "code",
   "execution_count": 12,
   "metadata": {
    "colab": {
     "base_uri": "https://localhost:8080/",
     "height": 1000
    },
    "colab_type": "code",
    "executionInfo": {
     "elapsed": 1153,
     "status": "ok",
     "timestamp": 1582335575704,
     "user": {
      "displayName": "Cheng Zeng",
      "photoUrl": "https://lh3.googleusercontent.com/a-/AAuE7mAiU7JcjKNZ4T2V2rZ92UhSJxBQzJxHgDdPy0KPpg=s64",
      "userId": "16792962723532587232"
     },
     "user_tz": 300
    },
    "id": "-SlmTJZXeSsa",
    "outputId": "c5b11056-9ecb-48e5-fc0f-d61d4e3fd049"
   },
   "outputs": [],
   "source": [
    "# model_to_load = \"./saved_models/model_more_epochs.h5\"\n",
    "# model = keras.models.load_model(model_to_load)\n",
    "# model.summary()"
   ]
  },
  {
   "cell_type": "code",
   "execution_count": 13,
   "metadata": {
    "colab": {},
    "colab_type": "code",
    "id": "6_axgT6weSsj"
   },
   "outputs": [],
   "source": [
    "# from tensorflow.keras.utils import plot_model\n",
    "# plot_model(model, to_file='model.png');"
   ]
  },
  {
   "cell_type": "code",
   "execution_count": 14,
   "metadata": {
    "colab": {},
    "colab_type": "code",
    "id": "h7JrCyVueSsn"
   },
   "outputs": [],
   "source": [
    "# weights = {'root': 0.7, 'vowel': 0.1, 'consonant':0.2}\n",
    "# lr = 5e-4\n",
    "# opt = keras.optimizers.RMSprop(learning_rate=lr, rho=0.9)\n",
    "# model.compile(optimizer=opt, loss='categorical_crossentropy',  metrics=['accuracy'],\n",
    "#               loss_weights=weights,)"
   ]
  },
  {
   "cell_type": "code",
   "execution_count": 15,
   "metadata": {
    "colab": {},
    "colab_type": "code",
    "id": "LeiKH3tMeSsp"
   },
   "outputs": [],
   "source": [
    "# Learning rate will be half after 3 epochs if accuracy is not increased\n",
    "lr_scheduler = []\n",
    "targets = ['root', 'vowel', 'consonant']\n",
    "for target in targets:\n",
    "    lr_scheduler.append(ReduceLROnPlateau(monitor=f'{target}_accuracy', \n",
    "                                            patience=3,\n",
    "                                            verbose=1,\n",
    "                                            factor=0.5, \n",
    "                                            min_lr=0.00001))\n",
    "    \n",
    "# es = keras.callbacks.EarlyStopping(patience=5, restore_best_weights=True)\n",
    "# def exponential_decay(epoch):\n",
    "#    initial_lr = 0.001\n",
    "#    k = 0.1\n",
    "#    lr = initial_lr * np.exp(-k*epoch)\n",
    "#    return lr\n",
    "\n",
    "# lrate = keras.callbacks.LearningRateScheduler(exponential_decay)\n"
   ]
  },
  {
   "cell_type": "code",
   "execution_count": 16,
   "metadata": {
    "colab": {},
    "colab_type": "code",
    "id": "RxFESkKCeSss"
   },
   "outputs": [],
   "source": [
    "batch_size = 256\n",
    "# batch_size = 512\n",
    "epochs = 30"
   ]
  },
  {
   "cell_type": "code",
   "execution_count": 17,
   "metadata": {
    "colab": {},
    "colab_type": "code",
    "id": "DL_2YEYTeSs3"
   },
   "outputs": [],
   "source": [
    "HEIGHT = 137\n",
    "WIDTH = 236"
   ]
  },
  {
   "cell_type": "code",
   "execution_count": 18,
   "metadata": {
    "colab": {
     "base_uri": "https://localhost:8080/",
     "height": 139,
     "referenced_widgets": [
      "fe4074457bfd4797a2b6a558031a424a",
      "792313458f984fd4978ce1e5d8dff9ad",
      "daa43ffa095a4489bfac7103333df80e",
      "c117538877044e778a5aceb337944cca",
      "155c86640ba24c7498299b67c68aecbb",
      "2b106f7c64a24794b23593d71b140753",
      "dc960169e09a40e89d61d271ba7ea7b5",
      "2cd1502a8efc4454a306c785bbd1c636"
     ]
    },
    "colab_type": "code",
    "executionInfo": {
     "elapsed": 147178,
     "status": "ok",
     "timestamp": 1582335755814,
     "user": {
      "displayName": "Cheng Zeng",
      "photoUrl": "https://lh3.googleusercontent.com/a-/AAuE7mAiU7JcjKNZ4T2V2rZ92UhSJxBQzJxHgDdPy0KPpg=s64",
      "userId": "16792962723532587232"
     },
     "user_tz": 300
    },
    "id": "kS92Hzd4NyB7",
    "outputId": "6dc0d63c-6a01-4751-b8af-a3bbc98b8884"
   },
   "outputs": [],
   "source": [
    "# model = get_model(base_filters=48, ncov=3, pool_size=3)\n",
    "# model.summary()\n",
    "# model = keras.models.load_model('./saved_models/model_selu_kernel-3_cov-3_basefilter-48_pool-3_3.h5')"
   ]
  },
  {
   "cell_type": "code",
   "execution_count": 19,
   "metadata": {
    "colab": {
     "base_uri": "https://localhost:8080/",
     "height": 139,
     "referenced_widgets": [
      "fe4074457bfd4797a2b6a558031a424a",
      "792313458f984fd4978ce1e5d8dff9ad",
      "daa43ffa095a4489bfac7103333df80e",
      "c117538877044e778a5aceb337944cca",
      "155c86640ba24c7498299b67c68aecbb",
      "2b106f7c64a24794b23593d71b140753",
      "dc960169e09a40e89d61d271ba7ea7b5",
      "2cd1502a8efc4454a306c785bbd1c636"
     ]
    },
    "colab_type": "code",
    "executionInfo": {
     "elapsed": 147178,
     "status": "ok",
     "timestamp": 1582335755814,
     "user": {
      "displayName": "Cheng Zeng",
      "photoUrl": "https://lh3.googleusercontent.com/a-/AAuE7mAiU7JcjKNZ4T2V2rZ92UhSJxBQzJxHgDdPy0KPpg=s64",
      "userId": "16792962723532587232"
     },
     "user_tz": 300
    },
    "id": "kS92Hzd4NyB7",
    "outputId": "6dc0d63c-6a01-4751-b8af-a3bbc98b8884"
   },
   "outputs": [],
   "source": [
    "import time\n",
    "histories = []"
   ]
  },
  {
   "cell_type": "code",
   "execution_count": 20,
   "metadata": {
    "colab": {
     "base_uri": "https://localhost:8080/",
     "height": 139,
     "referenced_widgets": [
      "fe4074457bfd4797a2b6a558031a424a",
      "792313458f984fd4978ce1e5d8dff9ad",
      "daa43ffa095a4489bfac7103333df80e",
      "c117538877044e778a5aceb337944cca",
      "155c86640ba24c7498299b67c68aecbb",
      "2b106f7c64a24794b23593d71b140753",
      "dc960169e09a40e89d61d271ba7ea7b5",
      "2cd1502a8efc4454a306c785bbd1c636"
     ]
    },
    "colab_type": "code",
    "executionInfo": {
     "elapsed": 147178,
     "status": "ok",
     "timestamp": 1582335755814,
     "user": {
      "displayName": "Cheng Zeng",
      "photoUrl": "https://lh3.googleusercontent.com/a-/AAuE7mAiU7JcjKNZ4T2V2rZ92UhSJxBQzJxHgDdPy0KPpg=s64",
      "userId": "16792962723532587232"
     },
     "user_tz": 300
    },
    "id": "kS92Hzd4NyB7",
    "outputId": "6dc0d63c-6a01-4751-b8af-a3bbc98b8884"
   },
   "outputs": [
    {
     "data": {
      "application/vnd.jupyter.widget-view+json": {
       "model_id": "48016dcbaf2347b7aba1f891572f7f25",
       "version_major": 2,
       "version_minor": 0
      },
      "text/plain": [
       "HBox(children=(FloatProgress(value=0.0, max=50210.0), HTML(value='')))"
      ]
     },
     "metadata": {},
     "output_type": "display_data"
    },
    {
     "name": "stdout",
     "output_type": "stream",
     "text": [
      "\n",
      "WARNING:tensorflow:sample_weight modes were coerced from\n",
      "  {'root': '...', 'vowel': '...', 'consonant': '...'}\n",
      "    to  \n",
      "  ['...', '...', '...']\n",
      "Train for 180 steps, validate on 4017 samples\n",
      "Epoch 1/15\n",
      "180/180 [==============================] - 29s 160ms/step - loss: 8.5894 - root_loss: 4.9096 - vowel_loss: 2.2774 - consonant_loss: 1.4024 - root_accuracy: 0.0276 - vowel_accuracy: 0.2534 - consonant_accuracy: 0.6094 - val_loss: 143.6111 - val_root_loss: 73.1214 - val_vowel_loss: 54.5542 - val_consonant_loss: 15.7925 - val_root_accuracy: 0.0124 - val_vowel_accuracy: 0.1827 - val_consonant_accuracy: 0.3659\n",
      "Epoch 2/15\n",
      "180/180 [==============================] - 24s 133ms/step - loss: 6.9696 - root_loss: 4.5566 - vowel_loss: 1.3743 - consonant_loss: 1.0387 - root_accuracy: 0.0391 - vowel_accuracy: 0.5259 - consonant_accuracy: 0.6463 - val_loss: 5.9826 - val_root_loss: 4.2789 - val_vowel_loss: 0.8245 - val_consonant_loss: 0.8775 - val_root_accuracy: 0.0588 - val_vowel_accuracy: 0.7122 - val_consonant_accuracy: 0.6993\n",
      "Epoch 3/15\n",
      "180/180 [==============================] - 24s 131ms/step - loss: 6.0326 - root_loss: 4.1896 - vowel_loss: 1.0010 - consonant_loss: 0.8420 - root_accuracy: 0.0687 - vowel_accuracy: 0.6545 - consonant_accuracy: 0.7072 - val_loss: 4.8968 - val_root_loss: 3.7624 - val_vowel_loss: 0.5630 - val_consonant_loss: 0.5742 - val_root_accuracy: 0.1018 - val_vowel_accuracy: 0.8106 - val_consonant_accuracy: 0.7936\n",
      "Epoch 4/15\n",
      "180/180 [==============================] - 24s 131ms/step - loss: 5.1236 - root_loss: 3.6196 - vowel_loss: 0.8184 - consonant_loss: 0.6856 - root_accuracy: 0.1294 - vowel_accuracy: 0.7271 - consonant_accuracy: 0.7635 - val_loss: 3.7335 - val_root_loss: 2.8269 - val_vowel_loss: 0.4704 - val_consonant_loss: 0.4388 - val_root_accuracy: 0.2524 - val_vowel_accuracy: 0.8439 - val_consonant_accuracy: 0.8457\n",
      "Epoch 5/15\n",
      "180/180 [==============================] - 24s 131ms/step - loss: 4.2458 - root_loss: 2.9630 - vowel_loss: 0.7092 - consonant_loss: 0.5736 - root_accuracy: 0.2369 - vowel_accuracy: 0.7692 - consonant_accuracy: 0.8057 - val_loss: 3.1283 - val_root_loss: 2.2289 - val_vowel_loss: 0.5363 - val_consonant_loss: 0.3695 - val_root_accuracy: 0.3739 - val_vowel_accuracy: 0.8245 - val_consonant_accuracy: 0.8730\n",
      "Epoch 6/15\n",
      "180/180 [==============================] - 24s 131ms/step - loss: 3.5546 - root_loss: 2.4370 - vowel_loss: 0.6316 - consonant_loss: 0.4860 - root_accuracy: 0.3436 - vowel_accuracy: 0.7968 - consonant_accuracy: 0.8388 - val_loss: 2.4658 - val_root_loss: 1.8113 - val_vowel_loss: 0.3723 - val_consonant_loss: 0.2846 - val_root_accuracy: 0.4675 - val_vowel_accuracy: 0.8887 - val_consonant_accuracy: 0.9071\n",
      "Epoch 7/15\n",
      "180/180 [==============================] - 24s 131ms/step - loss: 3.0789 - root_loss: 2.0798 - vowel_loss: 0.5692 - consonant_loss: 0.4298 - root_accuracy: 0.4297 - vowel_accuracy: 0.8219 - consonant_accuracy: 0.8578 - val_loss: 2.0681 - val_root_loss: 1.4876 - val_vowel_loss: 0.3319 - val_consonant_loss: 0.2507 - val_root_accuracy: 0.5648 - val_vowel_accuracy: 0.9017 - val_consonant_accuracy: 0.9198\n",
      "Epoch 8/15\n",
      "180/180 [==============================] - 24s 131ms/step - loss: 2.6609 - root_loss: 1.7629 - vowel_loss: 0.5175 - consonant_loss: 0.3805 - root_accuracy: 0.5098 - vowel_accuracy: 0.8370 - consonant_accuracy: 0.8759 - val_loss: 2.0423 - val_root_loss: 1.4722 - val_vowel_loss: 0.3059 - val_consonant_loss: 0.2681 - val_root_accuracy: 0.5646 - val_vowel_accuracy: 0.9009 - val_consonant_accuracy: 0.9111\n",
      "Epoch 9/15\n",
      "180/180 [==============================] - 24s 131ms/step - loss: 2.4672 - root_loss: 1.6241 - vowel_loss: 0.4842 - consonant_loss: 0.3588 - root_accuracy: 0.5533 - vowel_accuracy: 0.8491 - consonant_accuracy: 0.8848 - val_loss: 1.8721 - val_root_loss: 1.2528 - val_vowel_loss: 0.3719 - val_consonant_loss: 0.2528 - val_root_accuracy: 0.6433 - val_vowel_accuracy: 0.8917 - val_consonant_accuracy: 0.9233\n",
      "Epoch 10/15\n",
      "180/180 [==============================] - 24s 131ms/step - loss: 2.3719 - root_loss: 1.5481 - vowel_loss: 0.4788 - consonant_loss: 0.3451 - root_accuracy: 0.5703 - vowel_accuracy: 0.8516 - consonant_accuracy: 0.8888 - val_loss: 2.5572 - val_root_loss: 1.8952 - val_vowel_loss: 0.3753 - val_consonant_loss: 0.2892 - val_root_accuracy: 0.5494 - val_vowel_accuracy: 0.8805 - val_consonant_accuracy: 0.8967\n",
      "Epoch 11/15\n",
      "180/180 [==============================] - 24s 131ms/step - loss: 2.2117 - root_loss: 1.4306 - vowel_loss: 0.4531 - consonant_loss: 0.3281 - root_accuracy: 0.6072 - vowel_accuracy: 0.8587 - consonant_accuracy: 0.8952 - val_loss: 1.6993 - val_root_loss: 1.1157 - val_vowel_loss: 0.3540 - val_consonant_loss: 0.2342 - val_root_accuracy: 0.7028 - val_vowel_accuracy: 0.9116 - val_consonant_accuracy: 0.9348\n",
      "Epoch 12/15\n",
      "180/180 [==============================] - 24s 131ms/step - loss: 2.0842 - root_loss: 1.3282 - vowel_loss: 0.4400 - consonant_loss: 0.3160 - root_accuracy: 0.6360 - vowel_accuracy: 0.8651 - consonant_accuracy: 0.9001 - val_loss: 1.7593 - val_root_loss: 1.1435 - val_vowel_loss: 0.3675 - val_consonant_loss: 0.2515 - val_root_accuracy: 0.7005 - val_vowel_accuracy: 0.8768 - val_consonant_accuracy: 0.9328\n",
      "Epoch 13/15\n",
      "180/180 [==============================] - 24s 131ms/step - loss: 1.9239 - root_loss: 1.2122 - vowel_loss: 0.4116 - consonant_loss: 0.3001 - root_accuracy: 0.6672 - vowel_accuracy: 0.8736 - consonant_accuracy: 0.9040 - val_loss: 1.1665 - val_root_loss: 0.8002 - val_vowel_loss: 0.2139 - val_consonant_loss: 0.1551 - val_root_accuracy: 0.7755 - val_vowel_accuracy: 0.9380 - val_consonant_accuracy: 0.9502\n",
      "Epoch 14/15\n",
      "180/180 [==============================] - 24s 131ms/step - loss: 1.9025 - root_loss: 1.1893 - vowel_loss: 0.4163 - consonant_loss: 0.2969 - root_accuracy: 0.6789 - vowel_accuracy: 0.8750 - consonant_accuracy: 0.9066 - val_loss: 1.5687 - val_root_loss: 1.1844 - val_vowel_loss: 0.2147 - val_consonant_loss: 0.1745 - val_root_accuracy: 0.6821 - val_vowel_accuracy: 0.9405 - val_consonant_accuracy: 0.9477\n",
      "Epoch 15/15\n",
      "180/180 [==============================] - 24s 131ms/step - loss: 1.8210 - root_loss: 1.1332 - vowel_loss: 0.3991 - consonant_loss: 0.2887 - root_accuracy: 0.6911 - vowel_accuracy: 0.8810 - consonant_accuracy: 0.9094 - val_loss: 1.2770 - val_root_loss: 0.8714 - val_vowel_loss: 0.1983 - val_consonant_loss: 0.2114 - val_root_accuracy: 0.7640 - val_vowel_accuracy: 0.9447 - val_consonant_accuracy: 0.9383\n"
     ]
    },
    {
     "data": {
      "application/vnd.jupyter.widget-view+json": {
       "model_id": "d83a158cd00d4e1383704a7589713bd6",
       "version_major": 2,
       "version_minor": 0
      },
      "text/plain": [
       "HBox(children=(FloatProgress(value=0.0, max=50210.0), HTML(value='')))"
      ]
     },
     "metadata": {},
     "output_type": "display_data"
    },
    {
     "name": "stdout",
     "output_type": "stream",
     "text": [
      "\n",
      "WARNING:tensorflow:sample_weight modes were coerced from\n",
      "  {'root': '...', 'vowel': '...', 'consonant': '...'}\n",
      "    to  \n",
      "  ['...', '...', '...']\n",
      "Train for 180 steps, validate on 4017 samples\n",
      "Epoch 1/15\n",
      "180/180 [==============================] - 24s 131ms/step - loss: 2.0027 - root_loss: 1.2608 - vowel_loss: 0.4336 - consonant_loss: 0.3082 - root_accuracy: 0.6702 - vowel_accuracy: 0.8737 - consonant_accuracy: 0.9049 - val_loss: 0.9960 - val_root_loss: 0.6778 - val_vowel_loss: 0.1775 - val_consonant_loss: 0.1385 - val_root_accuracy: 0.8096 - val_vowel_accuracy: 0.9505 - val_consonant_accuracy: 0.9597\n",
      "Epoch 2/15\n",
      "180/180 [==============================] - 24s 131ms/step - loss: 1.7526 - root_loss: 1.0903 - vowel_loss: 0.3881 - consonant_loss: 0.2742 - root_accuracy: 0.7055 - vowel_accuracy: 0.8825 - consonant_accuracy: 0.9157 - val_loss: 1.2739 - val_root_loss: 0.7997 - val_vowel_loss: 0.2724 - val_consonant_loss: 0.1972 - val_root_accuracy: 0.7824 - val_vowel_accuracy: 0.9422 - val_consonant_accuracy: 0.9490\n",
      "Epoch 3/15\n",
      "180/180 [==============================] - 23s 130ms/step - loss: 1.7193 - root_loss: 1.0570 - vowel_loss: 0.3909 - consonant_loss: 0.2714 - root_accuracy: 0.7151 - vowel_accuracy: 0.8834 - consonant_accuracy: 0.9143 - val_loss: 0.9316 - val_root_loss: 0.6108 - val_vowel_loss: 0.1647 - val_consonant_loss: 0.1524 - val_root_accuracy: 0.8188 - val_vowel_accuracy: 0.9527 - val_consonant_accuracy: 0.9532\n",
      "Epoch 4/15\n",
      "180/180 [==============================] - 23s 129ms/step - loss: 1.6322 - root_loss: 0.9967 - vowel_loss: 0.3696 - consonant_loss: 0.2659 - root_accuracy: 0.7328 - vowel_accuracy: 0.8908 - consonant_accuracy: 0.9180 - val_loss: 3.7199 - val_root_loss: 2.5208 - val_vowel_loss: 0.8193 - val_consonant_loss: 0.3426 - val_root_accuracy: 0.7321 - val_vowel_accuracy: 0.8992 - val_consonant_accuracy: 0.9042\n",
      "Epoch 5/15\n",
      "180/180 [==============================] - 23s 129ms/step - loss: 1.5121 - root_loss: 0.9169 - vowel_loss: 0.3485 - consonant_loss: 0.2468 - root_accuracy: 0.7519 - vowel_accuracy: 0.8990 - consonant_accuracy: 0.9247 - val_loss: 3.4950 - val_root_loss: 1.7480 - val_vowel_loss: 1.2403 - val_consonant_loss: 0.5129 - val_root_accuracy: 0.6112 - val_vowel_accuracy: 0.6151 - val_consonant_accuracy: 0.8486\n",
      "Epoch 6/15\n",
      "180/180 [==============================] - 23s 129ms/step - loss: 1.4446 - root_loss: 0.8760 - vowel_loss: 0.3302 - consonant_loss: 0.2384 - root_accuracy: 0.7611 - vowel_accuracy: 0.9018 - consonant_accuracy: 0.9276 - val_loss: 0.7822 - val_root_loss: 0.5184 - val_vowel_loss: 0.1335 - val_consonant_loss: 0.1288 - val_root_accuracy: 0.8534 - val_vowel_accuracy: 0.9599 - val_consonant_accuracy: 0.9609\n",
      "Epoch 7/15\n",
      "180/180 [==============================] - 23s 129ms/step - loss: 1.4007 - root_loss: 0.8438 - vowel_loss: 0.3186 - consonant_loss: 0.2384 - root_accuracy: 0.7720 - vowel_accuracy: 0.9062 - consonant_accuracy: 0.9280 - val_loss: 0.8228 - val_root_loss: 0.5426 - val_vowel_loss: 0.1511 - val_consonant_loss: 0.1301 - val_root_accuracy: 0.8479 - val_vowel_accuracy: 0.9597 - val_consonant_accuracy: 0.9609\n",
      "Epoch 8/15\n",
      "180/180 [==============================] - 23s 129ms/step - loss: 1.4236 - root_loss: 0.8532 - vowel_loss: 0.3383 - consonant_loss: 0.2322 - root_accuracy: 0.7734 - vowel_accuracy: 0.9040 - consonant_accuracy: 0.9287 - val_loss: 0.8354 - val_root_loss: 0.5318 - val_vowel_loss: 0.1741 - val_consonant_loss: 0.1270 - val_root_accuracy: 0.8506 - val_vowel_accuracy: 0.9539 - val_consonant_accuracy: 0.9619\n",
      "Epoch 9/15\n",
      "180/180 [==============================] - 23s 129ms/step - loss: 1.3617 - root_loss: 0.8199 - vowel_loss: 0.3182 - consonant_loss: 0.2235 - root_accuracy: 0.7748 - vowel_accuracy: 0.9054 - consonant_accuracy: 0.9307 - val_loss: 0.8859 - val_root_loss: 0.5732 - val_vowel_loss: 0.1750 - val_consonant_loss: 0.1368 - val_root_accuracy: 0.8402 - val_vowel_accuracy: 0.9512 - val_consonant_accuracy: 0.9582\n",
      "Epoch 10/15\n",
      "180/180 [==============================] - 23s 129ms/step - loss: 1.3746 - root_loss: 0.8238 - vowel_loss: 0.3223 - consonant_loss: 0.2285 - root_accuracy: 0.7810 - vowel_accuracy: 0.9083 - consonant_accuracy: 0.9322 - val_loss: 0.8916 - val_root_loss: 0.6222 - val_vowel_loss: 0.1474 - val_consonant_loss: 0.1223 - val_root_accuracy: 0.8539 - val_vowel_accuracy: 0.9579 - val_consonant_accuracy: 0.9654\n",
      "Epoch 11/15\n",
      "180/180 [==============================] - 23s 129ms/step - loss: 1.3989 - root_loss: 0.8326 - vowel_loss: 0.3360 - consonant_loss: 0.2302 - root_accuracy: 0.7802 - vowel_accuracy: 0.9032 - consonant_accuracy: 0.9320 - val_loss: 906.0767 - val_root_loss: 671.6455 - val_vowel_loss: 130.6735 - val_consonant_loss: 94.7249 - val_root_accuracy: 0.4802 - val_vowel_accuracy: 0.4707 - val_consonant_accuracy: 0.7857\n",
      "Epoch 12/15\n",
      "180/180 [==============================] - 23s 129ms/step - loss: 1.4642 - root_loss: 0.8685 - vowel_loss: 0.3538 - consonant_loss: 0.2419 - root_accuracy: 0.7740 - vowel_accuracy: 0.8996 - consonant_accuracy: 0.9276 - val_loss: 1.0742 - val_root_loss: 0.7275 - val_vowel_loss: 0.1816 - val_consonant_loss: 0.1626 - val_root_accuracy: 0.8280 - val_vowel_accuracy: 0.9525 - val_consonant_accuracy: 0.9594\n",
      "Epoch 13/15\n",
      "180/180 [==============================] - 23s 129ms/step - loss: 1.2766 - root_loss: 0.7514 - vowel_loss: 0.3087 - consonant_loss: 0.2166 - root_accuracy: 0.7964 - vowel_accuracy: 0.9100 - consonant_accuracy: 0.9338 - val_loss: 1.0327 - val_root_loss: 0.7589 - val_vowel_loss: 0.1569 - val_consonant_loss: 0.1124 - val_root_accuracy: 0.8551 - val_vowel_accuracy: 0.9547 - val_consonant_accuracy: 0.9676\n",
      "Epoch 14/15\n",
      "180/180 [==============================] - 23s 129ms/step - loss: 1.3481 - root_loss: 0.8009 - vowel_loss: 0.3216 - consonant_loss: 0.2256 - root_accuracy: 0.7902 - vowel_accuracy: 0.9079 - consonant_accuracy: 0.9325 - val_loss: 12.4116 - val_root_loss: 5.5335 - val_vowel_loss: 3.1336 - val_consonant_loss: 3.5193 - val_root_accuracy: 0.8598 - val_vowel_accuracy: 0.9579 - val_consonant_accuracy: 0.9632\n",
      "Epoch 15/15\n",
      "180/180 [==============================] - 23s 129ms/step - loss: 1.2315 - root_loss: 0.7210 - vowel_loss: 0.3027 - consonant_loss: 0.2077 - root_accuracy: 0.8034 - vowel_accuracy: 0.9111 - consonant_accuracy: 0.9361 - val_loss: 0.8225 - val_root_loss: 0.5276 - val_vowel_loss: 0.1561 - val_consonant_loss: 0.1385 - val_root_accuracy: 0.8514 - val_vowel_accuracy: 0.9574 - val_consonant_accuracy: 0.9587\n"
     ]
    }
   ],
   "source": [
    "# for i in [3]:\n",
    "for i in range(2):\n",
    "    train_df = pd.merge(pd.read_parquet(DATA_FOLDER + f'/train_image_data_{i}.parquet'), train_df_, on='image_id').drop(['image_id'], axis=1)\n",
    "\n",
    "    X_train = train_df.drop(['grapheme_root', 'vowel_diacritic', 'consonant_diacritic'], axis=1)\n",
    "    X_train = resize(X_train, size=IMG_SIZE)/255\n",
    "\n",
    "    # CNN takes images in shape `(batch_size, h, w, channels)`, so reshape the images\n",
    "    X_train = X_train.values.reshape(-1, IMG_SIZE, IMG_SIZE, N_CHANNELS)\n",
    "\n",
    "    Y_train_root = pd.get_dummies(train_df['grapheme_root']).values\n",
    "    Y_train_vowel = pd.get_dummies(train_df['vowel_diacritic']).values\n",
    "    Y_train_consonant = pd.get_dummies(train_df['consonant_diacritic']).values\n",
    "\n",
    "    # print(f'Training images: {X_train.shape}')\n",
    "    # print(f'Training labels root: {Y_train_root.shape}')\n",
    "    # print(f'Training labels vowel: {Y_train_vowel.shape}')\n",
    "    # print(f'Training labels consonants: {Y_train_consonant.shape}')\n",
    "\n",
    "\n",
    "    # Divide the data into training and validation set\n",
    "    x_train, x_test, y_train_root, y_test_root, y_train_vowel, y_test_vowel, y_train_consonant, y_test_consonant =\\\n",
    "    train_test_split(X_train, Y_train_root, Y_train_vowel, Y_train_consonant, \n",
    "#                      stratify=Y_train_root, \n",
    "                     test_size=0.08, random_state=666)\n",
    "    del train_df\n",
    "    del X_train\n",
    "    del Y_train_root, Y_train_vowel, Y_train_consonant\n",
    "\n",
    "    # Data augmentation for creating more training data\n",
    "    datagen = MultiOutputDataGenerator(\n",
    "        featurewise_center=False,  # set input mean to 0 over the dataset\n",
    "        samplewise_center=False,  # set each sample mean to 0\n",
    "        featurewise_std_normalization=False,  # divide inputs by std of the dataset\n",
    "        samplewise_std_normalization=False,  # divide each input by its std\n",
    "        # zca_whitening=True,  # apply ZCA whitening\n",
    "        zca_whitening=False,  # apply ZCA whitening\n",
    "        rotation_range=8,  # randomly rotate images in the range (degrees, 0 to 180)\n",
    "        zoom_range = 0.15, # Randomly zoom image \n",
    "        width_shift_range=0.15,  # randomly shift images horizontally (fraction of total width)\n",
    "        height_shift_range=0.15,  # randomly shift images vertically (fraction of total height)\n",
    "        horizontal_flip=False,  # randomly flip images\n",
    "#         horizontal_flip=True,  # randomly flip images\n",
    "#         brightness_range=[0.8,1.2], # darken or brightening\n",
    "        vertical_flip=False)  # randomly flip images\n",
    "#         vertical_flip=True)  # randomly flip images\n",
    "\n",
    "\n",
    "    # This will just calculate parameters required to augment the given data. This won't perform any augmentations\n",
    "    datagen.fit(x_train)\n",
    "\n",
    "    # Fit the model\n",
    "    # history = model.fit_generator(datagen.flow(x_train, {'root': y_train_root, 'vowel': \n",
    "    history = model.fit(datagen.flow(x_train, {'root': y_train_root, 'vowel':y_train_vowel, \n",
    "                                               'consonant': y_train_consonant}, \n",
    "                                     batch_size=batch_size),\n",
    "                              epochs = epochs, validation_data = (x_test, [y_test_root, y_test_vowel, y_test_consonant]), \n",
    "                              steps_per_epoch=x_train.shape[0] // batch_size, \n",
    "                              callbacks=lr_scheduler)\n",
    "    #                           callbacks=[learning_rate_reduction_root, learning_rate_reduction_vowel, learning_rate_reduction_consonant])\n",
    "\n",
    "    histories.append(history)\n",
    "\n",
    "    # Delete to reduce memory usage\n",
    "    del x_train\n",
    "    del x_test\n",
    "    del y_train_root\n",
    "    del y_test_root\n",
    "    del y_train_vowel\n",
    "    del y_test_vowel\n",
    "    del y_train_consonant\n",
    "    del y_test_consonant\n",
    "    gc.collect()\n",
    "    time.sleep(120.)"
   ]
  },
  {
   "cell_type": "code",
   "execution_count": 20,
   "metadata": {
    "colab": {},
    "colab_type": "code",
    "id": "10N0RMzErax6"
   },
   "outputs": [],
   "source": [
    "model.save(\"./saved_models/model_more_epochs_with_parquet3.h5\")"
   ]
  },
  {
   "cell_type": "code",
   "execution_count": 22,
   "metadata": {
    "colab": {},
    "colab_type": "code",
    "id": "10N0RMzErax6"
   },
   "outputs": [
    {
     "ename": "IndexError",
     "evalue": "list index out of range",
     "output_type": "error",
     "traceback": [
      "\u001b[0;31m---------------------------------------------------------------------------\u001b[0m",
      "\u001b[0;31mIndexError\u001b[0m                                Traceback (most recent call last)",
      "\u001b[0;32m<ipython-input-22-f7e8febd9c60>\u001b[0m in \u001b[0;36m<module>\u001b[0;34m\u001b[0m\n\u001b[1;32m      4\u001b[0m     \u001b[0mpickle\u001b[0m\u001b[0;34m.\u001b[0m\u001b[0mdump\u001b[0m\u001b[0;34m(\u001b[0m\u001b[0mhistories\u001b[0m\u001b[0;34m[\u001b[0m\u001b[0;36m1\u001b[0m\u001b[0;34m]\u001b[0m\u001b[0;34m.\u001b[0m\u001b[0mhistory\u001b[0m\u001b[0;34m,\u001b[0m \u001b[0mpf\u001b[0m\u001b[0;34m)\u001b[0m\u001b[0;34m\u001b[0m\u001b[0;34m\u001b[0m\u001b[0m\n\u001b[1;32m      5\u001b[0m     \u001b[0mpickle\u001b[0m\u001b[0;34m.\u001b[0m\u001b[0mdump\u001b[0m\u001b[0;34m(\u001b[0m\u001b[0mhistories\u001b[0m\u001b[0;34m[\u001b[0m\u001b[0;36m2\u001b[0m\u001b[0;34m]\u001b[0m\u001b[0;34m.\u001b[0m\u001b[0mhistory\u001b[0m\u001b[0;34m,\u001b[0m \u001b[0mpf\u001b[0m\u001b[0;34m)\u001b[0m\u001b[0;34m\u001b[0m\u001b[0;34m\u001b[0m\u001b[0m\n\u001b[0;32m----> 6\u001b[0;31m     \u001b[0mpickle\u001b[0m\u001b[0;34m.\u001b[0m\u001b[0mdump\u001b[0m\u001b[0;34m(\u001b[0m\u001b[0mhistories\u001b[0m\u001b[0;34m[\u001b[0m\u001b[0;36m3\u001b[0m\u001b[0;34m]\u001b[0m\u001b[0;34m.\u001b[0m\u001b[0mhistory\u001b[0m\u001b[0;34m,\u001b[0m \u001b[0mpf\u001b[0m\u001b[0;34m)\u001b[0m\u001b[0;34m\u001b[0m\u001b[0;34m\u001b[0m\u001b[0m\n\u001b[0m",
      "\u001b[0;31mIndexError\u001b[0m: list index out of range"
     ]
    }
   ],
   "source": [
    "# import pickle\n",
    "# with open(\"./saved_histories/model_more_epochs\", \"wb\") as pf:\n",
    "#     pickle.dump(histories[0].history, pf)    \n",
    "#     pickle.dump(histories[1].history, pf)    \n",
    "#     pickle.dump(histories[2].history, pf)\n",
    "#     pickle.dump(histories[3].history, pf)    "
   ]
  },
  {
   "cell_type": "code",
   "execution_count": null,
   "metadata": {
    "colab": {},
    "colab_type": "code",
    "id": "KtKhz23uGv1g"
   },
   "outputs": [],
   "source": [
    "# def save_model(base_filters=32, nlevels=4, ncov=4, kernel_size=(3,3), \n",
    "#               activation='relu', momentum=0.15, dropout_rate=0.3):\n",
    "#   filepath = os.path.join(DATA_FOLDER, \"saved_model\", f'''{str(base_filters)}-{str(nlevels)}-{str(ncov)}-{str(kernel_size[0])}-{activation}-{str(momentum)}-{str(dropout_rate)}.h5''')\n",
    "#   print(filepath)\n",
    "#   model.save(filepath)"
   ]
  },
  {
   "cell_type": "code",
   "execution_count": null,
   "metadata": {
    "colab": {
     "base_uri": "https://localhost:8080/",
     "height": 35
    },
    "colab_type": "code",
    "executionInfo": {
     "elapsed": 709,
     "status": "ok",
     "timestamp": 1582341003400,
     "user": {
      "displayName": "Cheng Zeng",
      "photoUrl": "https://lh3.googleusercontent.com/a-/AAuE7mAiU7JcjKNZ4T2V2rZ92UhSJxBQzJxHgDdPy0KPpg=s64",
      "userId": "16792962723532587232"
     },
     "user_tz": 300
    },
    "id": "06VWDNdcIH3p",
    "outputId": "02ee8b9f-1d54-469c-a9b6-9ed8c2f632c1"
   },
   "outputs": [],
   "source": [
    "# # save_model()\n",
    "# histories = [1,2,3]\n",
    "# kernel = 2\n",
    "# ncov = 3\n",
    "# with open(f\"./saved_histories/histories-{kernel}-{ncov}\", \"wb\") as pf:\n",
    "#     pickle.dump(histories, pf)"
   ]
  },
  {
   "cell_type": "code",
   "execution_count": null,
   "metadata": {
    "colab": {},
    "colab_type": "code",
    "id": "RNjlHieRszZP"
   },
   "outputs": [],
   "source": [
    "# import pickle\n",
    "# with open(os.path.join(DATA_FOLDER, \"saved_model\", \"history_basic_model_leaky\"), \"wb\") as pf:\n",
    "#   pickle.dump(histories[0].history, pf)"
   ]
  },
  {
   "cell_type": "code",
   "execution_count": null,
   "metadata": {
    "colab": {
     "base_uri": "https://localhost:8080/",
     "height": 581
    },
    "colab_type": "code",
    "executionInfo": {
     "elapsed": 939,
     "status": "ok",
     "timestamp": 1582340522679,
     "user": {
      "displayName": "Cheng Zeng",
      "photoUrl": "https://lh3.googleusercontent.com/a-/AAuE7mAiU7JcjKNZ4T2V2rZ92UhSJxBQzJxHgDdPy0KPpg=s64",
      "userId": "16792962723532587232"
     },
     "user_tz": 300
    },
    "id": "zNpYci4heStF",
    "outputId": "515113d8-51fd-4d94-98fe-bf4adda1772b"
   },
   "outputs": [],
   "source": [
    "for dataset in range(4):\n",
    "    plot_loss(histories[dataset], epochs, f'Training Dataset: {dataset}')\n",
    "    plot_acc(histories[dataset], epochs, f'Training Dataset: {dataset}')"
   ]
  },
  {
   "cell_type": "code",
   "execution_count": null,
   "metadata": {
    "colab": {
     "base_uri": "https://localhost:8080/",
     "height": 35
    },
    "colab_type": "code",
    "executionInfo": {
     "elapsed": 387,
     "status": "ok",
     "timestamp": 1582084903508,
     "user": {
      "displayName": "Cheng Zeng",
      "photoUrl": "https://lh3.googleusercontent.com/a-/AAuE7mAiU7JcjKNZ4T2V2rZ92UhSJxBQzJxHgDdPy0KPpg=s64",
      "userId": "16792962723532587232"
     },
     "user_tz": 300
    },
    "id": "0M34BWB_eStJ",
    "outputId": "35e5e0a7-0621-4083-a997-80a90b24bb24"
   },
   "outputs": [],
   "source": [
    "del histories\n",
    "gc.collect()"
   ]
  },
  {
   "cell_type": "code",
   "execution_count": null,
   "metadata": {
    "colab": {},
    "colab_type": "code",
    "id": "ai1CP0lpeStL"
   },
   "outputs": [],
   "source": [
    "preds_dict = {\n",
    "    'grapheme_root': [],\n",
    "    'vowel_diacritic': [],\n",
    "    'consonant_diacritic': []\n",
    "}"
   ]
  },
  {
   "cell_type": "code",
   "execution_count": null,
   "metadata": {
    "colab": {
     "base_uri": "https://localhost:8080/",
     "height": 204
    },
    "colab_type": "code",
    "executionInfo": {
     "elapsed": 20288,
     "status": "ok",
     "timestamp": 1582084925994,
     "user": {
      "displayName": "Cheng Zeng",
      "photoUrl": "https://lh3.googleusercontent.com/a-/AAuE7mAiU7JcjKNZ4T2V2rZ92UhSJxBQzJxHgDdPy0KPpg=s64",
      "userId": "16792962723532587232"
     },
     "user_tz": 300
    },
    "id": "g9u1XoL9eStO",
    "outputId": "f8450f4a-7ccd-4458-875c-096317963fbf"
   },
   "outputs": [],
   "source": [
    "components = ['consonant_diacritic', 'grapheme_root', 'vowel_diacritic']\n",
    "target=[] # model predictions placeholder\n",
    "row_id=[] # row_id place holder\n",
    "for i in range(4):\n",
    "    df_test_img = pd.read_parquet(DATA_FOLDER + f'/test_image_data_{i}.parquet') \n",
    "    df_test_img.set_index('image_id', inplace=True)\n",
    "\n",
    "    X_test = resize(df_test_img, size=IMG_SIZE,need_progress_bar=False)/255\n",
    "    X_test = X_test.values.reshape(-1, IMG_SIZE, IMG_SIZE, N_CHANNELS)\n",
    "    \n",
    "    preds = model.predict(X_test)\n",
    "\n",
    "    for i, p in enumerate(preds_dict):\n",
    "        preds_dict[p] = np.argmax(preds[i], axis=1)\n",
    "\n",
    "    for k,id in enumerate(df_test_img.index.values):  \n",
    "        for i,comp in enumerate(components):\n",
    "            id_sample=id+'_'+comp\n",
    "            row_id.append(id_sample)\n",
    "            target.append(preds_dict[comp][k])\n",
    "    del df_test_img\n",
    "    del X_test\n",
    "    gc.collect()\n",
    "\n",
    "df_sample = pd.DataFrame(\n",
    "    {\n",
    "        'row_id': row_id,\n",
    "        'target':target\n",
    "    },\n",
    "    columns = ['row_id','target'] \n",
    ")\n",
    "df_sample.to_csv('submission.csv',index=False)\n",
    "df_sample.head()"
   ]
  },
  {
   "cell_type": "code",
   "execution_count": null,
   "metadata": {},
   "outputs": [],
   "source": [
    "df_sample"
   ]
  },
  {
   "cell_type": "code",
   "execution_count": null,
   "metadata": {},
   "outputs": [],
   "source": []
  }
 ],
 "metadata": {
  "@webio": {
   "lastCommId": null,
   "lastKernelId": null
  },
  "accelerator": "GPU",
  "colab": {
   "collapsed_sections": [],
   "machine_shape": "hm",
   "name": "Basic_Model.ipynb",
   "provenance": []
  },
  "kernelspec": {
   "display_name": "Python 3",
   "language": "python",
   "name": "python3"
  },
  "language_info": {
   "codemirror_mode": {
    "name": "ipython",
    "version": 3
   },
   "file_extension": ".py",
   "mimetype": "text/x-python",
   "name": "python",
   "nbconvert_exporter": "python",
   "pygments_lexer": "ipython3",
   "version": "3.6.9"
  },
  "widgets": {
   "application/vnd.jupyter.widget-state+json": {
    "155c86640ba24c7498299b67c68aecbb": {
     "model_module": "@jupyter-widgets/controls",
     "model_name": "ProgressStyleModel",
     "state": {
      "_model_module": "@jupyter-widgets/controls",
      "_model_module_version": "1.5.0",
      "_model_name": "ProgressStyleModel",
      "_view_count": null,
      "_view_module": "@jupyter-widgets/base",
      "_view_module_version": "1.2.0",
      "_view_name": "StyleView",
      "bar_color": null,
      "description_width": ""
     }
    },
    "2b106f7c64a24794b23593d71b140753": {
     "model_module": "@jupyter-widgets/base",
     "model_name": "LayoutModel",
     "state": {
      "_model_module": "@jupyter-widgets/base",
      "_model_module_version": "1.2.0",
      "_model_name": "LayoutModel",
      "_view_count": null,
      "_view_module": "@jupyter-widgets/base",
      "_view_module_version": "1.2.0",
      "_view_name": "LayoutView",
      "align_content": null,
      "align_items": null,
      "align_self": null,
      "border": null,
      "bottom": null,
      "display": null,
      "flex": null,
      "flex_flow": null,
      "grid_area": null,
      "grid_auto_columns": null,
      "grid_auto_flow": null,
      "grid_auto_rows": null,
      "grid_column": null,
      "grid_gap": null,
      "grid_row": null,
      "grid_template_areas": null,
      "grid_template_columns": null,
      "grid_template_rows": null,
      "height": null,
      "justify_content": null,
      "justify_items": null,
      "left": null,
      "margin": null,
      "max_height": null,
      "max_width": null,
      "min_height": null,
      "min_width": null,
      "object_fit": null,
      "object_position": null,
      "order": null,
      "overflow": null,
      "overflow_x": null,
      "overflow_y": null,
      "padding": null,
      "right": null,
      "top": null,
      "visibility": null,
      "width": null
     }
    },
    "2cd1502a8efc4454a306c785bbd1c636": {
     "model_module": "@jupyter-widgets/base",
     "model_name": "LayoutModel",
     "state": {
      "_model_module": "@jupyter-widgets/base",
      "_model_module_version": "1.2.0",
      "_model_name": "LayoutModel",
      "_view_count": null,
      "_view_module": "@jupyter-widgets/base",
      "_view_module_version": "1.2.0",
      "_view_name": "LayoutView",
      "align_content": null,
      "align_items": null,
      "align_self": null,
      "border": null,
      "bottom": null,
      "display": null,
      "flex": null,
      "flex_flow": null,
      "grid_area": null,
      "grid_auto_columns": null,
      "grid_auto_flow": null,
      "grid_auto_rows": null,
      "grid_column": null,
      "grid_gap": null,
      "grid_row": null,
      "grid_template_areas": null,
      "grid_template_columns": null,
      "grid_template_rows": null,
      "height": null,
      "justify_content": null,
      "justify_items": null,
      "left": null,
      "margin": null,
      "max_height": null,
      "max_width": null,
      "min_height": null,
      "min_width": null,
      "object_fit": null,
      "object_position": null,
      "order": null,
      "overflow": null,
      "overflow_x": null,
      "overflow_y": null,
      "padding": null,
      "right": null,
      "top": null,
      "visibility": null,
      "width": null
     }
    },
    "792313458f984fd4978ce1e5d8dff9ad": {
     "model_module": "@jupyter-widgets/base",
     "model_name": "LayoutModel",
     "state": {
      "_model_module": "@jupyter-widgets/base",
      "_model_module_version": "1.2.0",
      "_model_name": "LayoutModel",
      "_view_count": null,
      "_view_module": "@jupyter-widgets/base",
      "_view_module_version": "1.2.0",
      "_view_name": "LayoutView",
      "align_content": null,
      "align_items": null,
      "align_self": null,
      "border": null,
      "bottom": null,
      "display": null,
      "flex": null,
      "flex_flow": null,
      "grid_area": null,
      "grid_auto_columns": null,
      "grid_auto_flow": null,
      "grid_auto_rows": null,
      "grid_column": null,
      "grid_gap": null,
      "grid_row": null,
      "grid_template_areas": null,
      "grid_template_columns": null,
      "grid_template_rows": null,
      "height": null,
      "justify_content": null,
      "justify_items": null,
      "left": null,
      "margin": null,
      "max_height": null,
      "max_width": null,
      "min_height": null,
      "min_width": null,
      "object_fit": null,
      "object_position": null,
      "order": null,
      "overflow": null,
      "overflow_x": null,
      "overflow_y": null,
      "padding": null,
      "right": null,
      "top": null,
      "visibility": null,
      "width": null
     }
    },
    "c117538877044e778a5aceb337944cca": {
     "model_module": "@jupyter-widgets/controls",
     "model_name": "HTMLModel",
     "state": {
      "_dom_classes": [],
      "_model_module": "@jupyter-widgets/controls",
      "_model_module_version": "1.5.0",
      "_model_name": "HTMLModel",
      "_view_count": null,
      "_view_module": "@jupyter-widgets/controls",
      "_view_module_version": "1.5.0",
      "_view_name": "HTMLView",
      "description": "",
      "description_tooltip": null,
      "layout": "IPY_MODEL_2cd1502a8efc4454a306c785bbd1c636",
      "placeholder": "​",
      "style": "IPY_MODEL_dc960169e09a40e89d61d271ba7ea7b5",
      "value": "100% 50210/50210 [01:56&lt;00:00, 432.47it/s]"
     }
    },
    "daa43ffa095a4489bfac7103333df80e": {
     "model_module": "@jupyter-widgets/controls",
     "model_name": "IntProgressModel",
     "state": {
      "_dom_classes": [],
      "_model_module": "@jupyter-widgets/controls",
      "_model_module_version": "1.5.0",
      "_model_name": "IntProgressModel",
      "_view_count": null,
      "_view_module": "@jupyter-widgets/controls",
      "_view_module_version": "1.5.0",
      "_view_name": "ProgressView",
      "bar_style": "success",
      "description": "",
      "description_tooltip": null,
      "layout": "IPY_MODEL_2b106f7c64a24794b23593d71b140753",
      "max": 50210,
      "min": 0,
      "orientation": "horizontal",
      "style": "IPY_MODEL_155c86640ba24c7498299b67c68aecbb",
      "value": 50210
     }
    },
    "dc960169e09a40e89d61d271ba7ea7b5": {
     "model_module": "@jupyter-widgets/controls",
     "model_name": "DescriptionStyleModel",
     "state": {
      "_model_module": "@jupyter-widgets/controls",
      "_model_module_version": "1.5.0",
      "_model_name": "DescriptionStyleModel",
      "_view_count": null,
      "_view_module": "@jupyter-widgets/base",
      "_view_module_version": "1.2.0",
      "_view_name": "StyleView",
      "description_width": ""
     }
    },
    "fe4074457bfd4797a2b6a558031a424a": {
     "model_module": "@jupyter-widgets/controls",
     "model_name": "HBoxModel",
     "state": {
      "_dom_classes": [],
      "_model_module": "@jupyter-widgets/controls",
      "_model_module_version": "1.5.0",
      "_model_name": "HBoxModel",
      "_view_count": null,
      "_view_module": "@jupyter-widgets/controls",
      "_view_module_version": "1.5.0",
      "_view_name": "HBoxView",
      "box_style": "",
      "children": [
       "IPY_MODEL_daa43ffa095a4489bfac7103333df80e",
       "IPY_MODEL_c117538877044e778a5aceb337944cca"
      ],
      "layout": "IPY_MODEL_792313458f984fd4978ce1e5d8dff9ad"
     }
    }
   }
  }
 },
 "nbformat": 4,
 "nbformat_minor": 1
}
