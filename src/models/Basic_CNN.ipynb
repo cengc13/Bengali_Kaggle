{
 "cells": [
  {
   "cell_type": "code",
   "execution_count": 1,
   "metadata": {
    "_cell_guid": "b1076dfc-b9ad-4769-8c92-a6c4dae69d19",
    "_uuid": "8f2839f25d086af736a60e9eeb907d3b93b6e0e5",
    "colab": {
     "base_uri": "https://localhost:8080/",
     "height": 341
    },
    "colab_type": "code",
    "executionInfo": {
     "elapsed": 367,
     "status": "ok",
     "timestamp": 1582329109435,
     "user": {
      "displayName": "Cheng Zeng",
      "photoUrl": "https://lh3.googleusercontent.com/a-/AAuE7mAiU7JcjKNZ4T2V2rZ92UhSJxBQzJxHgDdPy0KPpg=s64",
      "userId": "16792962723532587232"
     },
     "user_tz": 300
    },
    "id": "vmYpPfCWeSqo",
    "outputId": "aea48d9c-c1ef-446e-c675-96d87f3b433d"
   },
   "outputs": [],
   "source": [
    "# %tensorflow_version 2.x \n",
    "# On Colab, need this to specify tensorflow version\n",
    "import numpy as np\n",
    "import pandas as pd \n",
    "from tqdm.auto import tqdm\n",
    "from glob import glob\n",
    "import time, gc, sys\n",
    "import cv2\n",
    "\n",
    "sys.path.append(\"../tools/\")\n",
    "from helpers import (get_n, get_dummies, resize, plot_loss,\n",
    "                     MultiOutputDataGenerator, plot_acc,\n",
    "                    image_from_char)"
   ]
  },
  {
   "cell_type": "code",
   "execution_count": 2,
   "metadata": {
    "_cell_guid": "b1076dfc-b9ad-4769-8c92-a6c4dae69d19",
    "_uuid": "8f2839f25d086af736a60e9eeb907d3b93b6e0e5",
    "colab": {
     "base_uri": "https://localhost:8080/",
     "height": 341
    },
    "colab_type": "code",
    "executionInfo": {
     "elapsed": 367,
     "status": "ok",
     "timestamp": 1582329109435,
     "user": {
      "displayName": "Cheng Zeng",
      "photoUrl": "https://lh3.googleusercontent.com/a-/AAuE7mAiU7JcjKNZ4T2V2rZ92UhSJxBQzJxHgDdPy0KPpg=s64",
      "userId": "16792962723532587232"
     },
     "user_tz": 300
    },
    "id": "vmYpPfCWeSqo",
    "outputId": "aea48d9c-c1ef-446e-c675-96d87f3b433d"
   },
   "outputs": [],
   "source": [
    "from tensorflow import keras\n",
    "import tensorflow as tf\n",
    "import matplotlib.image as mpimg\n",
    "from tensorflow.keras.preprocessing.image import ImageDataGenerator\n",
    "from tensorflow.keras.models import Model\n",
    "from tensorflow.keras.models import clone_model\n",
    "from tensorflow.keras.layers import Dense,Conv2D,Flatten,MaxPool2D,Dropout,BatchNormalization, Input\n",
    "from tensorflow.keras.optimizers import Adam\n",
    "from tensorflow.keras.callbacks import ReduceLROnPlateau\n",
    "from sklearn.model_selection import train_test_split\n",
    "from sklearn.metrics import confusion_matrix\n",
    "import PIL.Image as Image, PIL.ImageDraw as ImageDraw, PIL.ImageFont as ImageFont\n",
    "from matplotlib import pyplot as plt\n",
    "import seaborn as sns\n",
    "%matplotlib inline"
   ]
  },
  {
   "cell_type": "code",
   "execution_count": 3,
   "metadata": {
    "_cell_guid": "b1076dfc-b9ad-4769-8c92-a6c4dae69d19",
    "_uuid": "8f2839f25d086af736a60e9eeb907d3b93b6e0e5",
    "colab": {
     "base_uri": "https://localhost:8080/",
     "height": 341
    },
    "colab_type": "code",
    "executionInfo": {
     "elapsed": 367,
     "status": "ok",
     "timestamp": 1582329109435,
     "user": {
      "displayName": "Cheng Zeng",
      "photoUrl": "https://lh3.googleusercontent.com/a-/AAuE7mAiU7JcjKNZ4T2V2rZ92UhSJxBQzJxHgDdPy0KPpg=s64",
      "userId": "16792962723532587232"
     },
     "user_tz": 300
    },
    "id": "vmYpPfCWeSqo",
    "outputId": "aea48d9c-c1ef-446e-c675-96d87f3b433d"
   },
   "outputs": [
    {
     "name": "stdout",
     "output_type": "stream",
     "text": [
      "../../data/test_image_data_3.parquet\n",
      "../../data/train.csv\n",
      "../../data/test_image_data_1.parquet\n",
      "../../data/train_image_data_2.parquet\n",
      "../../data/train_image_data_3.parquet\n",
      "../../data/test_image_data_2.parquet\n",
      "../../data/test_image_data_0.parquet\n",
      "../../data/train_image_data_0.parquet\n",
      "../../data/class_map.csv\n",
      "../../data/test.csv\n",
      "../../data/train_image_data_1.parquet\n",
      "../../data/sample_submission.csv\n",
      "../../data/Kalpurush_Fonts/kalpurush-2.ttf\n"
     ]
    }
   ],
   "source": [
    "import os\n",
    "DATA_FOLDER = \"../../data/\"\n",
    "for dirname, _, filenames in os.walk(DATA_FOLDER):\n",
    "    for filename in filenames:\n",
    "        print(os.path.join(dirname, filename))"
   ]
  },
  {
   "cell_type": "code",
   "execution_count": 4,
   "metadata": {
    "_cell_guid": "79c7e3d0-c299-4dcb-8224-4455121ee9b0",
    "_uuid": "d629ff2d2480ee46fbb7e2d37f6b5fab8052498a",
    "colab": {},
    "colab_type": "code",
    "id": "FLCyFeHzeSqy"
   },
   "outputs": [],
   "source": [
    "train_df_ = pd.read_csv(DATA_FOLDER+'/train.csv')\n",
    "test_df_ = pd.read_csv(DATA_FOLDER + '/test.csv')\n",
    "class_map_df = pd.read_csv(DATA_FOLDER + '/class_map.csv')\n",
    "sample_sub_df = pd.read_csv(DATA_FOLDER + '/sample_submission.csv')"
   ]
  },
  {
   "cell_type": "code",
   "execution_count": 5,
   "metadata": {
    "colab": {},
    "colab_type": "code",
    "id": "GwblemHpeSrV"
   },
   "outputs": [],
   "source": [
    "HEIGHT = 236\n",
    "WIDTH = 236"
   ]
  },
  {
   "cell_type": "markdown",
   "metadata": {
    "colab_type": "text",
    "id": "k0H3p2qQeSra"
   },
   "source": [
    "### Number of unique values"
   ]
  },
  {
   "cell_type": "code",
   "execution_count": 6,
   "metadata": {
    "colab": {
     "base_uri": "https://localhost:8080/",
     "height": 71
    },
    "colab_type": "code",
    "executionInfo": {
     "elapsed": 384,
     "status": "ok",
     "timestamp": 1582329118776,
     "user": {
      "displayName": "Cheng Zeng",
      "photoUrl": "https://lh3.googleusercontent.com/a-/AAuE7mAiU7JcjKNZ4T2V2rZ92UhSJxBQzJxHgDdPy0KPpg=s64",
      "userId": "16792962723532587232"
     },
     "user_tz": 300
    },
    "id": "_xA5fsiaeSrd",
    "outputId": "6815a8b2-e6c4-4430-cfc8-ee7e50764163"
   },
   "outputs": [
    {
     "name": "stdout",
     "output_type": "stream",
     "text": [
      "Number of unique grapheme roots: 168\n",
      "Number of unique vowel diacritic: 11\n",
      "Number of unique consonant diacritic: 7\n"
     ]
    }
   ],
   "source": [
    "print(f'Number of unique grapheme roots: {train_df_[\"grapheme_root\"].nunique()}')\n",
    "print(f'Number of unique vowel diacritic: {train_df_[\"vowel_diacritic\"].nunique()}')\n",
    "print(f'Number of unique consonant diacritic: {train_df_[\"consonant_diacritic\"].nunique()}')"
   ]
  },
  {
   "cell_type": "code",
   "execution_count": 7,
   "metadata": {
    "colab": {},
    "colab_type": "code",
    "id": "nMEu3e4weSsE"
   },
   "outputs": [],
   "source": [
    "train_df_ = train_df_.drop(['grapheme'], axis=1, inplace=False)"
   ]
  },
  {
   "cell_type": "code",
   "execution_count": 8,
   "metadata": {
    "colab": {},
    "colab_type": "code",
    "id": "QezeiQzoeSsI"
   },
   "outputs": [],
   "source": [
    "train_df_[['grapheme_root', 'vowel_diacritic', 'consonant_diacritic']] = train_df_[['grapheme_root', 'vowel_diacritic', 'consonant_diacritic']].astype('uint8')"
   ]
  },
  {
   "cell_type": "code",
   "execution_count": 9,
   "metadata": {
    "colab": {},
    "colab_type": "code",
    "id": "a4dcHvKyeSsL"
   },
   "outputs": [],
   "source": [
    "IMG_SIZE=96\n",
    "N_CHANNELS=1"
   ]
  },
  {
   "cell_type": "markdown",
   "metadata": {
    "colab_type": "text",
    "id": "7T-8Aa8xeSsW"
   },
   "source": [
    "## Basic Model"
   ]
  },
  {
   "cell_type": "code",
   "execution_count": 10,
   "metadata": {
    "colab": {},
    "colab_type": "code",
    "id": "IOlwgGTdn7jq"
   },
   "outputs": [],
   "source": [
    "def get_model(base_filters=32, nlevels=4, ncov=4, kernel_size=(3,3), \n",
    "              activation='relu', momentum=0.15, dropout_rate=0.3,\n",
    "             pool_size=2):\n",
    "    keras.backend.clear_session()\n",
    "    tf.random.set_seed(2040)\n",
    "    inputs = Input(shape = (IMG_SIZE, IMG_SIZE, 1))\n",
    "    if activation.lower() == 'leakyrelu':\n",
    "        activation = keras.layers.LeakyReLU(alpha=0.05)\n",
    "\n",
    "    model = Conv2D(filters=base_filters, kernel_size=kernel_size, padding='SAME', \n",
    "                 activation=activation, \n",
    "                 input_shape=(IMG_SIZE, IMG_SIZE, 1))(inputs)\n",
    "    for _ in range(ncov-1):\n",
    "        model = Conv2D(filters=base_filters, kernel_size=kernel_size, padding='SAME', \n",
    "                   activation=activation)(model)\n",
    "    model = BatchNormalization(momentum=momentum)(model)\n",
    "    model = MaxPool2D(pool_size=(pool_size, pool_size), )(model)\n",
    "#     model = Conv2D(filters=base_filters, kernel_size=(5, 5), padding='SAME',\n",
    "    model = Conv2D(filters=base_filters, kernel_size=(3, 3), padding='SAME',\n",
    "                 activation=activation)(model)\n",
    "    model = Dropout(rate=dropout_rate)(model)\n",
    "    for i in range(nlevels-1):\n",
    "        for _ in range(ncov):\n",
    "            model = Conv2D(filters=2**(i+1)*base_filters, kernel_size=kernel_size, \n",
    "                         padding='SAME', activation=activation)(model)\n",
    "        model = BatchNormalization(momentum=momentum)(model)\n",
    "        model = MaxPool2D(pool_size=(pool_size, pool_size))(model)\n",
    "#         model = Conv2D(filters=2**(i+1)*base_filters, kernel_size=(5, 5), \n",
    "        model = Conv2D(filters=2**(i+1)*base_filters, kernel_size=(3, 3), \n",
    "                       padding='SAME', activation=activation)(model)\n",
    "        model = BatchNormalization(momentum=momentum)(model)\n",
    "        model = Dropout(rate=dropout_rate)(model)\n",
    "\n",
    "    model = Flatten()(model)\n",
    "    model = Dense(1024, activation = activation)(model)\n",
    "    model = Dropout(rate=dropout_rate)(model)\n",
    "    dense = Dense(512, activation = activation)(model)\n",
    "\n",
    "    head_root = Dense(168, activation = 'softmax', name='root')(dense)\n",
    "    head_vowel = Dense(11, activation = 'softmax', name='vowel')(dense)\n",
    "    head_consonant = Dense(7, activation = 'softmax', name='consonant')(dense)\n",
    "\n",
    "    model = Model(inputs=inputs, outputs=[head_root, head_vowel, head_consonant])\n",
    "#     lr = 1e-3\n",
    "#     opt = keras.optimizers.RMSprop(learning_rate=lr, rho=0.9)\n",
    "#     model.compile(optimizer=opt, loss='categorical_crossentropy',  metrics=['accuracy'])\n",
    "    return model"
   ]
  },
  {
   "cell_type": "code",
   "execution_count": 11,
   "metadata": {
    "colab": {
     "base_uri": "https://localhost:8080/",
     "height": 1000
    },
    "colab_type": "code",
    "executionInfo": {
     "elapsed": 1153,
     "status": "ok",
     "timestamp": 1582335575704,
     "user": {
      "displayName": "Cheng Zeng",
      "photoUrl": "https://lh3.googleusercontent.com/a-/AAuE7mAiU7JcjKNZ4T2V2rZ92UhSJxBQzJxHgDdPy0KPpg=s64",
      "userId": "16792962723532587232"
     },
     "user_tz": 300
    },
    "id": "-SlmTJZXeSsa",
    "outputId": "c5b11056-9ecb-48e5-fc0f-d61d4e3fd049"
   },
   "outputs": [
    {
     "name": "stdout",
     "output_type": "stream",
     "text": [
      "Model: \"model\"\n",
      "__________________________________________________________________________________________________\n",
      "Layer (type)                    Output Shape         Param #     Connected to                     \n",
      "==================================================================================================\n",
      "input_1 (InputLayer)            [(None, 96, 96, 1)]  0                                            \n",
      "__________________________________________________________________________________________________\n",
      "conv2d (Conv2D)                 (None, 96, 96, 48)   480         input_1[0][0]                    \n",
      "__________________________________________________________________________________________________\n",
      "conv2d_1 (Conv2D)               (None, 96, 96, 48)   20784       conv2d[0][0]                     \n",
      "__________________________________________________________________________________________________\n",
      "conv2d_2 (Conv2D)               (None, 96, 96, 48)   20784       conv2d_1[0][0]                   \n",
      "__________________________________________________________________________________________________\n",
      "conv2d_3 (Conv2D)               (None, 96, 96, 48)   20784       conv2d_2[0][0]                   \n",
      "__________________________________________________________________________________________________\n",
      "batch_normalization (BatchNorma (None, 96, 96, 48)   192         conv2d_3[0][0]                   \n",
      "__________________________________________________________________________________________________\n",
      "max_pooling2d (MaxPooling2D)    (None, 32, 32, 48)   0           batch_normalization[0][0]        \n",
      "__________________________________________________________________________________________________\n",
      "conv2d_4 (Conv2D)               (None, 32, 32, 48)   20784       max_pooling2d[0][0]              \n",
      "__________________________________________________________________________________________________\n",
      "dropout (Dropout)               (None, 32, 32, 48)   0           conv2d_4[0][0]                   \n",
      "__________________________________________________________________________________________________\n",
      "conv2d_5 (Conv2D)               (None, 32, 32, 96)   41568       dropout[0][0]                    \n",
      "__________________________________________________________________________________________________\n",
      "conv2d_6 (Conv2D)               (None, 32, 32, 96)   83040       conv2d_5[0][0]                   \n",
      "__________________________________________________________________________________________________\n",
      "conv2d_7 (Conv2D)               (None, 32, 32, 96)   83040       conv2d_6[0][0]                   \n",
      "__________________________________________________________________________________________________\n",
      "conv2d_8 (Conv2D)               (None, 32, 32, 96)   83040       conv2d_7[0][0]                   \n",
      "__________________________________________________________________________________________________\n",
      "batch_normalization_1 (BatchNor (None, 32, 32, 96)   384         conv2d_8[0][0]                   \n",
      "__________________________________________________________________________________________________\n",
      "max_pooling2d_1 (MaxPooling2D)  (None, 10, 10, 96)   0           batch_normalization_1[0][0]      \n",
      "__________________________________________________________________________________________________\n",
      "conv2d_9 (Conv2D)               (None, 10, 10, 96)   83040       max_pooling2d_1[0][0]            \n",
      "__________________________________________________________________________________________________\n",
      "batch_normalization_2 (BatchNor (None, 10, 10, 96)   384         conv2d_9[0][0]                   \n",
      "__________________________________________________________________________________________________\n",
      "dropout_1 (Dropout)             (None, 10, 10, 96)   0           batch_normalization_2[0][0]      \n",
      "__________________________________________________________________________________________________\n",
      "conv2d_10 (Conv2D)              (None, 10, 10, 192)  166080      dropout_1[0][0]                  \n",
      "__________________________________________________________________________________________________\n",
      "conv2d_11 (Conv2D)              (None, 10, 10, 192)  331968      conv2d_10[0][0]                  \n",
      "__________________________________________________________________________________________________\n",
      "conv2d_12 (Conv2D)              (None, 10, 10, 192)  331968      conv2d_11[0][0]                  \n",
      "__________________________________________________________________________________________________\n",
      "conv2d_13 (Conv2D)              (None, 10, 10, 192)  331968      conv2d_12[0][0]                  \n",
      "__________________________________________________________________________________________________\n",
      "batch_normalization_3 (BatchNor (None, 10, 10, 192)  768         conv2d_13[0][0]                  \n",
      "__________________________________________________________________________________________________\n",
      "max_pooling2d_2 (MaxPooling2D)  (None, 3, 3, 192)    0           batch_normalization_3[0][0]      \n",
      "__________________________________________________________________________________________________\n",
      "conv2d_14 (Conv2D)              (None, 3, 3, 192)    331968      max_pooling2d_2[0][0]            \n",
      "__________________________________________________________________________________________________\n",
      "batch_normalization_4 (BatchNor (None, 3, 3, 192)    768         conv2d_14[0][0]                  \n",
      "__________________________________________________________________________________________________\n",
      "dropout_2 (Dropout)             (None, 3, 3, 192)    0           batch_normalization_4[0][0]      \n",
      "__________________________________________________________________________________________________\n",
      "flatten (Flatten)               (None, 1728)         0           dropout_2[0][0]                  \n",
      "__________________________________________________________________________________________________\n",
      "dense (Dense)                   (None, 1024)         1770496     flatten[0][0]                    \n",
      "__________________________________________________________________________________________________\n",
      "dropout_3 (Dropout)             (None, 1024)         0           dense[0][0]                      \n",
      "__________________________________________________________________________________________________\n",
      "dense_1 (Dense)                 (None, 512)          524800      dropout_3[0][0]                  \n",
      "__________________________________________________________________________________________________\n",
      "root (Dense)                    (None, 168)          86184       dense_1[0][0]                    \n",
      "__________________________________________________________________________________________________\n",
      "vowel (Dense)                   (None, 11)           5643        dense_1[0][0]                    \n",
      "__________________________________________________________________________________________________\n",
      "consonant (Dense)               (None, 7)            3591        dense_1[0][0]                    \n",
      "==================================================================================================\n",
      "Total params: 4,344,506\n",
      "Trainable params: 4,343,258\n",
      "Non-trainable params: 1,248\n",
      "__________________________________________________________________________________________________\n"
     ]
    }
   ],
   "source": [
    "model = get_model(base_filters=48, activation='relu', nlevels=3, ncov=4,\n",
    "                  kernel_size=(3,3), pool_size=3)\n",
    "model.summary()"
   ]
  },
  {
   "cell_type": "code",
   "execution_count": 12,
   "metadata": {
    "colab": {},
    "colab_type": "code",
    "id": "6_axgT6weSsj"
   },
   "outputs": [],
   "source": [
    "# from tensorflow.keras.utils import plot_model\n",
    "# plot_model(model, to_file='model.png');"
   ]
  },
  {
   "cell_type": "code",
   "execution_count": 13,
   "metadata": {
    "colab": {},
    "colab_type": "code",
    "id": "h7JrCyVueSsn"
   },
   "outputs": [],
   "source": [
    "weights = {'root': 0.7, 'vowel': 0.1, 'consonant':0.2}\n",
    "lr = 1e-3\n",
    "opt = keras.optimizers.RMSprop(learning_rate=lr, rho=0.9)\n",
    "model.compile(optimizer=opt, loss='categorical_crossentropy',  metrics=['accuracy'],\n",
    "              loss_weights=weights,)"
   ]
  },
  {
   "cell_type": "code",
   "execution_count": 14,
   "metadata": {
    "colab": {},
    "colab_type": "code",
    "id": "LeiKH3tMeSsp"
   },
   "outputs": [],
   "source": [
    "# Learning rate will be half after 3 epochs if accuracy is not increased\n",
    "lr_scheduler = []\n",
    "targets = ['root', 'vowel', 'consonant']\n",
    "for target in targets:\n",
    "    lr_scheduler.append(ReduceLROnPlateau(monitor=f'{target}_accuracy', \n",
    "                                            patience=3,\n",
    "                                            verbose=1,\n",
    "                                            factor=0.5, \n",
    "                                            min_lr=0.00001))\n",
    "# def exponential_decay(epoch):\n",
    "#    initial_lr = 0.001\n",
    "#    k = 0.1\n",
    "#    lr = initial_lr * np.exp(-k*epoch)\n",
    "#    return lr\n",
    "\n",
    "# lrate = keras.callbacks.LearningRateScheduler(exponential_decay)\n"
   ]
  },
  {
   "cell_type": "code",
   "execution_count": 15,
   "metadata": {
    "colab": {},
    "colab_type": "code",
    "id": "RxFESkKCeSss"
   },
   "outputs": [],
   "source": [
    "# batch_size = 256\n",
    "batch_size = 128\n",
    "epochs = 30"
   ]
  },
  {
   "cell_type": "code",
   "execution_count": 16,
   "metadata": {
    "colab": {},
    "colab_type": "code",
    "id": "DL_2YEYTeSs3"
   },
   "outputs": [],
   "source": [
    "HEIGHT = 137\n",
    "WIDTH = 236"
   ]
  },
  {
   "cell_type": "code",
   "execution_count": 17,
   "metadata": {},
   "outputs": [],
   "source": [
    "import pickle\n",
    "kernels = [2,3,4]\n",
    "cov_times = [3, 4, 5]"
   ]
  },
  {
   "cell_type": "code",
   "execution_count": 18,
   "metadata": {
    "colab": {
     "base_uri": "https://localhost:8080/",
     "height": 139,
     "referenced_widgets": [
      "fe4074457bfd4797a2b6a558031a424a",
      "792313458f984fd4978ce1e5d8dff9ad",
      "daa43ffa095a4489bfac7103333df80e",
      "c117538877044e778a5aceb337944cca",
      "155c86640ba24c7498299b67c68aecbb",
      "2b106f7c64a24794b23593d71b140753",
      "dc960169e09a40e89d61d271ba7ea7b5",
      "2cd1502a8efc4454a306c785bbd1c636"
     ]
    },
    "colab_type": "code",
    "executionInfo": {
     "elapsed": 147178,
     "status": "ok",
     "timestamp": 1582335755814,
     "user": {
      "displayName": "Cheng Zeng",
      "photoUrl": "https://lh3.googleusercontent.com/a-/AAuE7mAiU7JcjKNZ4T2V2rZ92UhSJxBQzJxHgDdPy0KPpg=s64",
      "userId": "16792962723532587232"
     },
     "user_tz": 300
    },
    "id": "kS92Hzd4NyB7",
    "outputId": "6dc0d63c-6a01-4751-b8af-a3bbc98b8884"
   },
   "outputs": [],
   "source": [
    "# model = get_model(base_filters=48, ncov=3, pool_size=3)\n",
    "# model.summary()\n",
    "# model = keras.models.load_model('./saved_models/model_selu_kernel-3_cov-3_basefilter-48_pool-3_3.h5')"
   ]
  },
  {
   "cell_type": "code",
   "execution_count": null,
   "metadata": {
    "colab": {
     "base_uri": "https://localhost:8080/",
     "height": 139,
     "referenced_widgets": [
      "fe4074457bfd4797a2b6a558031a424a",
      "792313458f984fd4978ce1e5d8dff9ad",
      "daa43ffa095a4489bfac7103333df80e",
      "c117538877044e778a5aceb337944cca",
      "155c86640ba24c7498299b67c68aecbb",
      "2b106f7c64a24794b23593d71b140753",
      "dc960169e09a40e89d61d271ba7ea7b5",
      "2cd1502a8efc4454a306c785bbd1c636"
     ]
    },
    "colab_type": "code",
    "executionInfo": {
     "elapsed": 147178,
     "status": "ok",
     "timestamp": 1582335755814,
     "user": {
      "displayName": "Cheng Zeng",
      "photoUrl": "https://lh3.googleusercontent.com/a-/AAuE7mAiU7JcjKNZ4T2V2rZ92UhSJxBQzJxHgDdPy0KPpg=s64",
      "userId": "16792962723532587232"
     },
     "user_tz": 300
    },
    "id": "kS92Hzd4NyB7",
    "outputId": "6dc0d63c-6a01-4751-b8af-a3bbc98b8884"
   },
   "outputs": [
    {
     "data": {
      "application/vnd.jupyter.widget-view+json": {
       "model_id": "3ad8fd7ffaf74cbdba9f4c5548d81236",
       "version_major": 2,
       "version_minor": 0
      },
      "text/plain": [
       "HBox(children=(FloatProgress(value=0.0, max=50210.0), HTML(value='')))"
      ]
     },
     "metadata": {},
     "output_type": "display_data"
    },
    {
     "name": "stdout",
     "output_type": "stream",
     "text": [
      "\n",
      "WARNING:tensorflow:sample_weight modes were coerced from\n",
      "  {'root': '...', 'vowel': '...', 'consonant': '...'}\n",
      "    to  \n",
      "  ['...', '...', '...']\n",
      "Train for 360 steps, validate on 4017 samples\n",
      "Epoch 1/30\n",
      "360/360 [==============================] - 54s 151ms/step - loss: 3.5663 - root_loss: 4.4842 - vowel_loss: 1.9435 - consonant_loss: 1.1652 - root_accuracy: 0.0551 - vowel_accuracy: 0.3050 - consonant_accuracy: 0.6232 - val_loss: 3.7086 - val_root_loss: 4.7060 - val_vowel_loss: 1.7609 - val_consonant_loss: 1.2005 - val_root_accuracy: 0.0458 - val_vowel_accuracy: 0.3378 - val_consonant_accuracy: 0.6114\n",
      "Epoch 2/30\n",
      "360/360 [==============================] - 50s 140ms/step - loss: 2.7724 - root_loss: 3.4326 - vowel_loss: 1.6774 - consonant_loss: 1.0091 - root_accuracy: 0.1844 - vowel_accuracy: 0.3983 - consonant_accuracy: 0.6539 - val_loss: 2.5121 - val_root_loss: 3.1106 - val_vowel_loss: 1.5156 - val_consonant_loss: 0.9291 - val_root_accuracy: 0.2320 - val_vowel_accuracy: 0.4581 - val_consonant_accuracy: 0.6848\n",
      "Epoch 3/30\n",
      "360/360 [==============================] - 50s 138ms/step - loss: 2.0231 - root_loss: 2.4229 - vowel_loss: 1.5353 - consonant_loss: 0.8679 - root_accuracy: 0.3708 - vowel_accuracy: 0.4501 - consonant_accuracy: 0.6922 - val_loss: 1.5625 - val_root_loss: 1.8598 - val_vowel_loss: 1.2406 - val_consonant_loss: 0.7088 - val_root_accuracy: 0.5056 - val_vowel_accuracy: 0.5556 - val_consonant_accuracy: 0.7501\n",
      "Epoch 4/30\n",
      "360/360 [==============================] - 50s 138ms/step - loss: 1.5074 - root_loss: 1.7668 - vowel_loss: 1.3494 - consonant_loss: 0.6787 - root_accuracy: 0.5261 - vowel_accuracy: 0.5204 - consonant_accuracy: 0.7624 - val_loss: 0.9477 - val_root_loss: 1.0922 - val_vowel_loss: 0.9514 - val_consonant_loss: 0.4326 - val_root_accuracy: 0.6975 - val_vowel_accuracy: 0.6575 - val_consonant_accuracy: 0.8544\n",
      "Epoch 5/30\n",
      "360/360 [==============================] - 50s 139ms/step - loss: 1.2236 - root_loss: 1.4259 - vowel_loss: 1.1735 - consonant_loss: 0.5403 - root_accuracy: 0.6117 - vowel_accuracy: 0.5823 - consonant_accuracy: 0.8163 - val_loss: 0.8497 - val_root_loss: 0.9875 - val_vowel_loss: 0.8536 - val_consonant_loss: 0.3740 - val_root_accuracy: 0.7239 - val_vowel_accuracy: 0.7043 - val_consonant_accuracy: 0.8725\n",
      "Epoch 6/30\n",
      "360/360 [==============================] - 51s 141ms/step - loss: 1.0364 - root_loss: 1.2013 - vowel_loss: 1.0299 - consonant_loss: 0.4627 - root_accuracy: 0.6737 - vowel_accuracy: 0.6370 - consonant_accuracy: 0.8455 - val_loss: 0.7637 - val_root_loss: 0.8989 - val_vowel_loss: 0.7396 - val_consonant_loss: 0.3133 - val_root_accuracy: 0.7543 - val_vowel_accuracy: 0.7411 - val_consonant_accuracy: 0.8902\n",
      "Epoch 7/30\n",
      "360/360 [==============================] - 51s 141ms/step - loss: 0.8957 - root_loss: 1.0296 - vowel_loss: 0.9137 - consonant_loss: 0.4181 - root_accuracy: 0.7186 - vowel_accuracy: 0.6817 - consonant_accuracy: 0.8632 - val_loss: 0.5607 - val_root_loss: 0.6469 - val_vowel_loss: 0.5631 - val_consonant_loss: 0.2463 - val_root_accuracy: 0.8240 - val_vowel_accuracy: 0.8158 - val_consonant_accuracy: 0.9156\n",
      "Epoch 8/30\n",
      "360/360 [==============================] - 50s 140ms/step - loss: 0.8184 - root_loss: 0.9418 - vowel_loss: 0.8233 - consonant_loss: 0.3841 - root_accuracy: 0.7425 - vowel_accuracy: 0.7193 - consonant_accuracy: 0.8739 - val_loss: 0.5089 - val_root_loss: 0.6034 - val_vowel_loss: 0.4687 - val_consonant_loss: 0.2118 - val_root_accuracy: 0.8387 - val_vowel_accuracy: 0.8486 - val_consonant_accuracy: 0.9318\n",
      "Epoch 9/30\n",
      "360/360 [==============================] - 50s 138ms/step - loss: 0.7576 - root_loss: 0.8714 - vowel_loss: 0.7517 - consonant_loss: 0.3624 - root_accuracy: 0.7613 - vowel_accuracy: 0.7444 - consonant_accuracy: 0.8829 - val_loss: 0.4668 - val_root_loss: 0.5463 - val_vowel_loss: 0.4174 - val_consonant_loss: 0.2175 - val_root_accuracy: 0.8546 - val_vowel_accuracy: 0.8768 - val_consonant_accuracy: 0.9330\n",
      "Epoch 10/30\n",
      "360/360 [==============================] - 50s 140ms/step - loss: 0.7031 - root_loss: 0.8080 - vowel_loss: 0.6922 - consonant_loss: 0.3415 - root_accuracy: 0.7796 - vowel_accuracy: 0.7677 - consonant_accuracy: 0.8897 - val_loss: 0.5943 - val_root_loss: 0.6709 - val_vowel_loss: 0.7017 - val_consonant_loss: 0.2705 - val_root_accuracy: 0.8220 - val_vowel_accuracy: 0.7548 - val_consonant_accuracy: 0.9096\n",
      "Epoch 11/30\n",
      "360/360 [==============================] - 50s 139ms/step - loss: 0.6627 - root_loss: 0.7620 - vowel_loss: 0.6413 - consonant_loss: 0.3260 - root_accuracy: 0.7917 - vowel_accuracy: 0.7861 - consonant_accuracy: 0.8946 - val_loss: 0.4702 - val_root_loss: 0.5618 - val_vowel_loss: 0.4687 - val_consonant_loss: 0.1649 - val_root_accuracy: 0.8593 - val_vowel_accuracy: 0.8885 - val_consonant_accuracy: 0.9460\n",
      "Epoch 12/30\n",
      "360/360 [==============================] - 50s 140ms/step - loss: 0.6232 - root_loss: 0.7150 - vowel_loss: 0.6123 - consonant_loss: 0.3074 - root_accuracy: 0.8045 - vowel_accuracy: 0.7986 - consonant_accuracy: 0.9023 - val_loss: 0.4107 - val_root_loss: 0.4971 - val_vowel_loss: 0.3063 - val_consonant_loss: 0.1604 - val_root_accuracy: 0.8686 - val_vowel_accuracy: 0.9086 - val_consonant_accuracy: 0.9505\n",
      "Epoch 13/30\n",
      "360/360 [==============================] - 50s 139ms/step - loss: 0.5919 - root_loss: 0.6760 - vowel_loss: 0.5782 - consonant_loss: 0.3047 - root_accuracy: 0.8135 - vowel_accuracy: 0.8119 - consonant_accuracy: 0.9056 - val_loss: 0.4181 - val_root_loss: 0.4975 - val_vowel_loss: 0.3249 - val_consonant_loss: 0.1886 - val_root_accuracy: 0.8698 - val_vowel_accuracy: 0.9064 - val_consonant_accuracy: 0.9415\n",
      "Epoch 14/30\n",
      "160/360 [============>.................] - ETA: 27s - loss: 0.5693 - root_loss: 0.6534 - vowel_loss: 0.5476 - consonant_loss: 0.2856 - root_accuracy: 0.8207 - vowel_accuracy: 0.8217 - consonant_accuracy: 0.9100"
     ]
    }
   ],
   "source": [
    "histories = []\n",
    "# for i in [3]:\n",
    "for i in range(1):\n",
    "    train_df = pd.merge(pd.read_parquet(DATA_FOLDER + f'/train_image_data_{i}.parquet'), train_df_, on='image_id').drop(['image_id'], axis=1)\n",
    "\n",
    "    X_train = train_df.drop(['grapheme_root', 'vowel_diacritic', 'consonant_diacritic'], axis=1)\n",
    "    X_train = resize(X_train, size=IMG_SIZE)/255\n",
    "\n",
    "    # CNN takes images in shape `(batch_size, h, w, channels)`, so reshape the images\n",
    "    X_train = X_train.values.reshape(-1, IMG_SIZE, IMG_SIZE, N_CHANNELS)\n",
    "\n",
    "    Y_train_root = pd.get_dummies(train_df['grapheme_root']).values\n",
    "    Y_train_vowel = pd.get_dummies(train_df['vowel_diacritic']).values\n",
    "    Y_train_consonant = pd.get_dummies(train_df['consonant_diacritic']).values\n",
    "\n",
    "    # print(f'Training images: {X_train.shape}')\n",
    "    # print(f'Training labels root: {Y_train_root.shape}')\n",
    "    # print(f'Training labels vowel: {Y_train_vowel.shape}')\n",
    "    # print(f'Training labels consonants: {Y_train_consonant.shape}')\n",
    "\n",
    "\n",
    "    # Divide the data into training and validation set\n",
    "    x_train, x_test, y_train_root, y_test_root, y_train_vowel, y_test_vowel, y_train_consonant, y_test_consonant = train_test_split(X_train, Y_train_root, Y_train_vowel, Y_train_consonant, test_size=0.08, random_state=666)\n",
    "    del train_df\n",
    "    del X_train\n",
    "    del Y_train_root, Y_train_vowel, Y_train_consonant\n",
    "\n",
    "    # Data augmentation for creating more training data\n",
    "    datagen = MultiOutputDataGenerator(\n",
    "        featurewise_center=False,  # set input mean to 0 over the dataset\n",
    "        samplewise_center=False,  # set each sample mean to 0\n",
    "        featurewise_std_normalization=False,  # divide inputs by std of the dataset\n",
    "        samplewise_std_normalization=False,  # divide each input by its std\n",
    "        # zca_whitening=True,  # apply ZCA whitening\n",
    "        zca_whitening=False,  # apply ZCA whitening\n",
    "        rotation_range=8,  # randomly rotate images in the range (degrees, 0 to 180)\n",
    "        zoom_range = 0.15, # Randomly zoom image \n",
    "        width_shift_range=0.15,  # randomly shift images horizontally (fraction of total width)\n",
    "        height_shift_range=0.15,  # randomly shift images vertically (fraction of total height)\n",
    "        horizontal_flip=False,  # randomly flip images\n",
    "        vertical_flip=False)  # randomly flip images\n",
    "\n",
    "\n",
    "    # This will just calculate parameters required to augment the given data. This won't perform any augmentations\n",
    "    datagen.fit(x_train)\n",
    "\n",
    "    # Fit the model\n",
    "    # history = model.fit_generator(datagen.flow(x_train, {'root': y_train_root, 'vowel': \n",
    "    history = model.fit(datagen.flow(x_train, {'root': y_train_root, 'vowel':y_train_vowel, \n",
    "                                               'consonant': y_train_consonant}, \n",
    "                                     batch_size=batch_size),\n",
    "                              epochs = epochs, validation_data = (x_test, [y_test_root, y_test_vowel, y_test_consonant]), \n",
    "                              steps_per_epoch=x_train.shape[0] // batch_size, \n",
    "                              callbacks=lr_scheduler)\n",
    "    #                           callbacks=[learning_rate_reduction_root, learning_rate_reduction_vowel, learning_rate_reduction_consonant])\n",
    "\n",
    "    histories.append(history)\n",
    "\n",
    "    # Delete to reduce memory usage\n",
    "    del x_train\n",
    "    del x_test\n",
    "    del y_train_root\n",
    "    del y_test_root\n",
    "    del y_train_vowel\n",
    "    del y_test_vowel\n",
    "    del y_train_consonant\n",
    "    del y_test_consonant\n",
    "    gc.collect()"
   ]
  },
  {
   "cell_type": "code",
   "execution_count": null,
   "metadata": {},
   "outputs": [],
   "source": [
    "import pickle\n",
    "# from multiprocessing import Queue\n",
    "# type(histories)"
   ]
  },
  {
   "cell_type": "code",
   "execution_count": null,
   "metadata": {
    "colab": {},
    "colab_type": "code",
    "id": "10N0RMzErax6"
   },
   "outputs": [],
   "source": [
    "model.save(\"./saved_models/model_selu_kernel-3_cov-3_basefilter-48_pool-3_4.h5\")"
   ]
  },
  {
   "cell_type": "code",
   "execution_count": null,
   "metadata": {
    "colab": {},
    "colab_type": "code",
    "id": "10N0RMzErax6"
   },
   "outputs": [],
   "source": [
    "with open(\"./saved_histories/histories-kernel-3_cov-3_basefilter-48_pool-3_4\", \"wb\") as pf:\n",
    "    pickle.dump(histories[0].history, pf)    \n",
    "#     pickle.dump(histories[1].history, pf)    \n",
    "#     pickle.dump(histories[2].history, pf)\n",
    "#     pickle.dump(histories[3].history, pf)    "
   ]
  },
  {
   "cell_type": "code",
   "execution_count": null,
   "metadata": {
    "colab": {},
    "colab_type": "code",
    "id": "KtKhz23uGv1g"
   },
   "outputs": [],
   "source": [
    "# def save_model(base_filters=32, nlevels=4, ncov=4, kernel_size=(3,3), \n",
    "#               activation='relu', momentum=0.15, dropout_rate=0.3):\n",
    "#   filepath = os.path.join(DATA_FOLDER, \"saved_model\", f'''{str(base_filters)}-{str(nlevels)}-{str(ncov)}-{str(kernel_size[0])}-{activation}-{str(momentum)}-{str(dropout_rate)}.h5''')\n",
    "#   print(filepath)\n",
    "#   model.save(filepath)"
   ]
  },
  {
   "cell_type": "code",
   "execution_count": null,
   "metadata": {
    "colab": {
     "base_uri": "https://localhost:8080/",
     "height": 35
    },
    "colab_type": "code",
    "executionInfo": {
     "elapsed": 709,
     "status": "ok",
     "timestamp": 1582341003400,
     "user": {
      "displayName": "Cheng Zeng",
      "photoUrl": "https://lh3.googleusercontent.com/a-/AAuE7mAiU7JcjKNZ4T2V2rZ92UhSJxBQzJxHgDdPy0KPpg=s64",
      "userId": "16792962723532587232"
     },
     "user_tz": 300
    },
    "id": "06VWDNdcIH3p",
    "outputId": "02ee8b9f-1d54-469c-a9b6-9ed8c2f632c1"
   },
   "outputs": [],
   "source": [
    "# # save_model()\n",
    "# histories = [1,2,3]\n",
    "# kernel = 2\n",
    "# ncov = 3\n",
    "# with open(f\"./saved_histories/histories-{kernel}-{ncov}\", \"wb\") as pf:\n",
    "#     pickle.dump(histories, pf)"
   ]
  },
  {
   "cell_type": "code",
   "execution_count": null,
   "metadata": {
    "colab": {},
    "colab_type": "code",
    "id": "RNjlHieRszZP"
   },
   "outputs": [],
   "source": [
    "# import pickle\n",
    "# with open(os.path.join(DATA_FOLDER, \"saved_model\", \"history_basic_model_leaky\"), \"wb\") as pf:\n",
    "#   pickle.dump(histories[0].history, pf)"
   ]
  },
  {
   "cell_type": "code",
   "execution_count": null,
   "metadata": {
    "colab": {
     "base_uri": "https://localhost:8080/",
     "height": 581
    },
    "colab_type": "code",
    "executionInfo": {
     "elapsed": 939,
     "status": "ok",
     "timestamp": 1582340522679,
     "user": {
      "displayName": "Cheng Zeng",
      "photoUrl": "https://lh3.googleusercontent.com/a-/AAuE7mAiU7JcjKNZ4T2V2rZ92UhSJxBQzJxHgDdPy0KPpg=s64",
      "userId": "16792962723532587232"
     },
     "user_tz": 300
    },
    "id": "zNpYci4heStF",
    "outputId": "515113d8-51fd-4d94-98fe-bf4adda1772b"
   },
   "outputs": [],
   "source": [
    "for dataset in range(1):\n",
    "    plot_loss(histories[dataset], epochs, f'Training Dataset: {dataset}')\n",
    "    plot_acc(histories[dataset], epochs, f'Training Dataset: {dataset}')"
   ]
  },
  {
   "cell_type": "code",
   "execution_count": null,
   "metadata": {
    "colab": {
     "base_uri": "https://localhost:8080/",
     "height": 35
    },
    "colab_type": "code",
    "executionInfo": {
     "elapsed": 387,
     "status": "ok",
     "timestamp": 1582084903508,
     "user": {
      "displayName": "Cheng Zeng",
      "photoUrl": "https://lh3.googleusercontent.com/a-/AAuE7mAiU7JcjKNZ4T2V2rZ92UhSJxBQzJxHgDdPy0KPpg=s64",
      "userId": "16792962723532587232"
     },
     "user_tz": 300
    },
    "id": "0M34BWB_eStJ",
    "outputId": "35e5e0a7-0621-4083-a997-80a90b24bb24"
   },
   "outputs": [],
   "source": [
    "del histories\n",
    "gc.collect()"
   ]
  },
  {
   "cell_type": "code",
   "execution_count": null,
   "metadata": {
    "colab": {},
    "colab_type": "code",
    "id": "ai1CP0lpeStL"
   },
   "outputs": [],
   "source": [
    "preds_dict = {\n",
    "    'grapheme_root': [],\n",
    "    'vowel_diacritic': [],\n",
    "    'consonant_diacritic': []\n",
    "}"
   ]
  },
  {
   "cell_type": "code",
   "execution_count": null,
   "metadata": {
    "colab": {
     "base_uri": "https://localhost:8080/",
     "height": 204
    },
    "colab_type": "code",
    "executionInfo": {
     "elapsed": 20288,
     "status": "ok",
     "timestamp": 1582084925994,
     "user": {
      "displayName": "Cheng Zeng",
      "photoUrl": "https://lh3.googleusercontent.com/a-/AAuE7mAiU7JcjKNZ4T2V2rZ92UhSJxBQzJxHgDdPy0KPpg=s64",
      "userId": "16792962723532587232"
     },
     "user_tz": 300
    },
    "id": "g9u1XoL9eStO",
    "outputId": "f8450f4a-7ccd-4458-875c-096317963fbf"
   },
   "outputs": [],
   "source": [
    "components = ['consonant_diacritic', 'grapheme_root', 'vowel_diacritic']\n",
    "target=[] # model predictions placeholder\n",
    "row_id=[] # row_id place holder\n",
    "for i in range(4):\n",
    "    df_test_img = pd.read_parquet(DATA_FOLDER + f'/test_image_data_{i}.parquet') \n",
    "    df_test_img.set_index('image_id', inplace=True)\n",
    "\n",
    "    X_test = resize(df_test_img, size=IMG_SIZE,need_progress_bar=False)/255\n",
    "    X_test = X_test.values.reshape(-1, IMG_SIZE, IMG_SIZE, N_CHANNELS)\n",
    "    \n",
    "    preds = model.predict(X_test)\n",
    "\n",
    "    for i, p in enumerate(preds_dict):\n",
    "        preds_dict[p] = np.argmax(preds[i], axis=1)\n",
    "\n",
    "    for k,id in enumerate(df_test_img.index.values):  \n",
    "        for i,comp in enumerate(components):\n",
    "            id_sample=id+'_'+comp\n",
    "            row_id.append(id_sample)\n",
    "            target.append(preds_dict[comp][k])\n",
    "    del df_test_img\n",
    "    del X_test\n",
    "    gc.collect()\n",
    "\n",
    "df_sample = pd.DataFrame(\n",
    "    {\n",
    "        'row_id': row_id,\n",
    "        'target':target\n",
    "    },\n",
    "    columns = ['row_id','target'] \n",
    ")\n",
    "df_sample.to_csv('submission.csv',index=False)\n",
    "df_sample.head()"
   ]
  },
  {
   "cell_type": "code",
   "execution_count": null,
   "metadata": {},
   "outputs": [],
   "source": []
  }
 ],
 "metadata": {
  "@webio": {
   "lastCommId": null,
   "lastKernelId": null
  },
  "accelerator": "GPU",
  "colab": {
   "collapsed_sections": [],
   "machine_shape": "hm",
   "name": "Basic_Model.ipynb",
   "provenance": []
  },
  "kernelspec": {
   "display_name": "Python 3",
   "language": "python",
   "name": "python3"
  },
  "language_info": {
   "codemirror_mode": {
    "name": "ipython",
    "version": 3
   },
   "file_extension": ".py",
   "mimetype": "text/x-python",
   "name": "python",
   "nbconvert_exporter": "python",
   "pygments_lexer": "ipython3",
   "version": "3.6.9"
  },
  "widgets": {
   "application/vnd.jupyter.widget-state+json": {
    "155c86640ba24c7498299b67c68aecbb": {
     "model_module": "@jupyter-widgets/controls",
     "model_name": "ProgressStyleModel",
     "state": {
      "_model_module": "@jupyter-widgets/controls",
      "_model_module_version": "1.5.0",
      "_model_name": "ProgressStyleModel",
      "_view_count": null,
      "_view_module": "@jupyter-widgets/base",
      "_view_module_version": "1.2.0",
      "_view_name": "StyleView",
      "bar_color": null,
      "description_width": ""
     }
    },
    "2b106f7c64a24794b23593d71b140753": {
     "model_module": "@jupyter-widgets/base",
     "model_name": "LayoutModel",
     "state": {
      "_model_module": "@jupyter-widgets/base",
      "_model_module_version": "1.2.0",
      "_model_name": "LayoutModel",
      "_view_count": null,
      "_view_module": "@jupyter-widgets/base",
      "_view_module_version": "1.2.0",
      "_view_name": "LayoutView",
      "align_content": null,
      "align_items": null,
      "align_self": null,
      "border": null,
      "bottom": null,
      "display": null,
      "flex": null,
      "flex_flow": null,
      "grid_area": null,
      "grid_auto_columns": null,
      "grid_auto_flow": null,
      "grid_auto_rows": null,
      "grid_column": null,
      "grid_gap": null,
      "grid_row": null,
      "grid_template_areas": null,
      "grid_template_columns": null,
      "grid_template_rows": null,
      "height": null,
      "justify_content": null,
      "justify_items": null,
      "left": null,
      "margin": null,
      "max_height": null,
      "max_width": null,
      "min_height": null,
      "min_width": null,
      "object_fit": null,
      "object_position": null,
      "order": null,
      "overflow": null,
      "overflow_x": null,
      "overflow_y": null,
      "padding": null,
      "right": null,
      "top": null,
      "visibility": null,
      "width": null
     }
    },
    "2cd1502a8efc4454a306c785bbd1c636": {
     "model_module": "@jupyter-widgets/base",
     "model_name": "LayoutModel",
     "state": {
      "_model_module": "@jupyter-widgets/base",
      "_model_module_version": "1.2.0",
      "_model_name": "LayoutModel",
      "_view_count": null,
      "_view_module": "@jupyter-widgets/base",
      "_view_module_version": "1.2.0",
      "_view_name": "LayoutView",
      "align_content": null,
      "align_items": null,
      "align_self": null,
      "border": null,
      "bottom": null,
      "display": null,
      "flex": null,
      "flex_flow": null,
      "grid_area": null,
      "grid_auto_columns": null,
      "grid_auto_flow": null,
      "grid_auto_rows": null,
      "grid_column": null,
      "grid_gap": null,
      "grid_row": null,
      "grid_template_areas": null,
      "grid_template_columns": null,
      "grid_template_rows": null,
      "height": null,
      "justify_content": null,
      "justify_items": null,
      "left": null,
      "margin": null,
      "max_height": null,
      "max_width": null,
      "min_height": null,
      "min_width": null,
      "object_fit": null,
      "object_position": null,
      "order": null,
      "overflow": null,
      "overflow_x": null,
      "overflow_y": null,
      "padding": null,
      "right": null,
      "top": null,
      "visibility": null,
      "width": null
     }
    },
    "792313458f984fd4978ce1e5d8dff9ad": {
     "model_module": "@jupyter-widgets/base",
     "model_name": "LayoutModel",
     "state": {
      "_model_module": "@jupyter-widgets/base",
      "_model_module_version": "1.2.0",
      "_model_name": "LayoutModel",
      "_view_count": null,
      "_view_module": "@jupyter-widgets/base",
      "_view_module_version": "1.2.0",
      "_view_name": "LayoutView",
      "align_content": null,
      "align_items": null,
      "align_self": null,
      "border": null,
      "bottom": null,
      "display": null,
      "flex": null,
      "flex_flow": null,
      "grid_area": null,
      "grid_auto_columns": null,
      "grid_auto_flow": null,
      "grid_auto_rows": null,
      "grid_column": null,
      "grid_gap": null,
      "grid_row": null,
      "grid_template_areas": null,
      "grid_template_columns": null,
      "grid_template_rows": null,
      "height": null,
      "justify_content": null,
      "justify_items": null,
      "left": null,
      "margin": null,
      "max_height": null,
      "max_width": null,
      "min_height": null,
      "min_width": null,
      "object_fit": null,
      "object_position": null,
      "order": null,
      "overflow": null,
      "overflow_x": null,
      "overflow_y": null,
      "padding": null,
      "right": null,
      "top": null,
      "visibility": null,
      "width": null
     }
    },
    "c117538877044e778a5aceb337944cca": {
     "model_module": "@jupyter-widgets/controls",
     "model_name": "HTMLModel",
     "state": {
      "_dom_classes": [],
      "_model_module": "@jupyter-widgets/controls",
      "_model_module_version": "1.5.0",
      "_model_name": "HTMLModel",
      "_view_count": null,
      "_view_module": "@jupyter-widgets/controls",
      "_view_module_version": "1.5.0",
      "_view_name": "HTMLView",
      "description": "",
      "description_tooltip": null,
      "layout": "IPY_MODEL_2cd1502a8efc4454a306c785bbd1c636",
      "placeholder": "​",
      "style": "IPY_MODEL_dc960169e09a40e89d61d271ba7ea7b5",
      "value": "100% 50210/50210 [01:56&lt;00:00, 432.47it/s]"
     }
    },
    "daa43ffa095a4489bfac7103333df80e": {
     "model_module": "@jupyter-widgets/controls",
     "model_name": "IntProgressModel",
     "state": {
      "_dom_classes": [],
      "_model_module": "@jupyter-widgets/controls",
      "_model_module_version": "1.5.0",
      "_model_name": "IntProgressModel",
      "_view_count": null,
      "_view_module": "@jupyter-widgets/controls",
      "_view_module_version": "1.5.0",
      "_view_name": "ProgressView",
      "bar_style": "success",
      "description": "",
      "description_tooltip": null,
      "layout": "IPY_MODEL_2b106f7c64a24794b23593d71b140753",
      "max": 50210,
      "min": 0,
      "orientation": "horizontal",
      "style": "IPY_MODEL_155c86640ba24c7498299b67c68aecbb",
      "value": 50210
     }
    },
    "dc960169e09a40e89d61d271ba7ea7b5": {
     "model_module": "@jupyter-widgets/controls",
     "model_name": "DescriptionStyleModel",
     "state": {
      "_model_module": "@jupyter-widgets/controls",
      "_model_module_version": "1.5.0",
      "_model_name": "DescriptionStyleModel",
      "_view_count": null,
      "_view_module": "@jupyter-widgets/base",
      "_view_module_version": "1.2.0",
      "_view_name": "StyleView",
      "description_width": ""
     }
    },
    "fe4074457bfd4797a2b6a558031a424a": {
     "model_module": "@jupyter-widgets/controls",
     "model_name": "HBoxModel",
     "state": {
      "_dom_classes": [],
      "_model_module": "@jupyter-widgets/controls",
      "_model_module_version": "1.5.0",
      "_model_name": "HBoxModel",
      "_view_count": null,
      "_view_module": "@jupyter-widgets/controls",
      "_view_module_version": "1.5.0",
      "_view_name": "HBoxView",
      "box_style": "",
      "children": [
       "IPY_MODEL_daa43ffa095a4489bfac7103333df80e",
       "IPY_MODEL_c117538877044e778a5aceb337944cca"
      ],
      "layout": "IPY_MODEL_792313458f984fd4978ce1e5d8dff9ad"
     }
    }
   }
  }
 },
 "nbformat": 4,
 "nbformat_minor": 1
}
