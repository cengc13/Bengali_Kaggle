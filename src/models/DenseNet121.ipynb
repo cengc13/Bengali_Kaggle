{
 "cells": [
  {
   "cell_type": "markdown",
   "metadata": {},
   "source": [
    "## Bengali.Ai : Multi_Output_DenseNet121 (keras)"
   ]
  },
  {
   "attachments": {
    "image.png": {
     "image/png": "[encoded data removed]"
    }
   },
   "cell_type": "markdown",
   "metadata": {},
   "source": [
    "![image.png](attachment:image.png)<BR>\n",
    "<BR>\n",
    "    I referred to [kaushl Shah : Starter EDA+ Multi Output CNN](https://www.kaggle.com/kaushal2896/bengali-graphemes-starter-eda-multi-output-cnn). Thanks.<BR><BR>\n",
    "This kernel has changed the Model from my [previous kernel](https://www.kaggle.com/amanooo/bengali-ai-multi-output-densenet-keras). \n",
    "- Change a small DenseNet built by myself to **DenseNet121**.\n",
    "- And I used locally trained model to avoid GPU time limits."
   ]
  },
  {
   "cell_type": "code",
   "execution_count": null,
   "metadata": {
    "_cell_guid": "b1076dfc-b9ad-4769-8c92-a6c4dae69d19",
    "_kg_hide-input": true,
    "_uuid": "8f2839f25d086af736a60e9eeb907d3b93b6e0e5"
   },
   "outputs": [],
   "source": [
    "import os\n",
    "from tqdm.auto import tqdm\n",
    "import time, gc\n",
    "\n",
    "import numpy as np\n",
    "import pandas as pd\n",
    "# pd.set_option('display.max_columns', None)\n",
    "\n",
    "from matplotlib import pyplot as plt\n",
    "%matplotlib inline\n",
    "import cv2\n",
    "\n",
    "from keras.preprocessing.image import ImageDataGenerator\n",
    "from keras.models import Model, Input, load_model\n",
    "from keras.layers import Dense, Conv2D, Flatten, Activation, Concatenate\n",
    "from keras.layers import MaxPool2D, AveragePooling2D, GlobalAveragePooling2D\n",
    "from keras.layers import Dropout, BatchNormalization\n",
    "from keras.optimizers import Adam\n",
    "from keras.callbacks import ReduceLROnPlateau, ModelCheckpoint, EarlyStopping\n",
    "from keras.initializers import RandomNormal\n",
    "from keras.applications import DenseNet121\n",
    "\n",
    "from sklearn.model_selection import train_test_split\n",
    "\n",
    "start_time = time.time()"
   ]
  },
  {
   "cell_type": "code",
   "execution_count": null,
   "metadata": {},
   "outputs": [],
   "source": [
    "for dirname, _, filenames in os.walk('/kaggle/input'):\n",
    "    for filename in filenames:\n",
    "        print(os.path.join(dirname, filename))"
   ]
  },
  {
   "cell_type": "markdown",
   "metadata": {},
   "source": [
    "### Setting execution conditions"
   ]
  },
  {
   "cell_type": "code",
   "execution_count": null,
   "metadata": {},
   "outputs": [],
   "source": [
    "### Kaggle or Local-PC ###\n",
    "KAGGLE = True       # <==== SET ============\n",
    "if KAGGLE:\n",
    "    DIR = '../input/bengaliai-cv19'\n",
    "    DIRwork = '../input/mywork'\n",
    "else:               # local PC\n",
    "    DIR = './bengaliai-cv19'\n",
    "    DIRwork = './'"
   ]
  },
  {
   "cell_type": "code",
   "execution_count": null,
   "metadata": {},
   "outputs": [],
   "source": [
    "### Train or Predict ###\n",
    "TRAIN = False        # <==== SET ============\n",
    "# True : Do training (GPU time limit over), model save.\n",
    "# False: Load trained model and do prediction.\n",
    "\n",
    "if TRAIN:\n",
    "    print('==TRAIN mode==\\n Training Model takes several hours and does not meet the GPU time limit for competition.')\n",
    "else:\n",
    "    # Check file existence\n",
    "    if os.path.isfile(os.path.join(DIRwork,\"dense.h5\")) \\\n",
    "            and os.path.isfile(os.path.join(DIRwork,\"hist.csv\")):\n",
    "        print('==Not TRAIN mode (Predict only)==')\n",
    "    else:\n",
    "        print(\"==ERROR==\\n No 'Model file' and/or 'history file'.\\n Upload the files to '../input/bengaliai-cv19/mywork'.\")"
   ]
  },
  {
   "cell_type": "markdown",
   "metadata": {},
   "source": [
    "### Read Data Files"
   ]
  },
  {
   "cell_type": "code",
   "execution_count": null,
   "metadata": {},
   "outputs": [],
   "source": [
    "# read CSV files\n",
    "train_df = pd.read_csv(os.path.join(DIR,'train.csv'))\n",
    "test_df = pd.read_csv(os.path.join(DIR,'test.csv'))\n",
    "class_map_df = pd.read_csv(os.path.join(DIR,'class_map.csv'))\n",
    "sample_sub_df = pd.read_csv(os.path.join(DIR,'sample_submission.csv'))\n",
    "                            \n",
    "# read Parquet Format Image file (example)\n",
    "img_df = pd.read_parquet(os.path.join(DIR,'train_image_data_0.parquet'))"
   ]
  },
  {
   "cell_type": "code",
   "execution_count": null,
   "metadata": {},
   "outputs": [],
   "source": [
    "print(train_df.shape)\n",
    "train_df.head()"
   ]
  },
  {
   "cell_type": "code",
   "execution_count": null,
   "metadata": {},
   "outputs": [],
   "source": [
    "print(test_df.shape)\n",
    "test_df.head()"
   ]
  },
  {
   "cell_type": "code",
   "execution_count": null,
   "metadata": {},
   "outputs": [],
   "source": [
    "print(class_map_df.shape)\n",
    "class_map_df.head()"
   ]
  },
  {
   "cell_type": "code",
   "execution_count": null,
   "metadata": {},
   "outputs": [],
   "source": [
    "print(sample_sub_df.shape)\n",
    "sample_sub_df.head()"
   ]
  },
  {
   "cell_type": "code",
   "execution_count": null,
   "metadata": {},
   "outputs": [],
   "source": [
    "print(img_df.shape)\n",
    "img_df.head()"
   ]
  },
  {
   "cell_type": "markdown",
   "metadata": {},
   "source": [
    "`Column['0': '32331']` of img_df has flattened image size `137 * 236 (= 32332)`"
   ]
  },
  {
   "cell_type": "markdown",
   "metadata": {},
   "source": [
    "## Observe each data"
   ]
  },
  {
   "cell_type": "code",
   "execution_count": null,
   "metadata": {},
   "outputs": [],
   "source": [
    "# target columns\n",
    "tgt_cols = ['grapheme_root','vowel_diacritic','consonant_diacritic']"
   ]
  },
  {
   "cell_type": "code",
   "execution_count": null,
   "metadata": {},
   "outputs": [],
   "source": [
    "def get_top(tgt, n, top=True):\n",
    "    top_df = train_df.groupby([tgt]).size().reset_index(name='counts') \\\n",
    "                            ['counts'].sort_values(ascending=not top)[:n].copy()\n",
    "    top_ids = top_df.index\n",
    "    top_vals = top_df.values\n",
    "    \n",
    "    top_df = class_map_df.iloc[top_ids].copy()\n",
    "    top_df.drop(['component_type', 'label'], axis=1, inplace=True)\n",
    "    top_df['count'] = top_vals\n",
    "    return top_df"
   ]
  },
  {
   "cell_type": "code",
   "execution_count": null,
   "metadata": {},
   "outputs": [],
   "source": [
    "def disp_img(df, ids):\n",
    "    r_n = len(ids)  # character count\n",
    "    c_n = 5         # num of examples for each character\n",
    "    plt.figure()\n",
    "    fig, ax = plt.subplots(r_n, c_n, figsize=(12, 10))\n",
    "    for r, id in enumerate(ids[:r_n]):\n",
    "        sumple_ids = train_df[train_df['grapheme_root'] == id].index\n",
    "        for c, sumple_id in enumerate(sumple_ids[:c_n]):\n",
    "            flattened_image = df.iloc[sumple_id].drop('image_id').values.astype(np.uint8)\n",
    "            ax[r, c%c_n].imshow(flattened_image.reshape([137, 236]))\n",
    "            ax[r, c%c_n].set_title(str(id)+'(Train_'+str(sumple_id)+')')"
   ]
  },
  {
   "cell_type": "markdown",
   "metadata": {},
   "source": [
    "### Summarize training data"
   ]
  },
  {
   "cell_type": "code",
   "execution_count": null,
   "metadata": {},
   "outputs": [],
   "source": [
    "desc_df = train_df[tgt_cols].astype('str').describe()\n",
    "desc_df"
   ]
  },
  {
   "cell_type": "code",
   "execution_count": null,
   "metadata": {},
   "outputs": [],
   "source": [
    "# Number of unique types\n",
    "types = desc_df.loc['unique',:]"
   ]
  },
  {
   "cell_type": "markdown",
   "metadata": {},
   "source": [
    "### Top used Grapheme Root"
   ]
  },
  {
   "cell_type": "code",
   "execution_count": null,
   "metadata": {},
   "outputs": [],
   "source": [
    "top_roots = get_top('grapheme_root', 10)\n",
    "top_roots"
   ]
  },
  {
   "cell_type": "code",
   "execution_count": null,
   "metadata": {},
   "outputs": [],
   "source": [
    "# Top 5 example\n",
    "disp_img(img_df, top_roots.index[:5])"
   ]
  },
  {
   "cell_type": "markdown",
   "metadata": {},
   "source": [
    "### Top used Vowel Diacritic"
   ]
  },
  {
   "cell_type": "code",
   "execution_count": null,
   "metadata": {},
   "outputs": [],
   "source": [
    "top_vowels = get_top('vowel_diacritic', 10)\n",
    "top_vowels"
   ]
  },
  {
   "cell_type": "code",
   "execution_count": null,
   "metadata": {},
   "outputs": [],
   "source": [
    "# Top 5 example\n",
    "disp_img(img_df, top_vowels.index[:5])"
   ]
  },
  {
   "cell_type": "markdown",
   "metadata": {},
   "source": [
    "### Top used Consonant Diacritic"
   ]
  },
  {
   "cell_type": "code",
   "execution_count": null,
   "metadata": {},
   "outputs": [],
   "source": [
    "top_consonants = get_top('consonant_diacritic', 10)\n",
    "top_consonants"
   ]
  },
  {
   "cell_type": "code",
   "execution_count": null,
   "metadata": {},
   "outputs": [],
   "source": [
    "disp_img(img_df, top_consonants.index[:5])"
   ]
  },
  {
   "cell_type": "markdown",
   "metadata": {},
   "source": [
    "## Multi Output DenseNet Models\n",
    "Prepare DenceNet models with three-outputs (for 'grapheme root', 'vowel diacritic' and 'consonant_diacritic')"
   ]
  },
  {
   "cell_type": "code",
   "execution_count": null,
   "metadata": {},
   "outputs": [],
   "source": [
    "SIZE = 64    # input image size\n",
    "N_ch = 1"
   ]
  },
  {
   "cell_type": "code",
   "execution_count": null,
   "metadata": {},
   "outputs": [],
   "source": [
    "def build_densenet():\n",
    "    densenet = DenseNet121(weights='imagenet', include_top=False)\n",
    "\n",
    "    input = Input(shape=(SIZE, SIZE, N_ch))\n",
    "    x = Conv2D(3, (3, 3), padding='same')(input)\n",
    "    \n",
    "    x = densenet(x)\n",
    "    \n",
    "    x = GlobalAveragePooling2D()(x)\n",
    "    x = BatchNormalization()(x)\n",
    "    x = Dropout(0.5)(x)\n",
    "    x = Dense(256, activation='relu')(x)\n",
    "    x = BatchNormalization()(x)\n",
    "    x = Dropout(0.5)(x)\n",
    "\n",
    "    # multi output\n",
    "    grapheme_root = Dense(types['grapheme_root'],\n",
    "                          activation = 'softmax', name='root')(x)\n",
    "    vowel_diacritic = Dense(types['vowel_diacritic'],\n",
    "                            activation = 'softmax', name='vowel')(x)\n",
    "    consonant_diacritic = Dense(types['consonant_diacritic'],\n",
    "                                activation = 'softmax', name='consonant')(x)\n",
    "\n",
    "    # model\n",
    "    model = Model(input,\n",
    "                  [grapheme_root, vowel_diacritic, consonant_diacritic])\n",
    "    \n",
    "    return model"
   ]
  },
  {
   "cell_type": "markdown",
   "metadata": {},
   "source": [
    "Training Model takes several hours and does not meet the **GPU time limit** for competition. Therefore, this Karnel uses a pretrained-Model.<BR>If you want to Training yourself, set `TRAIN = True`."
   ]
  },
  {
   "cell_type": "code",
   "execution_count": null,
   "metadata": {},
   "outputs": [],
   "source": [
    "if TRAIN:\n",
    "    # build model\n",
    "    model = build_denseNet()\n",
    "    \n",
    "    # compile\n",
    "    model.compile(Adam(lr=0.002),\n",
    "              loss={'root': 'categorical_crossentropy',\n",
    "                    'vowel': 'categorical_crossentropy',\n",
    "                    'consonant': 'categorical_crossentropy'},\n",
    "              loss_weights={'root': 0.333,        ## Set weights\n",
    "                            'vowel': 0.333,\n",
    "                            'consonant': 0.333},\n",
    "              metrics={'root': 'accuracy',\n",
    "                       'vowel': 'accuracy',\n",
    "                       'consonant': 'accuracy'}\n",
    "             )\n",
    "else:\n",
    "    # Load pretrained-Model\n",
    "    model = load_model(os.path.join(DIRwork, 'dense.h5'))"
   ]
  },
  {
   "cell_type": "code",
   "execution_count": null,
   "metadata": {},
   "outputs": [],
   "source": [
    "model.summary()"
   ]
  },
  {
   "cell_type": "markdown",
   "metadata": {},
   "source": [
    "## Training\n",
    "### Prepare Training Data"
   ]
  },
  {
   "cell_type": "code",
   "execution_count": null,
   "metadata": {},
   "outputs": [],
   "source": [
    "# Clip horizontally\n",
    "def clip(img):\n",
    "    cols = np.any(img < 200, axis=0)\n",
    "    xleft, xright = np.where(cols)[0][[0, -1]]\n",
    "    width = xright - xleft\n",
    "    center = int((xleft + xright) / 2)\n",
    "    \n",
    "    if width < 137:\n",
    "        img = img[:, max(0, center - 70):min(center + 70, 236)]\n",
    "    else:\n",
    "        img = img[:, max(0, xleft - 2):min(xright + 2, 236)]\n",
    "        \n",
    "    return img"
   ]
  },
  {
   "cell_type": "code",
   "execution_count": null,
   "metadata": {},
   "outputs": [],
   "source": [
    "# Resize image size\n",
    "def resize(df, size=64):\n",
    "    resized = {}\n",
    "    for i in range(df.shape[0]):\n",
    "        img = clip(df.loc[df.index[i]].values.reshape(137,236))\n",
    "        image = cv2.resize(img,(size,size))\n",
    "        resized[df.index[i]] = image.reshape(-1)\n",
    "    resized_df = pd.DataFrame(resized).T\n",
    "    return resized_df"
   ]
  },
  {
   "cell_type": "code",
   "execution_count": null,
   "metadata": {},
   "outputs": [],
   "source": [
    "if TRAIN:\n",
    "    # prepare X\n",
    "    img_df = img_df.drop(['image_id'], axis = 1)\n",
    "    X_df = (resize(img_df, SIZE) / 255.).astype('float32')\n",
    "    del img_df\n",
    "    gc.collect()\n",
    "    for i in tqdm(range(1,4)):\n",
    "        img_df = pd.read_parquet(os.path.join(\n",
    "            DIR, 'train_image_data_'+str(i)+'.parquet'))\n",
    "        img_df = img_df.drop(['image_id'], axis = 1)\n",
    "        img_df = (resize(img_df, SIZE) / 255.).astype('float32')\n",
    "        X_df = pd.concat([X_df, img_df], axis = 0)\n",
    "        del img_df\n",
    "        gc.collect()\n",
    "    \n",
    "    X_train = X_df.values.reshape(-1, SIZE, SIZE, N_ch)\n",
    "    del X_df\n",
    "    gc.collect()"
   ]
  },
  {
   "cell_type": "code",
   "execution_count": null,
   "metadata": {},
   "outputs": [],
   "source": [
    "if TRAIN:\n",
    "    # prepare Y\n",
    "    train_df = train_df[tgt_cols].astype('uint8')\n",
    "    for col in tgt_cols:\n",
    "        train_df[col] = train_df[col].map('{:03}'.format)\n",
    "    Y_train = pd.get_dummies(train_df)\n",
    "\n",
    "    del train_df\n",
    "    gc.collect()"
   ]
  },
  {
   "cell_type": "code",
   "execution_count": null,
   "metadata": {},
   "outputs": [],
   "source": [
    "if TRAIN:\n",
    "    # Divide the data into train and val set\n",
    "    x_train, x_test, y_train, y_test = train_test_split(X_train, Y_train,\n",
    "                                                test_size=0.1, random_state=42)\n",
    "    y_train_root = y_train.iloc[:,0:types['grapheme_root']]\n",
    "    y_train_vowel = y_train.iloc[:,types['grapheme_root']:types['grapheme_root']+types['vowel_diacritic']]\n",
    "    y_train_consonant = y_train.iloc[:,types['grapheme_root']+types['vowel_diacritic']:]\n",
    "    y_test_root = y_test.iloc[:,0:types['grapheme_root']]\n",
    "    y_test_vowel = y_test.iloc[:,types['grapheme_root']:types['grapheme_root']+types['vowel_diacritic']]\n",
    "    y_test_consonant = y_test.iloc[:,types['grapheme_root']+types['vowel_diacritic']:]\n",
    "    \n",
    "    del X_train, Y_train\n",
    "    gc.collect()"
   ]
  },
  {
   "cell_type": "code",
   "execution_count": null,
   "metadata": {},
   "outputs": [],
   "source": [
    "print(time.time() - start_time,'[sec]')"
   ]
  },
  {
   "cell_type": "markdown",
   "metadata": {},
   "source": [
    "### Fit"
   ]
  },
  {
   "cell_type": "code",
   "execution_count": null,
   "metadata": {},
   "outputs": [],
   "source": [
    "batch_size = 128\n",
    "epochs = 30           ## set epochs"
   ]
  },
  {
   "cell_type": "code",
   "execution_count": null,
   "metadata": {},
   "outputs": [],
   "source": [
    "# Callback : Learning Rate annealer\n",
    "reduceLR = ReduceLROnPlateau(monitor = 'val_root_loss',\n",
    "                             patience = 2,\n",
    "                             factor = 0.5,\n",
    "                             min_lr = 1e-5,\n",
    "                             verbose = 1)\n",
    "# Callback : Save best model\n",
    "chkPoint = ModelCheckpoint('dense.h5',\n",
    "                           monitor = 'val_root_accuracy',\n",
    "                           save_best_only = True,\n",
    "                           save_weights_only = False,\n",
    "                           mode = 'auto',\n",
    "                           period = 1,\n",
    "                           verbose = 0)\n",
    "# Callback : Early Stop\n",
    "earlyStop = EarlyStopping(monitor='val_root_accuracy',\n",
    "                          mode = 'auto',\n",
    "                          patience = 4,\n",
    "                          min_delta = 0,\n",
    "                          verbose = 1)"
   ]
  },
  {
   "cell_type": "code",
   "execution_count": null,
   "metadata": {},
   "outputs": [],
   "source": [
    "if TRAIN:\n",
    "    history = model.fit(x_train,\n",
    "                    {'root': y_train_root,\n",
    "                     'vowel': y_train_vowel,\n",
    "                     'consonant': y_train_consonant},\n",
    "                    batch_size = batch_size,\n",
    "                    epochs = epochs,\n",
    "                    shuffle = True,\n",
    "                    validation_data = (x_test,\n",
    "                                       {'root': y_test_root,\n",
    "                                        'vowel': y_test_vowel,\n",
    "                                        'consonant': y_test_consonant}),\n",
    "                    callbacks = [reduceLR, chkPoint, earlyStop],\n",
    "                    verbose = 1)\n",
    "\n",
    "    del x_train, x_test, y_train, y_test\n",
    "    gc.collect()"
   ]
  },
  {
   "cell_type": "code",
   "execution_count": null,
   "metadata": {},
   "outputs": [],
   "source": [
    "if TRAIN:\n",
    "    df = pd.DataFrame(history.history)\n",
    "    df.to_csv('hist.csv',index=False)\n",
    "else:\n",
    "    df = pd.read_csv(os.path.join(DIRwork,'hist.csv'))\n",
    "    \n",
    "# Plot the loss and accuracy curves for training and validation \n",
    "fig, ax = plt.subplots(1, 2, figsize = (12, 4))\n",
    "\n",
    "ax[0].plot(df[['root_loss','vowel_loss','consonant_loss',\n",
    "               'val_root_loss','val_vowel_loss','val_consonant_loss']])\n",
    "ax[0].set_ylim(0, 2)\n",
    "ax[0].set_title('Loss')\n",
    "ax[0].legend(['train_root_loss','train_vowel_loss','train_conso_loss',\n",
    "              'val_root_loss','val_vowel_loss','val_conso_loss'],\n",
    "             loc='upper right')\n",
    "ax[0].grid()\n",
    "ax[1].plot(df[['root_acc','vowel_acc','consonant_acc',\n",
    "               'val_root_acc','val_vowel_acc','val_consonant_acc']])\n",
    "ax[1].set_ylim(0.5, 1)\n",
    "ax[1].set_title('Accuracy')\n",
    "ax[1].legend(['train_root_acc','train_vowel_acc','train_conso_acc',\n",
    "              'val_root_acc','val_vowel_acc','val_conso_acc'],\n",
    "             loc='lower right')\n",
    "ax[1].grid()"
   ]
  },
  {
   "cell_type": "code",
   "execution_count": null,
   "metadata": {},
   "outputs": [],
   "source": [
    "print(time.time() - start_time, '[sec]')"
   ]
  },
  {
   "cell_type": "markdown",
   "metadata": {},
   "source": [
    "## Predict and Submit"
   ]
  },
  {
   "cell_type": "code",
   "execution_count": null,
   "metadata": {},
   "outputs": [],
   "source": [
    "row_ids = []\n",
    "targets = []      # prediction result\n",
    "id = 0\n",
    "for i in range(4):\n",
    "    img_df = pd.read_parquet(os.path.join(\n",
    "                            DIR, 'test_image_data_'+str(i)+'.parquet'))\n",
    "    img_df = img_df.drop('image_id', axis = 1)\n",
    "    img_df = resize(img_df, SIZE) / 255.\n",
    "    X_test = img_df.values.reshape(-1, SIZE, SIZE, N_ch)\n",
    "\n",
    "    preds = model.predict(X_test)\n",
    "    for j in range(len(X_test)):\n",
    "        for k in range(3):\n",
    "            row_ids.append('Test_'+str(id)+'_'+tgt_cols[k])\n",
    "            targets.append(np.argmax(preds[k][j]))\n",
    "        id += 1"
   ]
  },
  {
   "cell_type": "code",
   "execution_count": null,
   "metadata": {},
   "outputs": [],
   "source": [
    "submit_df = pd.DataFrame({'row_id':row_ids,'target':targets},\n",
    "                         columns = ['row_id','target'])\n",
    "submit_df.head(10)"
   ]
  },
  {
   "cell_type": "code",
   "execution_count": null,
   "metadata": {},
   "outputs": [],
   "source": [
    "print(time.time() - start_time,'[sec]')"
   ]
  },
  {
   "cell_type": "code",
   "execution_count": null,
   "metadata": {},
   "outputs": [],
   "source": [
    "submit_df.to_csv('submission.csv',index=False)"
   ]
  }
 ],
 "metadata": {
  "kernelspec": {
   "display_name": "Python 3",
   "language": "python",
   "name": "python3"
  },
  "language_info": {
   "codemirror_mode": {
    "name": "ipython",
    "version": 3
   },
   "file_extension": ".py",
   "mimetype": "text/x-python",
   "name": "python",
   "nbconvert_exporter": "python",
   "pygments_lexer": "ipython3",
   "version": "3.6.9"
  }
 },
 "nbformat": 4,
 "nbformat_minor": 1
}
